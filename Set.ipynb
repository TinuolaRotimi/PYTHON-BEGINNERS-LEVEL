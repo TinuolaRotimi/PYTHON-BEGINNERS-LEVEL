{
 "cells": [
  {
   "cell_type": "markdown",
   "id": "98e22ed2-1e49-4722-8958-337cebd2ad84",
   "metadata": {},
   "source": [
    "# SET"
   ]
  },
  {
   "cell_type": "code",
   "execution_count": 2,
   "id": "f5bd88dc-33d8-4cff-bd2b-8cd509118f1b",
   "metadata": {},
   "outputs": [
    {
     "name": "stdout",
     "output_type": "stream",
     "text": [
      "(1, 2, 3, 4, 5)\n"
     ]
    }
   ],
   "source": [
    "set=(1,2,3,4,5)\n",
    "print(set)"
   ]
  },
  {
   "cell_type": "markdown",
   "id": "b97e2a33-3161-4602-a74e-13edc2fc0628",
   "metadata": {},
   "source": [
    "# looping through a set"
   ]
  },
  {
   "cell_type": "code",
   "execution_count": 9,
   "id": "6454b4aa-7493-44cb-a347-242634c68b4e",
   "metadata": {},
   "outputs": [
    {
     "name": "stdout",
     "output_type": "stream",
     "text": [
      "('red', 'blue', 'green')\n"
     ]
    }
   ],
   "source": [
    "x=(\"red\", \"blue\", \"green\")\n",
    "print(x)"
   ]
  },
  {
   "cell_type": "markdown",
   "id": "ca5b0cdd-e572-41cf-bb2b-a7830e53977b",
   "metadata": {},
   "source": [
    "# check if an item is in a set (set membership)"
   ]
  },
  {
   "cell_type": "code",
   "execution_count": 18,
   "id": "5b1ad432-b306-46d2-8ae4-77ad37373074",
   "metadata": {},
   "outputs": [
    {
     "name": "stdout",
     "output_type": "stream",
     "text": [
      "True\n",
      "False\n"
     ]
    }
   ],
   "source": [
    "x=(1,2,3,4,5,6,7)\n",
    "print(3 in x)\n",
    "print(10 in x)"
   ]
  },
  {
   "cell_type": "code",
   "execution_count": 41,
   "id": "100ece61-2497-48c6-a22f-c017387f4364",
   "metadata": {},
   "outputs": [
    {
     "data": {
      "text/plain": [
       "(1, 2, 3, 4, 5, 7)"
      ]
     },
     "execution_count": 41,
     "metadata": {},
     "output_type": "execute_result"
    }
   ],
   "source": [
    "myset=(1,2,3,4,5,7)\n",
    "myset"
   ]
  },
  {
   "cell_type": "code",
   "execution_count": 43,
   "id": "c40405b0-6945-4e52-8e2e-e6aa67b9b001",
   "metadata": {},
   "outputs": [
    {
     "data": {
      "text/plain": [
       "6"
      ]
     },
     "execution_count": 43,
     "metadata": {},
     "output_type": "execute_result"
    }
   ],
   "source": [
    "len(myset)"
   ]
  },
  {
   "cell_type": "code",
   "execution_count": 47,
   "id": "17869773-0c69-4d48-9b29-f1bab18c2133",
   "metadata": {},
   "outputs": [
    {
     "data": {
      "text/plain": [
       "{1, 2, 3, 4, 5, 6, 7}"
      ]
     },
     "execution_count": 47,
     "metadata": {},
     "output_type": "execute_result"
    }
   ],
   "source": [
    "myset={1,1,2,3,4,5,6,7}                  #duplicate elements are not allowed \n",
    "myset"
   ]
  },
  {
   "cell_type": "code",
   "execution_count": 49,
   "id": "0db71b1f-c729-4125-9b6d-e9a313aabf8b",
   "metadata": {},
   "outputs": [
    {
     "data": {
      "text/plain": [
       "{2.35, 5.43, 21.8, 32.9}"
      ]
     },
     "execution_count": 49,
     "metadata": {},
     "output_type": "execute_result"
    }
   ],
   "source": [
    "myset={2.35,5.43,32.9,21.8}        #float numbers\n",
    "myset"
   ]
  },
  {
   "cell_type": "code",
   "execution_count": 53,
   "id": "e233e3b5-afb4-45c5-8608-50b26ea446f5",
   "metadata": {},
   "outputs": [
    {
     "data": {
      "text/plain": [
       "{'daniel', 'rita', 'tinu', 'wumi'}"
      ]
     },
     "execution_count": 53,
     "metadata": {},
     "output_type": "execute_result"
    }
   ],
   "source": [
    "myset={'tinu','rita','daniel','wumi'}  #stringsm\n",
    "myset"
   ]
  },
  {
   "cell_type": "code",
   "execution_count": 59,
   "id": "094888b7-4354-4891-8f99-a1fd80e788dc",
   "metadata": {},
   "outputs": [
    {
     "data": {
      "text/plain": [
       "{(11, 22, 45, 67), 10, 20, 30, 'tinu'}"
      ]
     },
     "execution_count": 59,
     "metadata": {},
     "output_type": "execute_result"
    }
   ],
   "source": [
    "myset={10,20,30,'tinu', (11,22,45,67)}   #mixed datatypes\n",
    "myset"
   ]
  },
  {
   "cell_type": "markdown",
   "id": "d225e49a-bde1-4d01-954c-4a4ba4ae8196",
   "metadata": {},
   "source": [
    "# loop through a set"
   ]
  },
  {
   "cell_type": "code",
   "execution_count": 78,
   "id": "1755b1eb-8f6e-4b24-a39f-37f32fe3ea0f",
   "metadata": {},
   "outputs": [
    {
     "name": "stdout",
     "output_type": "stream",
     "text": [
      "rotimi\n",
      "glory\n",
      "tinu\n"
     ]
    }
   ],
   "source": [
    "myset={'tinu','rotimi','glory'}\n",
    "for item in myset:\n",
    "    print(item)"
   ]
  },
  {
   "cell_type": "code",
   "execution_count": 80,
   "id": "b72f6a78-dcd5-403b-bfca-c99541de65e8",
   "metadata": {},
   "outputs": [
    {
     "name": "stdout",
     "output_type": "stream",
     "text": [
      "1\n",
      "2\n",
      "3\n",
      "4\n",
      "5\n",
      "6\n",
      "7\n",
      "8\n",
      "9\n"
     ]
    }
   ],
   "source": [
    "myset={1,2,3,4,5,6,7,8,9}\n",
    "for item in myset:\n",
    "    print(item)"
   ]
  },
  {
   "cell_type": "markdown",
   "id": "d7eb6234-0879-41cf-ac97-ef45ac35c544",
   "metadata": {},
   "source": [
    "# set membership "
   ]
  },
  {
   "cell_type": "code",
   "execution_count": 83,
   "id": "7df548b8-1c0a-425d-9a82-925e3c3dfd22",
   "metadata": {},
   "outputs": [
    {
     "data": {
      "text/plain": [
       "{1, 2, 3, 4, 5, 6, 7, 8, 9}"
      ]
     },
     "execution_count": 83,
     "metadata": {},
     "output_type": "execute_result"
    }
   ],
   "source": [
    "myset"
   ]
  },
  {
   "cell_type": "code",
   "execution_count": 85,
   "id": "b6246078-5e11-48d8-a155-c0e26a1bdd92",
   "metadata": {},
   "outputs": [
    {
     "data": {
      "text/plain": [
       "True"
      ]
     },
     "execution_count": 85,
     "metadata": {},
     "output_type": "execute_result"
    }
   ],
   "source": [
    "1 in myset #check if 1 exist"
   ]
  },
  {
   "cell_type": "code",
   "execution_count": 87,
   "id": "91c8cf45-8c00-4c2d-98e2-4ada72870a0d",
   "metadata": {},
   "outputs": [
    {
     "data": {
      "text/plain": [
       "False"
      ]
     },
     "execution_count": 87,
     "metadata": {},
     "output_type": "execute_result"
    }
   ],
   "source": [
    "10 in myset # check if 10 exist"
   ]
  },
  {
   "cell_type": "markdown",
   "id": "cc410aaa-0f97-4cb7-857f-9816d2b49077",
   "metadata": {},
   "source": [
    "# set add"
   ]
  },
  {
   "cell_type": "code",
   "execution_count": 98,
   "id": "d13084f8-14b6-4ca4-bfe1-d12d5bb4a905",
   "metadata": {},
   "outputs": [
    {
     "data": {
      "text/plain": [
       "{1, 2, 3, 4, 5, 6, 7, 8, 9}"
      ]
     },
     "execution_count": 98,
     "metadata": {},
     "output_type": "execute_result"
    }
   ],
   "source": [
    "myset"
   ]
  },
  {
   "cell_type": "code",
   "execution_count": 100,
   "id": "a97cc287-b2a3-4dd3-8b8e-3bce4aa034ff",
   "metadata": {},
   "outputs": [
    {
     "data": {
      "text/plain": [
       "{1, 2, 3, 4, 5, 6, 7, 8, 9, 10}"
      ]
     },
     "execution_count": 100,
     "metadata": {},
     "output_type": "execute_result"
    }
   ],
   "source": [
    "myset.add(10)   #add 10\n",
    "myset"
   ]
  },
  {
   "cell_type": "code",
   "execution_count": 104,
   "id": "c23602e4-3dc7-4ae5-8d9a-d4f0072aceda",
   "metadata": {},
   "outputs": [
    {
     "data": {
      "text/plain": [
       "{1, 2, 3, 4, 5, 6, 7, 8, 9, 10, 11, 12, 13, 14}"
      ]
     },
     "execution_count": 104,
     "metadata": {},
     "output_type": "execute_result"
    }
   ],
   "source": [
    "myset.update([11,12,13,14]) #add multiple figures\n",
    "myset"
   ]
  },
  {
   "cell_type": "code",
   "execution_count": 106,
   "id": "eba0f56f-8bd3-4f34-addc-e8273f14cd37",
   "metadata": {},
   "outputs": [
    {
     "data": {
      "text/plain": [
       "{1, 2, 3, 4, 5, 7, 8, 9, 10, 11, 12, 13, 14}"
      ]
     },
     "execution_count": 106,
     "metadata": {},
     "output_type": "execute_result"
    }
   ],
   "source": [
    "myset.remove(6) #remove elements from the set\n",
    "myset"
   ]
  },
  {
   "cell_type": "code",
   "execution_count": 108,
   "id": "d5821cff-ebe0-465d-ad83-b3440f633548",
   "metadata": {},
   "outputs": [
    {
     "data": {
      "text/plain": [
       "{1, 2, 3, 4, 5, 8, 9, 10, 11, 12, 13, 14}"
      ]
     },
     "execution_count": 108,
     "metadata": {},
     "output_type": "execute_result"
    }
   ],
   "source": [
    "myset.discard(7) #remove elements from the set\n",
    "myset"
   ]
  },
  {
   "cell_type": "code",
   "execution_count": 110,
   "id": "49f76909-9288-41e6-ab9b-a9b7ef31a2ff",
   "metadata": {},
   "outputs": [
    {
     "data": {
      "text/plain": [
       "set()"
      ]
     },
     "execution_count": 110,
     "metadata": {},
     "output_type": "execute_result"
    }
   ],
   "source": [
    "myset.clear()\n",
    "myset"
   ]
  },
  {
   "cell_type": "markdown",
   "id": "ece10d91-58b3-4a6f-97cf-fbab7c85e296",
   "metadata": {},
   "source": [
    "# set operations"
   ]
  },
  {
   "cell_type": "markdown",
   "id": "175743ec-a5ec-4f61-96b1-32a9fca34476",
   "metadata": {},
   "source": [
    "# Union ( combine all elements from both set)"
   ]
  },
  {
   "cell_type": "code",
   "execution_count": 114,
   "id": "0bd03060-f886-4d98-a071-73435a183089",
   "metadata": {},
   "outputs": [
    {
     "name": "stdout",
     "output_type": "stream",
     "text": [
      "{1, 2, 3, 4, 5, 6, 7, 8, 9, 10}\n"
     ]
    }
   ],
   "source": [
    "a={1,2,3,4,5,6}\n",
    "b={7,8,9,10}\n",
    "print(a|b)"
   ]
  },
  {
   "cell_type": "code",
   "execution_count": 116,
   "id": "58ee3114-d280-475d-be5f-c4640ac45945",
   "metadata": {},
   "outputs": [
    {
     "name": "stdout",
     "output_type": "stream",
     "text": [
      "{1, 2, 3, 4, 5, 6, 7, 8, 9, 10, 11, 12, 14, 15, 23}\n"
     ]
    }
   ],
   "source": [
    "a={1,2,3,4,5,6}\n",
    "b={7,8,9,10}\n",
    "c={11,12,23,14,15}\n",
    "print(a|b|c)"
   ]
  },
  {
   "cell_type": "code",
   "execution_count": 120,
   "id": "40d0756d-2e61-4bc0-a5c5-81ff11878115",
   "metadata": {},
   "outputs": [
    {
     "name": "stdout",
     "output_type": "stream",
     "text": [
      "{1, 2, 3, 4, 5, 6, 7, 8, 9, 10, 11, 12, 14, 15, 16, 17, 18, 19, 20, 21, 22, 23}\n"
     ]
    }
   ],
   "source": [
    "a={1,2,3,4,5,6}\n",
    "b={7,8,9,10}\n",
    "c={11,12,23,14,15}\n",
    "d={16,17,18,19,20,21,22}\n",
    "print(a|b|c|d)"
   ]
  },
  {
   "cell_type": "markdown",
   "id": "26bd4971-0eae-4665-b1bc-5342329c872a",
   "metadata": {},
   "source": [
    "# intersection ( finds common elements between two sets)"
   ]
  },
  {
   "cell_type": "code",
   "execution_count": 125,
   "id": "64b15276-1589-469e-84a1-0ceb839ab3fb",
   "metadata": {},
   "outputs": [
    {
     "name": "stdout",
     "output_type": "stream",
     "text": [
      "{5}\n"
     ]
    }
   ],
   "source": [
    "a={1,2,3,4,5,6}\n",
    "b={5,7,8,9,10}\n",
    "print(a&b)"
   ]
  },
  {
   "cell_type": "code",
   "execution_count": 129,
   "id": "cc9258af-76ca-4cdb-80b7-e541c5550cde",
   "metadata": {},
   "outputs": [
    {
     "name": "stdout",
     "output_type": "stream",
     "text": [
      "{5, 6, 7}\n"
     ]
    }
   ],
   "source": [
    "a={1,2,3,4,5,6,7}\n",
    "b={5,6,7,8,9,10}\n",
    "print(a&b)"
   ]
  },
  {
   "cell_type": "markdown",
   "id": "806e47e6-0904-4119-bbca-6dd71c63dd93",
   "metadata": {},
   "source": [
    "# difference ( in A but not in B)"
   ]
  },
  {
   "cell_type": "code",
   "execution_count": 132,
   "id": "68b0dbc2-2022-4116-ae32-db4766ef3475",
   "metadata": {},
   "outputs": [
    {
     "name": "stdout",
     "output_type": "stream",
     "text": [
      "{1, 2, 3, 4, 5, 6}\n"
     ]
    }
   ],
   "source": [
    "a={1,2,3,4,5,6}\n",
    "b={7,8,9,10}\n",
    "print(a-b)"
   ]
  },
  {
   "cell_type": "code",
   "execution_count": 114,
   "id": "ae1c231c-d4aa-4998-beed-973c3280898a",
   "metadata": {},
   "outputs": [
    {
     "name": "stdout",
     "output_type": "stream",
     "text": [
      "{1, 2, 3, 4, 5, 6, 7, 8, 9, 10}\n"
     ]
    }
   ],
   "source": [
    "a={1,2,3,4,5,6}\n",
    "b={7,8,9,10}\n",
    "print(a|b)"
   ]
  },
  {
   "cell_type": "markdown",
   "id": "13548ea1-4f36-4f5e-a949-f16020000a2e",
   "metadata": {},
   "source": [
    "# symmetric difference (in either set but not in both)"
   ]
  },
  {
   "cell_type": "code",
   "execution_count": 137,
   "id": "8633daf7-d64f-4ac9-89bd-3437f63cac98",
   "metadata": {},
   "outputs": [
    {
     "name": "stdout",
     "output_type": "stream",
     "text": [
      "{1, 2, 3, 4, 5, 6, 7, 8, 9, 10}\n"
     ]
    }
   ],
   "source": [
    "a={1,2,3,4,5,6}\n",
    "b={7,8,9,10}\n",
    "print(a^b)"
   ]
  },
  {
   "cell_type": "markdown",
   "id": "687c9235-59a9-49d6-a3ca-ce5af5a8f562",
   "metadata": {},
   "source": [
    "a={1,2,3,4,5,6}\n",
    "b={5,6,7,8,9,10}\n",
    "print(a^b)"
   ]
  },
  {
   "cell_type": "markdown",
   "id": "0554f268-eae8-4354-8204-f80f9f4e64d1",
   "metadata": {},
   "source": [
    "# subset(check if all elements of a exist in b)"
   ]
  },
  {
   "cell_type": "code",
   "execution_count": 145,
   "id": "d3ff63fc-b76b-438e-9aa9-256c0a000c84",
   "metadata": {},
   "outputs": [
    {
     "name": "stdout",
     "output_type": "stream",
     "text": [
      "False\n"
     ]
    }
   ],
   "source": [
    "a={1,2,3,4,5,6}\n",
    "b={7,8,9,10}\n",
    "print(a<=b)"
   ]
  },
  {
   "cell_type": "code",
   "execution_count": 147,
   "id": "3790774e-3150-4f7a-bbbf-de392b57fa47",
   "metadata": {},
   "outputs": [
    {
     "name": "stdout",
     "output_type": "stream",
     "text": [
      "True\n"
     ]
    }
   ],
   "source": [
    "a={1,2,3}\n",
    "b={1,2,3,7,8,9,10}\n",
    "print(a<=b)"
   ]
  },
  {
   "cell_type": "markdown",
   "id": "82689302-d5d9-45a9-80e3-9ab89061e5bc",
   "metadata": {},
   "source": [
    "# superset ( check if all elements of b exist in a)"
   ]
  },
  {
   "cell_type": "code",
   "execution_count": 152,
   "id": "364d9485-acf4-43fb-9691-c8ee3382cd9f",
   "metadata": {},
   "outputs": [
    {
     "name": "stdout",
     "output_type": "stream",
     "text": [
      "True\n"
     ]
    }
   ],
   "source": [
    "a={1,2,3,4,5,6}\n",
    "b={1,2,3}\n",
    "print(a>=b)"
   ]
  },
  {
   "cell_type": "code",
   "execution_count": 154,
   "id": "89b2b91a-3cb1-4796-97be-e477e423e62f",
   "metadata": {},
   "outputs": [
    {
     "name": "stdout",
     "output_type": "stream",
     "text": [
      "False\n"
     ]
    }
   ],
   "source": [
    "a={1,2,3,4,5,6}\n",
    "b={7,8,9,10}\n",
    "print(a>=b)"
   ]
  },
  {
   "cell_type": "markdown",
   "id": "ea011455-1fef-4796-b263-5678e0dfa81c",
   "metadata": {},
   "source": [
    "# disjoint ( check if set has no common element)"
   ]
  },
  {
   "cell_type": "code",
   "execution_count": 164,
   "id": "1abe140c-3ee2-428f-a2b0-dfae1eaad238",
   "metadata": {},
   "outputs": [
    {
     "name": "stdout",
     "output_type": "stream",
     "text": [
      "True\n"
     ]
    }
   ],
   "source": [
    "a={1,2,3,4,5,6}\n",
    "b={7,8,9,10}\n",
    "print(a.isdisjoint(b))"
   ]
  },
  {
   "cell_type": "code",
   "execution_count": 169,
   "id": "21743258-cfcc-4045-8e78-3a674a3afb73",
   "metadata": {},
   "outputs": [
    {
     "name": "stdout",
     "output_type": "stream",
     "text": [
      "False\n"
     ]
    }
   ],
   "source": [
    "a={1,2,3,4,5,6}\n",
    "b={1,2,7,8,9,10}\n",
    "print(a.isdisjoint(b))"
   ]
  }
 ],
 "metadata": {
  "kernelspec": {
   "display_name": "Python [conda env:base] *",
   "language": "python",
   "name": "conda-base-py"
  },
  "language_info": {
   "codemirror_mode": {
    "name": "ipython",
    "version": 3
   },
   "file_extension": ".py",
   "mimetype": "text/x-python",
   "name": "python",
   "nbconvert_exporter": "python",
   "pygments_lexer": "ipython3",
   "version": "3.12.7"
  }
 },
 "nbformat": 4,
 "nbformat_minor": 5
}
