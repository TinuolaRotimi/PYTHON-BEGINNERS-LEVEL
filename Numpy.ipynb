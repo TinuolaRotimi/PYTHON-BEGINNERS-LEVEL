{
 "cells": [
  {
   "cell_type": "code",
   "execution_count": 4,
   "id": "f0ae16ca-fb69-4d8c-ace4-bd263d5394ac",
   "metadata": {},
   "outputs": [],
   "source": [
    "import numpy as np\n",
    "npp=np.nan"
   ]
  },
  {
   "cell_type": "code",
   "execution_count": 6,
   "id": "c5eb6be6-3560-4b61-a51c-b27592d8ebae",
   "metadata": {},
   "outputs": [
    {
     "data": {
      "text/plain": [
       "float"
      ]
     },
     "execution_count": 6,
     "metadata": {},
     "output_type": "execute_result"
    }
   ],
   "source": [
    "type(npp)"
   ]
  },
  {
   "cell_type": "markdown",
   "id": "71e05b96-49ff-42f3-a850-664adda9fb94",
   "metadata": {},
   "source": [
    "# HOW TO CREATE BASIC ARRAY"
   ]
  },
  {
   "cell_type": "markdown",
   "id": "85d2f932-e955-401c-8d82-228b3e682c55",
   "metadata": {},
   "source": [
    "# 1D ARRAY"
   ]
  },
  {
   "cell_type": "code",
   "execution_count": 13,
   "id": "7af913d3-f87c-4782-9658-5d07a8c275ad",
   "metadata": {},
   "outputs": [],
   "source": [
    "import numpy as np\n",
    "npp=np.nan"
   ]
  },
  {
   "cell_type": "code",
   "execution_count": 15,
   "id": "20c5225d-9add-45cf-95f9-3e06324ebfaf",
   "metadata": {},
   "outputs": [
    {
     "name": "stdout",
     "output_type": "stream",
     "text": [
      "[1 2 3 4 5 6 7]\n"
     ]
    }
   ],
   "source": [
    "arr1=np.array([1,2,3,4,5,6,7])\n",
    "print(arr1)"
   ]
  },
  {
   "cell_type": "code",
   "execution_count": 17,
   "id": "5fb440e2-ec3d-40e7-81aa-68312d6c4cc9",
   "metadata": {},
   "outputs": [
    {
     "data": {
      "text/plain": [
       "array([10, 20, 30, 40, 50])"
      ]
     },
     "execution_count": 17,
     "metadata": {},
     "output_type": "execute_result"
    }
   ],
   "source": [
    "arr1=np.array([10,20,30,40,50])\n",
    "arr1"
   ]
  },
  {
   "cell_type": "markdown",
   "id": "f84df032-b361-4a18-9b65-98a8111817b9",
   "metadata": {},
   "source": [
    "# 2D ARRAY"
   ]
  },
  {
   "cell_type": "code",
   "execution_count": 39,
   "id": "9b21b8cb-9a0f-4d64-8aae-29a16d99c514",
   "metadata": {},
   "outputs": [
    {
     "name": "stdout",
     "output_type": "stream",
     "text": [
      "[[ 1  2  3  4  5]\n",
      " [ 6  7  8  9 10]]\n"
     ]
    }
   ],
   "source": [
    "arr2=np.array([[1,2,3,4,5], [6,7,8,9,10]])\n",
    "print(arr2)"
   ]
  },
  {
   "cell_type": "markdown",
   "id": "3b1d463c-26f5-4777-bf9b-2c02ed506b5e",
   "metadata": {},
   "source": [
    "# 3D ARRAY"
   ]
  },
  {
   "cell_type": "code",
   "execution_count": 135,
   "id": "8724f177-8829-4d28-99ff-64dcef28d6bb",
   "metadata": {},
   "outputs": [
    {
     "name": "stdout",
     "output_type": "stream",
     "text": [
      "[[[ 1  2  3  4]\n",
      "  [ 5  6  7  8]]\n",
      "\n",
      " [[ 9 10 11 12]\n",
      "  [12 13 14 15]]]\n"
     ]
    }
   ],
   "source": [
    "arr3=np.array([[[1,2,3,4], [5,6,7,8]], [[9,10,11,12],[12,13,14,15]]])\n",
    "print(arr3)"
   ]
  },
  {
   "cell_type": "raw",
   "id": "5194e3cf-9cbe-4148-80d7-05587f269236",
   "metadata": {},
   "source": []
  },
  {
   "cell_type": "markdown",
   "id": "a82f50bc-ab40-4aef-b00e-29a4744382a2",
   "metadata": {},
   "source": [
    "# adding a single element"
   ]
  },
  {
   "cell_type": "code",
   "execution_count": 52,
   "id": "300857c0-6e80-4c92-89fb-0eea066f57b6",
   "metadata": {},
   "outputs": [
    {
     "data": {
      "text/plain": [
       "array([10, 20, 30, 40, 50])"
      ]
     },
     "execution_count": 52,
     "metadata": {},
     "output_type": "execute_result"
    }
   ],
   "source": [
    "arr=np.array([10,20,30,40,50])\n",
    "arr"
   ]
  },
  {
   "cell_type": "code",
   "execution_count": 72,
   "id": "59071c52-5ad9-4447-b9ad-10963df09642",
   "metadata": {},
   "outputs": [
    {
     "data": {
      "text/plain": [
       "array(['10', '20', '30', '40', '50', 'tinu'], dtype='<U11')"
      ]
     },
     "execution_count": 72,
     "metadata": {},
     "output_type": "execute_result"
    }
   ],
   "source": [
    "arr=np.array([10,20,30,40,50, 'tinu'])\n",
    "arr"
   ]
  },
  {
   "cell_type": "code",
   "execution_count": 56,
   "id": "34afb3c9-2b43-4380-9b37-b4201276207e",
   "metadata": {},
   "outputs": [
    {
     "data": {
      "text/plain": [
       "array([10, 20, 30, 40, 50, 60])"
      ]
     },
     "execution_count": 56,
     "metadata": {},
     "output_type": "execute_result"
    }
   ],
   "source": [
    "new_arr=np.append(arr,60)\n",
    "new_arr"
   ]
  },
  {
   "cell_type": "markdown",
   "id": "b53af416-c2f3-4376-9ab7-73150addc8f2",
   "metadata": {},
   "source": [
    "# adding multiple element"
   ]
  },
  {
   "cell_type": "code",
   "execution_count": 58,
   "id": "2dca265e-179b-4f23-a927-5dece77a8d9a",
   "metadata": {},
   "outputs": [
    {
     "data": {
      "text/plain": [
       "array([10, 20, 30, 40, 50, 70, 80, 90])"
      ]
     },
     "execution_count": 58,
     "metadata": {},
     "output_type": "execute_result"
    }
   ],
   "source": [
    "new_arr=np.append(arr,[70,80,90])\n",
    "new_arr"
   ]
  },
  {
   "cell_type": "markdown",
   "id": "ebddd61b-ab1e-4775-9804-2d2e4c11400e",
   "metadata": {},
   "source": [
    "# adding to a specific index"
   ]
  },
  {
   "cell_type": "code",
   "execution_count": 62,
   "id": "d9e96331-3fb7-4f6b-9f60-c1cdc67646eb",
   "metadata": {},
   "outputs": [
    {
     "data": {
      "text/plain": [
       "array([10, 15, 20, 30, 40, 50])"
      ]
     },
     "execution_count": 62,
     "metadata": {},
     "output_type": "execute_result"
    }
   ],
   "source": [
    "new_arr=np.insert(arr,1,15)\n",
    "new_arr"
   ]
  },
  {
   "cell_type": "markdown",
   "id": "1166e8d2-0a4a-4494-a4b2-37b9d0e01d9f",
   "metadata": {},
   "source": [
    "# removing elements from an array"
   ]
  },
  {
   "cell_type": "code",
   "execution_count": 69,
   "id": "6280ca42-e910-45b6-9d68-25e9954add17",
   "metadata": {},
   "outputs": [
    {
     "data": {
      "text/plain": [
       "array([10, 20, 40, 50])"
      ]
     },
     "execution_count": 69,
     "metadata": {},
     "output_type": "execute_result"
    }
   ],
   "source": [
    "new_arr=np.delete(arr,2)\n",
    "new_arr"
   ]
  },
  {
   "cell_type": "markdown",
   "id": "bfff3085-01dd-44c9-b691-8e231d37d096",
   "metadata": {},
   "source": [
    "# sorting an array"
   ]
  },
  {
   "cell_type": "markdown",
   "id": "a9575e0b-341e-40e8-be02-311178a9c4b1",
   "metadata": {},
   "source": [
    "# sorting numbers"
   ]
  },
  {
   "cell_type": "code",
   "execution_count": 80,
   "id": "0af2881e-4656-4072-943b-e65baa8c7044",
   "metadata": {},
   "outputs": [
    {
     "data": {
      "text/plain": [
       "array([20,  5, 15, 30, 25, 34, 78, 54, 93, 23, 51, 17, 39])"
      ]
     },
     "execution_count": 80,
     "metadata": {},
     "output_type": "execute_result"
    }
   ],
   "source": [
    "arr=np.array([20,5,15,30,25,34,78,54,93,23,51,17,39])\n",
    "arr"
   ]
  },
  {
   "cell_type": "code",
   "execution_count": 82,
   "id": "ce20850a-2d0c-44ae-84f6-35e0cc44af59",
   "metadata": {},
   "outputs": [
    {
     "data": {
      "text/plain": [
       "array([ 5, 15, 17, 20, 23, 25, 30, 34, 39, 51, 54, 78, 93])"
      ]
     },
     "execution_count": 82,
     "metadata": {},
     "output_type": "execute_result"
    }
   ],
   "source": [
    "sorted_arr=np.sort(arr)\n",
    "sorted_arr"
   ]
  },
  {
   "cell_type": "markdown",
   "id": "e7e21efb-a8ea-42a7-8ce3-71b5bc726067",
   "metadata": {},
   "source": [
    "# sorting strings"
   ]
  },
  {
   "cell_type": "code",
   "execution_count": 89,
   "id": "2bd9a625-57e9-4b50-ae44-c6b7dc2f7cb0",
   "metadata": {},
   "outputs": [
    {
     "data": {
      "text/plain": [
       "array(['gum', 'apple', 'ball', 'yam', 'tinu'], dtype='<U5')"
      ]
     },
     "execution_count": 89,
     "metadata": {},
     "output_type": "execute_result"
    }
   ],
   "source": [
    "arr=np.array(['gum','apple','ball','yam','tinu'])\n",
    "arr"
   ]
  },
  {
   "cell_type": "code",
   "execution_count": 91,
   "id": "4d997f67-f581-4bb0-ae45-a56d45159cbd",
   "metadata": {},
   "outputs": [
    {
     "data": {
      "text/plain": [
       "array(['apple', 'ball', 'gum', 'tinu', 'yam'], dtype='<U5')"
      ]
     },
     "execution_count": 91,
     "metadata": {},
     "output_type": "execute_result"
    }
   ],
   "source": [
    "sorted_arr=np.sort(arr)\n",
    "sorted_arr"
   ]
  },
  {
   "cell_type": "markdown",
   "id": "11ee9fd7-0d7a-4333-88c8-2d85c1d7abff",
   "metadata": {},
   "source": [
    "# sorting a 2D array"
   ]
  },
  {
   "cell_type": "code",
   "execution_count": 109,
   "id": "26861ab5-72e2-402f-9153-1a890a02cb32",
   "metadata": {},
   "outputs": [
    {
     "data": {
      "text/plain": [
       "array([[ 2,  1,  3,  5,  4],\n",
       "       [10,  8,  4,  3,  2]])"
      ]
     },
     "execution_count": 109,
     "metadata": {},
     "output_type": "execute_result"
    }
   ],
   "source": [
    "arr=np.array([[2,1,3,5,4], [10,8,4,3,2]])\n",
    "arr"
   ]
  },
  {
   "cell_type": "code",
   "execution_count": 111,
   "id": "4d50da98-6b97-4071-8327-f45f00070750",
   "metadata": {},
   "outputs": [
    {
     "data": {
      "text/plain": [
       "array([[ 1,  2,  3,  4,  5],\n",
       "       [ 2,  3,  4,  8, 10]])"
      ]
     },
     "execution_count": 111,
     "metadata": {},
     "output_type": "execute_result"
    }
   ],
   "source": [
    "sorted_arr=np.sort(arr)\n",
    "sorted_arr"
   ]
  },
  {
   "cell_type": "markdown",
   "id": "cbc7a803-e3e6-41b6-8a0f-9f5ffff813ee",
   "metadata": {},
   "source": [
    "# checking the shape and size of an array"
   ]
  },
  {
   "cell_type": "markdown",
   "id": "3361c9b0-0ab3-4763-9ca3-57228acba6e7",
   "metadata": {},
   "source": [
    "# 1D"
   ]
  },
  {
   "cell_type": "code",
   "execution_count": 114,
   "id": "63eb7287-acaa-4e28-b678-e47e2f0d8c37",
   "metadata": {},
   "outputs": [
    {
     "data": {
      "text/plain": [
       "array([20,  5, 15, 30, 25, 34, 78, 54, 93, 23, 51, 17, 39])"
      ]
     },
     "execution_count": 114,
     "metadata": {},
     "output_type": "execute_result"
    }
   ],
   "source": [
    "arr=np.array([20,5,15,30,25,34,78,54,93,23,51,17,39])\n",
    "arr"
   ]
  },
  {
   "cell_type": "code",
   "execution_count": 116,
   "id": "13f8dbc2-9472-45f0-af35-03db3d1a4be2",
   "metadata": {},
   "outputs": [
    {
     "data": {
      "text/plain": [
       "(13,)"
      ]
     },
     "execution_count": 116,
     "metadata": {},
     "output_type": "execute_result"
    }
   ],
   "source": [
    "arr.shape"
   ]
  },
  {
   "cell_type": "markdown",
   "id": "4f9d8684-cb09-4090-973e-44f5f56b9dd6",
   "metadata": {},
   "source": [
    "# 2D"
   ]
  },
  {
   "cell_type": "code",
   "execution_count": 122,
   "id": "42f016b6-fbe8-4b5c-9fed-cb410ef4d80f",
   "metadata": {},
   "outputs": [
    {
     "data": {
      "text/plain": [
       "array([[ 2,  1,  3],\n",
       "       [10,  8,  4]])"
      ]
     },
     "execution_count": 122,
     "metadata": {},
     "output_type": "execute_result"
    }
   ],
   "source": [
    "arr=np.array([[2,1,3], [10,8,4]])\n",
    "arr"
   ]
  },
  {
   "cell_type": "code",
   "execution_count": 124,
   "id": "42ec7f77-cd8f-40c3-9445-c036de615660",
   "metadata": {},
   "outputs": [
    {
     "data": {
      "text/plain": [
       "(2, 3)"
      ]
     },
     "execution_count": 124,
     "metadata": {},
     "output_type": "execute_result"
    }
   ],
   "source": [
    "arr.shape"
   ]
  },
  {
   "cell_type": "markdown",
   "id": "4546c447-1301-4a31-b7b8-2465e304abb3",
   "metadata": {},
   "source": [
    "# 3D"
   ]
  },
  {
   "cell_type": "code",
   "execution_count": 137,
   "id": "283e0d7f-7ac2-4374-9219-4ffd63e3b471",
   "metadata": {},
   "outputs": [
    {
     "name": "stdout",
     "output_type": "stream",
     "text": [
      "[[[ 1  2  3  4]\n",
      "  [ 5  6  7  8]]\n",
      "\n",
      " [[ 9 10 11 12]\n",
      "  [12 13 14 15]]]\n"
     ]
    }
   ],
   "source": [
    "arr3=np.array([[[1,2,3,4], [5,6,7,8]], [[9,10,11,12],[12,13,14,15]]])\n",
    "print(arr3)"
   ]
  },
  {
   "cell_type": "code",
   "execution_count": 139,
   "id": "0303fd9b-2537-461a-8c05-8c7aece7d8c0",
   "metadata": {},
   "outputs": [
    {
     "data": {
      "text/plain": [
       "(2, 3)"
      ]
     },
     "execution_count": 139,
     "metadata": {},
     "output_type": "execute_result"
    }
   ],
   "source": [
    "arr.shape"
   ]
  },
  {
   "cell_type": "markdown",
   "id": "d5efdbc8-f269-4b5d-9a37-8826b4e526b8",
   "metadata": {},
   "source": [
    "# checking the size of an array"
   ]
  },
  {
   "cell_type": "code",
   "execution_count": 143,
   "id": "51d293b1-62a3-4977-b3b0-cb771495e09c",
   "metadata": {},
   "outputs": [
    {
     "data": {
      "text/plain": [
       "array([20,  5, 15, 30, 25, 34, 78, 54, 93, 23, 51, 17, 39])"
      ]
     },
     "execution_count": 143,
     "metadata": {},
     "output_type": "execute_result"
    }
   ],
   "source": [
    "arr=np.array([20,5,15,30,25,34,78,54,93,23,51,17,39])\n",
    "arr"
   ]
  },
  {
   "cell_type": "code",
   "execution_count": 145,
   "id": "9ccb2658-af40-474f-9b23-941e6f50111b",
   "metadata": {},
   "outputs": [
    {
     "data": {
      "text/plain": [
       "13"
      ]
     },
     "execution_count": 145,
     "metadata": {},
     "output_type": "execute_result"
    }
   ],
   "source": [
    "arr.size"
   ]
  },
  {
   "cell_type": "markdown",
   "id": "374cf496-2c86-4e8c-aca9-c6229205251d",
   "metadata": {},
   "source": [
    "# reshaping an array"
   ]
  },
  {
   "cell_type": "code",
   "execution_count": 152,
   "id": "174251db-109e-4eb2-adcf-8dfcf89e4af1",
   "metadata": {},
   "outputs": [
    {
     "data": {
      "text/plain": [
       "array([20,  5, 15, 30, 25, 34, 78, 54, 93, 23, 51, 17, 39, 16])"
      ]
     },
     "execution_count": 152,
     "metadata": {},
     "output_type": "execute_result"
    }
   ],
   "source": [
    "arr=np.array([20,5,15,30,25,34,78,54,93,23,51,17,39,16])\n",
    "arr"
   ]
  },
  {
   "cell_type": "code",
   "execution_count": 160,
   "id": "a2d5ad6a-4f7d-4683-9f04-0c9c17954131",
   "metadata": {},
   "outputs": [
    {
     "data": {
      "text/plain": [
       "array([[20,  5],\n",
       "       [15, 30],\n",
       "       [25, 34],\n",
       "       [78, 54],\n",
       "       [93, 23],\n",
       "       [51, 17],\n",
       "       [39, 16]])"
      ]
     },
     "execution_count": 160,
     "metadata": {},
     "output_type": "execute_result"
    }
   ],
   "source": [
    "arr.reshape(7,2)"
   ]
  },
  {
   "cell_type": "code",
   "execution_count": 170,
   "id": "8dbfeecc-95b3-4e6f-9ef9-5d72ea7464fa",
   "metadata": {},
   "outputs": [
    {
     "data": {
      "text/plain": [
       "array([20,  5, 15, 30, 25, 34, 78, 54, 93, 23, 51, 17, 39, 16, 87, 45, 23,\n",
       "       78, 56, 12, 13, 15, 17, 18, 19, 76, 54])"
      ]
     },
     "execution_count": 170,
     "metadata": {},
     "output_type": "execute_result"
    }
   ],
   "source": [
    "arr=np.array([20,5,15,30,25,34,78,54,93,23,51,17,39,16,87,45,23,78,56,12,13,15,17,18,19,76,54])\n",
    "arr"
   ]
  },
  {
   "cell_type": "code",
   "execution_count": 177,
   "id": "3b091221-eae5-449b-8c82-22e6f86e4926",
   "metadata": {},
   "outputs": [
    {
     "data": {
      "text/plain": [
       "array([[[20,  5, 15],\n",
       "        [30, 25, 34],\n",
       "        [78, 54, 93]],\n",
       "\n",
       "       [[23, 51, 17],\n",
       "        [39, 16, 87],\n",
       "        [45, 23, 78]],\n",
       "\n",
       "       [[56, 12, 13],\n",
       "        [15, 17, 18],\n",
       "        [19, 76, 54]]])"
      ]
     },
     "execution_count": 177,
     "metadata": {},
     "output_type": "execute_result"
    }
   ],
   "source": [
    "arr.reshape(3,3,3)"
   ]
  },
  {
   "cell_type": "markdown",
   "id": "68cca1f1-173c-4368-8b4e-d1a3f86914eb",
   "metadata": {},
   "source": [
    "# convert a 1D array into 2D"
   ]
  },
  {
   "cell_type": "code",
   "execution_count": 183,
   "id": "68f64365-4f0a-4365-a4cb-4b08a41f7630",
   "metadata": {},
   "outputs": [
    {
     "data": {
      "text/plain": [
       "array([20,  5, 15, 30, 25, 34, 78, 54, 93, 23, 51, 17, 39, 16, 87, 45, 23,\n",
       "       78, 56, 12, 13, 15, 17, 18, 19, 76])"
      ]
     },
     "execution_count": 183,
     "metadata": {},
     "output_type": "execute_result"
    }
   ],
   "source": [
    "arr=np.array([20,5,15,30,25,34,78,54,93,23,51,17,39,16,87,45,23,78,56,12,13,15,17,18,19,76])\n",
    "arr"
   ]
  },
  {
   "cell_type": "code",
   "execution_count": 185,
   "id": "8728deb5-cd7c-4bd0-b4aa-bac98f4ca730",
   "metadata": {},
   "outputs": [
    {
     "data": {
      "text/plain": [
       "array([[20,  5],\n",
       "       [15, 30],\n",
       "       [25, 34],\n",
       "       [78, 54],\n",
       "       [93, 23],\n",
       "       [51, 17],\n",
       "       [39, 16],\n",
       "       [87, 45],\n",
       "       [23, 78],\n",
       "       [56, 12],\n",
       "       [13, 15],\n",
       "       [17, 18],\n",
       "       [19, 76]])"
      ]
     },
     "execution_count": 185,
     "metadata": {},
     "output_type": "execute_result"
    }
   ],
   "source": [
    "arr.reshape(13,2)"
   ]
  },
  {
   "cell_type": "code",
   "execution_count": 187,
   "id": "ce295160-84e7-41d5-8e2a-aca73653b71d",
   "metadata": {},
   "outputs": [
    {
     "data": {
      "text/plain": [
       "array([20,  5, 15, 30, 25, 34, 78, 54, 93, 23, 51, 17, 39, 16, 87, 45, 23,\n",
       "       78, 56, 12])"
      ]
     },
     "execution_count": 187,
     "metadata": {},
     "output_type": "execute_result"
    }
   ],
   "source": [
    "arr=np.array([20,5,15,30,25,34,78,54,93,23,51,17,39,16,87,45,23,78,56,12])\n",
    "arr"
   ]
  },
  {
   "cell_type": "code",
   "execution_count": 189,
   "id": "1519e8a0-353d-4b03-aa6f-393d06effaa0",
   "metadata": {},
   "outputs": [
    {
     "data": {
      "text/plain": [
       "array([[20,  5, 15, 30],\n",
       "       [25, 34, 78, 54],\n",
       "       [93, 23, 51, 17],\n",
       "       [39, 16, 87, 45],\n",
       "       [23, 78, 56, 12]])"
      ]
     },
     "execution_count": 189,
     "metadata": {},
     "output_type": "execute_result"
    }
   ],
   "source": [
    "arr.reshape(5,4)"
   ]
  },
  {
   "cell_type": "markdown",
   "id": "3d47285e-b2f7-4875-a788-3c8113b5ae7d",
   "metadata": {},
   "source": [
    "# adding new axis to an array   (np.newaxis)"
   ]
  },
  {
   "cell_type": "code",
   "execution_count": 5,
   "id": "d909f212-5f2e-4796-8203-1c41b14fbd0d",
   "metadata": {},
   "outputs": [],
   "source": [
    "import numpy as np"
   ]
  },
  {
   "cell_type": "code",
   "execution_count": 7,
   "id": "57296a0e-6ba9-4704-a250-6a3ceec21c25",
   "metadata": {},
   "outputs": [
    {
     "data": {
      "text/plain": [
       "array([[1],\n",
       "       [2],\n",
       "       [3],\n",
       "       [4],\n",
       "       [5],\n",
       "       [6]])"
      ]
     },
     "execution_count": 7,
     "metadata": {},
     "output_type": "execute_result"
    }
   ],
   "source": [
    "arr=np.array([1,2,3,4,5,6])\n",
    "new_arr=arr[:,np.newaxis]\n",
    "new_arr"
   ]
  },
  {
   "cell_type": "code",
   "execution_count": 195,
   "id": "c65c5c2e-e0a7-47a4-9c5c-e07f602ef916",
   "metadata": {},
   "outputs": [
    {
     "data": {
      "text/plain": [
       "array([[1, 2, 3, 4, 5, 6]])"
      ]
     },
     "execution_count": 195,
     "metadata": {},
     "output_type": "execute_result"
    }
   ],
   "source": [
    "arr=np.array([1,2,3,4,5,6])\n",
    "new_arr=arr[np.newaxis,:]\n",
    "new_arr"
   ]
  },
  {
   "cell_type": "markdown",
   "id": "f2037586-af36-411b-987d-d3fccf153557",
   "metadata": {},
   "source": [
    "# using .reshape to add new axis"
   ]
  },
  {
   "cell_type": "code",
   "execution_count": 11,
   "id": "8caab82e-a2cc-4896-a7ff-596538b422e4",
   "metadata": {},
   "outputs": [
    {
     "data": {
      "text/plain": [
       "array([[1],\n",
       "       [2],\n",
       "       [3],\n",
       "       [4],\n",
       "       [5],\n",
       "       [6]])"
      ]
     },
     "execution_count": 11,
     "metadata": {},
     "output_type": "execute_result"
    }
   ],
   "source": [
    "arr=np.array([1,2,3,4,5,6])\n",
    "new_arr=arr.reshape(-1,1)\n",
    "new_arr"
   ]
  },
  {
   "cell_type": "markdown",
   "id": "275f769c-1181-41c5-a7bd-fee1c06829e7",
   "metadata": {},
   "source": [
    "# 2D TO 3D ARRAY"
   ]
  },
  {
   "cell_type": "code",
   "execution_count": 16,
   "id": "b77f43aa-244f-4a5d-b11f-fb7846f0b91a",
   "metadata": {},
   "outputs": [
    {
     "data": {
      "text/plain": [
       "array([[[1],\n",
       "        [2]],\n",
       "\n",
       "       [[3],\n",
       "        [4]],\n",
       "\n",
       "       [[5],\n",
       "        [6]]])"
      ]
     },
     "execution_count": 16,
     "metadata": {},
     "output_type": "execute_result"
    }
   ],
   "source": [
    "arr=np.array([[1,2], [3,4], [5,6]])\n",
    "new_arr=arr[:, :, np.newaxis]\n",
    "new_arr"
   ]
  },
  {
   "cell_type": "markdown",
   "id": "51a7e7f8-9c59-424f-a59a-5feae429a79e",
   "metadata": {},
   "source": [
    "# NUMPY INDEXING"
   ]
  },
  {
   "cell_type": "markdown",
   "id": "b7dff2d8-ee71-4c5c-87cc-16efd85d0a72",
   "metadata": {},
   "source": [
    "# indexing in 1d array"
   ]
  },
  {
   "cell_type": "code",
   "execution_count": 20,
   "id": "38cfda5d-e667-4f18-8c63-d8a2c7941bdb",
   "metadata": {},
   "outputs": [],
   "source": [
    "import numpy as np"
   ]
  },
  {
   "cell_type": "code",
   "execution_count": 22,
   "id": "88594efe-dbd6-4a13-a002-78c259cc5f39",
   "metadata": {},
   "outputs": [],
   "source": [
    "arr=np.array([1,2,3,4,5,6,7,8,9,10,11,12,13,14,15,16,17,18,19])"
   ]
  },
  {
   "cell_type": "code",
   "execution_count": 24,
   "id": "a5cd7888-1557-4721-bf1f-fafdc93a1272",
   "metadata": {},
   "outputs": [
    {
     "data": {
      "text/plain": [
       "1"
      ]
     },
     "execution_count": 24,
     "metadata": {},
     "output_type": "execute_result"
    }
   ],
   "source": [
    "arr[0]"
   ]
  },
  {
   "cell_type": "code",
   "execution_count": 26,
   "id": "cf38ddab-6bab-4a36-b00f-cc60cbd9f2b0",
   "metadata": {},
   "outputs": [
    {
     "data": {
      "text/plain": [
       "2"
      ]
     },
     "execution_count": 26,
     "metadata": {},
     "output_type": "execute_result"
    }
   ],
   "source": [
    "arr[1]"
   ]
  },
  {
   "cell_type": "code",
   "execution_count": 28,
   "id": "ed779f92-5a7f-4964-95de-4ba8c0acb67e",
   "metadata": {},
   "outputs": [
    {
     "data": {
      "text/plain": [
       "6"
      ]
     },
     "execution_count": 28,
     "metadata": {},
     "output_type": "execute_result"
    }
   ],
   "source": [
    "arr[5]"
   ]
  },
  {
   "cell_type": "code",
   "execution_count": 30,
   "id": "156a8799-113c-4278-ae54-e0c3affe9a97",
   "metadata": {},
   "outputs": [
    {
     "data": {
      "text/plain": [
       "19"
      ]
     },
     "execution_count": 30,
     "metadata": {},
     "output_type": "execute_result"
    }
   ],
   "source": [
    "arr[-1]"
   ]
  },
  {
   "cell_type": "code",
   "execution_count": 32,
   "id": "a591d68e-06dd-4b1c-89af-de4f0fa57a07",
   "metadata": {},
   "outputs": [
    {
     "data": {
      "text/plain": [
       "2"
      ]
     },
     "execution_count": 32,
     "metadata": {},
     "output_type": "execute_result"
    }
   ],
   "source": [
    "arr[-18]"
   ]
  },
  {
   "cell_type": "code",
   "execution_count": 34,
   "id": "5e0e0a5e-941b-4695-90d5-f1eb723a67d1",
   "metadata": {},
   "outputs": [
    {
     "data": {
      "text/plain": [
       "14"
      ]
     },
     "execution_count": 34,
     "metadata": {},
     "output_type": "execute_result"
    }
   ],
   "source": [
    "arr[-6]"
   ]
  },
  {
   "cell_type": "code",
   "execution_count": 36,
   "id": "3efb8394-3e7d-44be-9518-b0ef4c4919b6",
   "metadata": {},
   "outputs": [
    {
     "data": {
      "text/plain": [
       "13"
      ]
     },
     "execution_count": 36,
     "metadata": {},
     "output_type": "execute_result"
    }
   ],
   "source": [
    "arr[-7]"
   ]
  },
  {
   "cell_type": "code",
   "execution_count": 38,
   "id": "36149a12-39c2-4f99-b463-bcd1470d0785",
   "metadata": {},
   "outputs": [
    {
     "data": {
      "text/plain": [
       "19"
      ]
     },
     "execution_count": 38,
     "metadata": {},
     "output_type": "execute_result"
    }
   ],
   "source": [
    "arr[18]"
   ]
  },
  {
   "cell_type": "code",
   "execution_count": 40,
   "id": "06340049-93ed-4fe2-9171-23fd706fe12d",
   "metadata": {},
   "outputs": [
    {
     "ename": "IndexError",
     "evalue": "index 19 is out of bounds for axis 0 with size 19",
     "output_type": "error",
     "traceback": [
      "\u001b[1;31m---------------------------------------------------------------------------\u001b[0m",
      "\u001b[1;31mIndexError\u001b[0m                                Traceback (most recent call last)",
      "Cell \u001b[1;32mIn[40], line 1\u001b[0m\n\u001b[1;32m----> 1\u001b[0m arr[\u001b[38;5;241m19\u001b[39m]\n",
      "\u001b[1;31mIndexError\u001b[0m: index 19 is out of bounds for axis 0 with size 19"
     ]
    }
   ],
   "source": [
    "arr[19]"
   ]
  },
  {
   "cell_type": "markdown",
   "id": "036dea89-70f2-47f6-977d-8b886ef7a561",
   "metadata": {},
   "source": [
    "# indexing in 2D array"
   ]
  },
  {
   "cell_type": "code",
   "execution_count": 59,
   "id": "e2a2de9c-31b2-4c82-949b-af992275aaba",
   "metadata": {},
   "outputs": [],
   "source": [
    "import numpy as np"
   ]
  },
  {
   "cell_type": "code",
   "execution_count": 61,
   "id": "91ff1621-ec25-4dfe-8d70-8289192af875",
   "metadata": {},
   "outputs": [],
   "source": [
    "arr=np.array([[5,10,15],\n",
    "              [20,25,30],\n",
    "              [35,40,45]])"
   ]
  },
  {
   "cell_type": "markdown",
   "id": "e575f43b-c840-4f94-a22d-b46e26b75957",
   "metadata": {},
   "source": [
    "# accessing a single element"
   ]
  },
  {
   "cell_type": "markdown",
   "id": "ced662fc-e98d-415b-8334-caca5ffdadcb",
   "metadata": {},
   "source": [
    "# forward indexing"
   ]
  },
  {
   "cell_type": "code",
   "execution_count": 64,
   "id": "e901d856-dc41-4e15-bf2f-6a0eb3707dc4",
   "metadata": {},
   "outputs": [
    {
     "data": {
      "text/plain": [
       "10"
      ]
     },
     "execution_count": 64,
     "metadata": {},
     "output_type": "execute_result"
    }
   ],
   "source": [
    "arr[0,1]"
   ]
  },
  {
   "cell_type": "code",
   "execution_count": 66,
   "id": "36076e69-c368-4e91-a88d-cdb6b206591a",
   "metadata": {},
   "outputs": [
    {
     "data": {
      "text/plain": [
       "30"
      ]
     },
     "execution_count": 66,
     "metadata": {},
     "output_type": "execute_result"
    }
   ],
   "source": [
    "arr[1,2]"
   ]
  },
  {
   "cell_type": "code",
   "execution_count": 70,
   "id": "d6588eaa-4f62-4bda-b67d-57ed860c4468",
   "metadata": {},
   "outputs": [
    {
     "data": {
      "text/plain": [
       "45"
      ]
     },
     "execution_count": 70,
     "metadata": {},
     "output_type": "execute_result"
    }
   ],
   "source": [
    "arr[2,2]"
   ]
  },
  {
   "cell_type": "markdown",
   "id": "a512aa75-e801-4d84-96cd-2de0b596ff85",
   "metadata": {},
   "source": [
    "# backward indexing"
   ]
  },
  {
   "cell_type": "code",
   "execution_count": 72,
   "id": "519ffff6-17dd-48c8-a41f-99bb3d7bd68b",
   "metadata": {},
   "outputs": [
    {
     "data": {
      "text/plain": [
       "40"
      ]
     },
     "execution_count": 72,
     "metadata": {},
     "output_type": "execute_result"
    }
   ],
   "source": [
    "arr[-1,1]"
   ]
  },
  {
   "cell_type": "code",
   "execution_count": 74,
   "id": "b8a6f827-1184-4947-8e2a-2e8bf03a7507",
   "metadata": {},
   "outputs": [
    {
     "data": {
      "text/plain": [
       "35"
      ]
     },
     "execution_count": 74,
     "metadata": {},
     "output_type": "execute_result"
    }
   ],
   "source": [
    "arr[-1,-3]"
   ]
  },
  {
   "cell_type": "code",
   "execution_count": 76,
   "id": "77cfd04b-058d-47ea-8ef5-d4235a594357",
   "metadata": {},
   "outputs": [
    {
     "data": {
      "text/plain": [
       "20"
      ]
     },
     "execution_count": 76,
     "metadata": {},
     "output_type": "execute_result"
    }
   ],
   "source": [
    "arr[-2,-3]"
   ]
  },
  {
   "cell_type": "code",
   "execution_count": 78,
   "id": "463377d5-d1d0-48e7-9c5b-398c40f8b848",
   "metadata": {},
   "outputs": [
    {
     "data": {
      "text/plain": [
       "10"
      ]
     },
     "execution_count": 78,
     "metadata": {},
     "output_type": "execute_result"
    }
   ],
   "source": [
    "arr[-3,-2]"
   ]
  },
  {
   "cell_type": "markdown",
   "id": "0fdd6b9c-27d2-4846-bf8b-043c37ddd0d5",
   "metadata": {},
   "source": [
    "# extracting an entire row"
   ]
  },
  {
   "cell_type": "markdown",
   "id": "ed007752-b518-4a12-a28b-e695c1a528b0",
   "metadata": {},
   "source": [
    "# forward indexing"
   ]
  },
  {
   "cell_type": "code",
   "execution_count": 81,
   "id": "bf22d7eb-a9a0-4199-b4f0-8f20312f5d0e",
   "metadata": {},
   "outputs": [
    {
     "data": {
      "text/plain": [
       "array([20, 25, 30])"
      ]
     },
     "execution_count": 81,
     "metadata": {},
     "output_type": "execute_result"
    }
   ],
   "source": [
    "arr[1,:]"
   ]
  },
  {
   "cell_type": "code",
   "execution_count": 83,
   "id": "5251ff60-70e1-4965-a49d-525dda6e3ed4",
   "metadata": {},
   "outputs": [
    {
     "data": {
      "text/plain": [
       "array([ 5, 10, 15])"
      ]
     },
     "execution_count": 83,
     "metadata": {},
     "output_type": "execute_result"
    }
   ],
   "source": [
    "arr[0,:]"
   ]
  },
  {
   "cell_type": "code",
   "execution_count": 85,
   "id": "6f82567e-4c52-4c7e-9d30-e20769aa18bb",
   "metadata": {},
   "outputs": [
    {
     "data": {
      "text/plain": [
       "array([35, 40, 45])"
      ]
     },
     "execution_count": 85,
     "metadata": {},
     "output_type": "execute_result"
    }
   ],
   "source": [
    "arr[2,:]"
   ]
  },
  {
   "cell_type": "markdown",
   "id": "e1f29265-5580-41c0-862a-9ebfb6269524",
   "metadata": {},
   "source": [
    "# backward indexing"
   ]
  },
  {
   "cell_type": "code",
   "execution_count": 87,
   "id": "a97c8bc5-d4ed-4e77-b581-24e209158871",
   "metadata": {},
   "outputs": [
    {
     "data": {
      "text/plain": [
       "array([35, 40, 45])"
      ]
     },
     "execution_count": 87,
     "metadata": {},
     "output_type": "execute_result"
    }
   ],
   "source": [
    "arr[-1,:]"
   ]
  },
  {
   "cell_type": "code",
   "execution_count": 93,
   "id": "7fa5b50f-1334-4794-be93-4900f0ad6676",
   "metadata": {},
   "outputs": [
    {
     "data": {
      "text/plain": [
       "array([ 5, 10, 15])"
      ]
     },
     "execution_count": 93,
     "metadata": {},
     "output_type": "execute_result"
    }
   ],
   "source": [
    "arr[-3,:]"
   ]
  },
  {
   "cell_type": "code",
   "execution_count": 95,
   "id": "c4a98c00-e8fe-4493-9017-7346eed9bb36",
   "metadata": {},
   "outputs": [
    {
     "data": {
      "text/plain": [
       "array([20, 25, 30])"
      ]
     },
     "execution_count": 95,
     "metadata": {},
     "output_type": "execute_result"
    }
   ],
   "source": [
    "arr[-2,:]"
   ]
  },
  {
   "cell_type": "code",
   "execution_count": 97,
   "id": "8dff497b-db1f-412f-bd5a-def0c7d8af63",
   "metadata": {},
   "outputs": [
    {
     "ename": "IndexError",
     "evalue": "index -4 is out of bounds for axis 0 with size 3",
     "output_type": "error",
     "traceback": [
      "\u001b[1;31m---------------------------------------------------------------------------\u001b[0m",
      "\u001b[1;31mIndexError\u001b[0m                                Traceback (most recent call last)",
      "Cell \u001b[1;32mIn[97], line 1\u001b[0m\n\u001b[1;32m----> 1\u001b[0m arr[\u001b[38;5;241m-\u001b[39m\u001b[38;5;241m4\u001b[39m,:]\n",
      "\u001b[1;31mIndexError\u001b[0m: index -4 is out of bounds for axis 0 with size 3"
     ]
    }
   ],
   "source": [
    "arr[-4,:]"
   ]
  },
  {
   "cell_type": "markdown",
   "id": "dd8d8efe-1bd3-472e-8315-5b02b60d0dd1",
   "metadata": {},
   "source": [
    "# extracting an entire column"
   ]
  },
  {
   "cell_type": "markdown",
   "id": "82ccb39f-3753-48c3-9aa5-acdff5dd4409",
   "metadata": {},
   "source": [
    "# forward indexing"
   ]
  },
  {
   "cell_type": "code",
   "execution_count": 100,
   "id": "3ab4b4d4-136c-4cac-8f87-6c682d5d7fb8",
   "metadata": {},
   "outputs": [
    {
     "data": {
      "text/plain": [
       "array([ 5, 20, 35])"
      ]
     },
     "execution_count": 100,
     "metadata": {},
     "output_type": "execute_result"
    }
   ],
   "source": [
    "arr[:,0]"
   ]
  },
  {
   "cell_type": "code",
   "execution_count": 103,
   "id": "f9512ca0-ff08-45ca-8bbb-e2dfdf4c0319",
   "metadata": {},
   "outputs": [
    {
     "data": {
      "text/plain": [
       "array([10, 25, 40])"
      ]
     },
     "execution_count": 103,
     "metadata": {},
     "output_type": "execute_result"
    }
   ],
   "source": [
    "arr[:,1]"
   ]
  },
  {
   "cell_type": "code",
   "execution_count": 105,
   "id": "320854a2-67ac-4a38-9fa9-839c981d7ebe",
   "metadata": {},
   "outputs": [
    {
     "data": {
      "text/plain": [
       "array([15, 30, 45])"
      ]
     },
     "execution_count": 105,
     "metadata": {},
     "output_type": "execute_result"
    }
   ],
   "source": [
    "arr[:,2]"
   ]
  },
  {
   "cell_type": "markdown",
   "id": "2d123e71-ef64-47be-ad43-006a96ec82db",
   "metadata": {},
   "source": [
    "# backward indexing"
   ]
  },
  {
   "cell_type": "code",
   "execution_count": 108,
   "id": "0113535e-5e65-47d3-a1b6-98b69ca28c1d",
   "metadata": {},
   "outputs": [
    {
     "data": {
      "text/plain": [
       "array([ 5, 20, 35])"
      ]
     },
     "execution_count": 108,
     "metadata": {},
     "output_type": "execute_result"
    }
   ],
   "source": [
    "arr[:,-3]"
   ]
  },
  {
   "cell_type": "code",
   "execution_count": 110,
   "id": "93ddc27f-c3a1-44a6-93d6-e180f38a7bfb",
   "metadata": {},
   "outputs": [
    {
     "data": {
      "text/plain": [
       "array([10, 25, 40])"
      ]
     },
     "execution_count": 110,
     "metadata": {},
     "output_type": "execute_result"
    }
   ],
   "source": [
    "arr[:,-2]"
   ]
  },
  {
   "cell_type": "code",
   "execution_count": 112,
   "id": "99fd16e5-4341-421e-8059-be397ddc3d0e",
   "metadata": {},
   "outputs": [
    {
     "data": {
      "text/plain": [
       "array([15, 30, 45])"
      ]
     },
     "execution_count": 112,
     "metadata": {},
     "output_type": "execute_result"
    }
   ],
   "source": [
    "arr[:,-1]"
   ]
  },
  {
   "cell_type": "markdown",
   "id": "585510ae-7d36-4a1a-8a87-9beff736e379",
   "metadata": {},
   "source": [
    "# selecting multiple element"
   ]
  },
  {
   "cell_type": "code",
   "execution_count": 115,
   "id": "083dd070-39de-406a-b359-ac3f2a22437b",
   "metadata": {},
   "outputs": [
    {
     "data": {
      "text/plain": [
       "array([10, 45])"
      ]
     },
     "execution_count": 115,
     "metadata": {},
     "output_type": "execute_result"
    }
   ],
   "source": [
    "arr[[0,2],[1,2]]"
   ]
  },
  {
   "cell_type": "code",
   "execution_count": 119,
   "id": "57ca0a8a-04cf-4f2c-8247-4e0396553e8a",
   "metadata": {},
   "outputs": [
    {
     "data": {
      "text/plain": [
       "array([30, 10])"
      ]
     },
     "execution_count": 119,
     "metadata": {},
     "output_type": "execute_result"
    }
   ],
   "source": [
    "arr[[1,0],[2,1]]"
   ]
  },
  {
   "cell_type": "code",
   "execution_count": 124,
   "id": "2c05aa83-9130-456d-9a88-eff29bb66ee7",
   "metadata": {},
   "outputs": [
    {
     "data": {
      "text/plain": [
       "array([15, 35])"
      ]
     },
     "execution_count": 124,
     "metadata": {},
     "output_type": "execute_result"
    }
   ],
   "source": [
    "arr[[0,2],[2,0]]"
   ]
  },
  {
   "cell_type": "markdown",
   "id": "221a8211-143b-4aa9-9309-681e3ec0d98b",
   "metadata": {},
   "source": [
    "# slicing"
   ]
  },
  {
   "cell_type": "code",
   "execution_count": 127,
   "id": "725fcf55-a57e-4b8d-8284-643759d79351",
   "metadata": {},
   "outputs": [],
   "source": [
    "import numpy as np"
   ]
  },
  {
   "cell_type": "code",
   "execution_count": 129,
   "id": "66082162-b188-4c01-b734-28ce450e9503",
   "metadata": {},
   "outputs": [],
   "source": [
    "arr=np.array([[5,10,15],\n",
    "              [20,25,30],\n",
    "              [35,40,45]])"
   ]
  },
  {
   "cell_type": "markdown",
   "id": "87c5c999-c561-4fb1-9f71-f91f9090c578",
   "metadata": {},
   "source": [
    "# extracting a submatrix"
   ]
  },
  {
   "cell_type": "code",
   "execution_count": 133,
   "id": "d5320740-9838-4513-ad98-e2afb4c4b4d4",
   "metadata": {},
   "outputs": [
    {
     "data": {
      "text/plain": [
       "array([[10, 15],\n",
       "       [25, 30]])"
      ]
     },
     "execution_count": 133,
     "metadata": {},
     "output_type": "execute_result"
    }
   ],
   "source": [
    "arr[0:2,1:3]"
   ]
  },
  {
   "cell_type": "markdown",
   "id": "8eff909b-b7c5-40e9-a2f9-4b3460e4d0e9",
   "metadata": {},
   "source": [
    "# selecting an entire rows or column"
   ]
  },
  {
   "cell_type": "markdown",
   "id": "6425b11e-9b30-4456-b135-c4ba620f1d74",
   "metadata": {},
   "source": [
    "# rows"
   ]
  },
  {
   "cell_type": "code",
   "execution_count": 136,
   "id": "eb90b00a-7cc3-4657-9984-b3feeb0e8554",
   "metadata": {},
   "outputs": [
    {
     "data": {
      "text/plain": [
       "array([20, 25, 30])"
      ]
     },
     "execution_count": 136,
     "metadata": {},
     "output_type": "execute_result"
    }
   ],
   "source": [
    "arr[1,:]"
   ]
  },
  {
   "cell_type": "code",
   "execution_count": 138,
   "id": "7a08e618-2f05-415a-a97f-e150533a48a7",
   "metadata": {},
   "outputs": [
    {
     "data": {
      "text/plain": [
       "array([35, 40, 45])"
      ]
     },
     "execution_count": 138,
     "metadata": {},
     "output_type": "execute_result"
    }
   ],
   "source": [
    "arr[-1,:]"
   ]
  },
  {
   "cell_type": "code",
   "execution_count": null,
   "id": "4dec2b3a-3ca0-4132-ac5a-1231955ab55e",
   "metadata": {},
   "outputs": [],
   "source": [
    "a"
   ]
  },
  {
   "cell_type": "markdown",
   "id": "77485f7f-f274-4131-b56a-2e278f6c15bb",
   "metadata": {},
   "source": [
    "# column"
   ]
  },
  {
   "cell_type": "code",
   "execution_count": 142,
   "id": "4daf72b7-fc2e-4575-878e-69a1d2804903",
   "metadata": {},
   "outputs": [
    {
     "data": {
      "text/plain": [
       "array([10, 25, 40])"
      ]
     },
     "execution_count": 142,
     "metadata": {},
     "output_type": "execute_result"
    }
   ],
   "source": [
    "arr[:,1]"
   ]
  },
  {
   "cell_type": "code",
   "execution_count": 144,
   "id": "f81527c6-cbf0-492f-95ab-f03be0beb8f3",
   "metadata": {},
   "outputs": [
    {
     "data": {
      "text/plain": [
       "array([10, 25, 40])"
      ]
     },
     "execution_count": 144,
     "metadata": {},
     "output_type": "execute_result"
    }
   ],
   "source": [
    "arr[:,-2]"
   ]
  },
  {
   "cell_type": "markdown",
   "id": "076f8197-4795-48c1-a9d0-b5f6e2ded709",
   "metadata": {},
   "source": [
    "# step slicing"
   ]
  },
  {
   "cell_type": "code",
   "execution_count": 147,
   "id": "cd536e20-33f3-4d8c-952c-1abe0d9d0d79",
   "metadata": {},
   "outputs": [
    {
     "data": {
      "text/plain": [
       "array([[ 5, 15],\n",
       "       [35, 45]])"
      ]
     },
     "execution_count": 147,
     "metadata": {},
     "output_type": "execute_result"
    }
   ],
   "source": [
    "arr[::2,::2]"
   ]
  },
  {
   "cell_type": "code",
   "execution_count": 149,
   "id": "088e23e6-ec61-47bd-921e-4653ec5b0aa0",
   "metadata": {},
   "outputs": [
    {
     "data": {
      "text/plain": [
       "array([[45, 40, 35],\n",
       "       [15, 10,  5]])"
      ]
     },
     "execution_count": 149,
     "metadata": {},
     "output_type": "execute_result"
    }
   ],
   "source": [
    "arr[::-2,::-1]"
   ]
  },
  {
   "cell_type": "code",
   "execution_count": null,
   "id": "4b84cea2-ac3d-4287-b497-dab9f92179c2",
   "metadata": {},
   "outputs": [],
   "source": []
  },
  {
   "cell_type": "markdown",
   "id": "b891031d-f162-4334-a1f4-6fb04a241e5f",
   "metadata": {},
   "source": [
    "# create an array from existing array"
   ]
  },
  {
   "cell_type": "markdown",
   "id": "3364810b-115b-4fc1-a18d-d35ecfae7e95",
   "metadata": {},
   "source": [
    "# using slicing"
   ]
  },
  {
   "cell_type": "code",
   "execution_count": 154,
   "id": "8b4f21b9-496d-4222-820d-4d2a19429547",
   "metadata": {},
   "outputs": [],
   "source": [
    "import numpy as np"
   ]
  },
  {
   "cell_type": "code",
   "execution_count": 164,
   "id": "f496242f-aa86-4f19-a824-c4192c906203",
   "metadata": {},
   "outputs": [],
   "source": [
    "arr=np.array([[5,10,15],\n",
    "              [20,25,30],\n",
    "              [35,40,45]])"
   ]
  },
  {
   "cell_type": "code",
   "execution_count": 168,
   "id": "5981b089-d0ca-4ea6-99e9-74e9cffe5d4c",
   "metadata": {},
   "outputs": [
    {
     "data": {
      "text/plain": [
       "array([[10, 15],\n",
       "       [25, 30]])"
      ]
     },
     "execution_count": 168,
     "metadata": {},
     "output_type": "execute_result"
    }
   ],
   "source": [
    "arr[0:2,1:3]"
   ]
  },
  {
   "cell_type": "markdown",
   "id": "684fbfd3-1598-4e59-b629-c55a4a80fdab",
   "metadata": {},
   "source": [
    "# using .copy"
   ]
  },
  {
   "cell_type": "code",
   "execution_count": 173,
   "id": "a7399d99-888c-46fb-af30-41f0ba1a2c95",
   "metadata": {},
   "outputs": [
    {
     "data": {
      "text/plain": [
       "array([[10, 15],\n",
       "       [25, 30],\n",
       "       [40, 45]])"
      ]
     },
     "execution_count": 173,
     "metadata": {},
     "output_type": "execute_result"
    }
   ],
   "source": [
    "arr[:,1:].copy()"
   ]
  },
  {
   "cell_type": "markdown",
   "id": "5300d95c-0826-4a4d-9a39-bc4e446a2d78",
   "metadata": {},
   "source": [
    "# using fancy indexing"
   ]
  },
  {
   "cell_type": "code",
   "execution_count": 176,
   "id": "66043233-407d-41aa-b02a-e44f06157692",
   "metadata": {},
   "outputs": [
    {
     "data": {
      "text/plain": [
       "array([10, 45])"
      ]
     },
     "execution_count": 176,
     "metadata": {},
     "output_type": "execute_result"
    }
   ],
   "source": [
    "arr[[0,2],[1,2]]"
   ]
  },
  {
   "cell_type": "code",
   "execution_count": 183,
   "id": "d2d5cecb-89cb-4eb7-82ff-9a5d04af21a8",
   "metadata": {},
   "outputs": [
    {
     "data": {
      "text/plain": [
       "array([30, 15])"
      ]
     },
     "execution_count": 183,
     "metadata": {},
     "output_type": "execute_result"
    }
   ],
   "source": [
    "arr[[1,0],[2,2]]"
   ]
  },
  {
   "cell_type": "markdown",
   "id": "d151c116-386d-4edc-bad4-c7a9634783c5",
   "metadata": {},
   "source": [
    "# using np.where"
   ]
  },
  {
   "cell_type": "code",
   "execution_count": 179,
   "id": "6f3d58b5-e897-4641-9073-8c5f460900df",
   "metadata": {},
   "outputs": [
    {
     "data": {
      "text/plain": [
       "array([25, 30, 35, 40, 45])"
      ]
     },
     "execution_count": 179,
     "metadata": {},
     "output_type": "execute_result"
    }
   ],
   "source": [
    "arr[arr>20]"
   ]
  },
  {
   "cell_type": "code",
   "execution_count": 185,
   "id": "9da7b715-fe39-47da-b0aa-1df87ca1b1f8",
   "metadata": {},
   "outputs": [
    {
     "data": {
      "text/plain": [
       "array([35, 40, 45])"
      ]
     },
     "execution_count": 185,
     "metadata": {},
     "output_type": "execute_result"
    }
   ],
   "source": [
    "arr[arr>30]"
   ]
  },
  {
   "cell_type": "markdown",
   "id": "8603cc82-a363-4dfb-8833-4ab607615cc7",
   "metadata": {},
   "source": [
    "# basic array operations"
   ]
  },
  {
   "cell_type": "code",
   "execution_count": 188,
   "id": "d85d1d99-9bce-4624-be60-6c7e5baf24da",
   "metadata": {},
   "outputs": [],
   "source": [
    "import numpy as np"
   ]
  },
  {
   "cell_type": "code",
   "execution_count": 194,
   "id": "7826dc72-4ca3-4304-9983-24248135e37c",
   "metadata": {},
   "outputs": [],
   "source": [
    "arr1=np.array([[1,2,3],\n",
    "              [4,5,6]])\n",
    "arr2=np.array([[10,20,30],\n",
    "               [40,50,60]])"
   ]
  },
  {
   "cell_type": "markdown",
   "id": "a536e21e-3399-4724-859b-b36ac4f18d6c",
   "metadata": {},
   "source": [
    "# addition"
   ]
  },
  {
   "cell_type": "code",
   "execution_count": 196,
   "id": "4c54ab12-ebfb-4e62-b21a-bbb6b3e2fadd",
   "metadata": {},
   "outputs": [
    {
     "data": {
      "text/plain": [
       "array([[11, 22, 33],\n",
       "       [44, 55, 66]])"
      ]
     },
     "execution_count": 196,
     "metadata": {},
     "output_type": "execute_result"
    }
   ],
   "source": [
    "arr1+arr2"
   ]
  },
  {
   "cell_type": "markdown",
   "id": "368c92c6-e054-402e-928b-60dfb717dc84",
   "metadata": {},
   "source": [
    "# subtraction "
   ]
  },
  {
   "cell_type": "code",
   "execution_count": 200,
   "id": "17e05845-f3fb-4b8c-b712-ee3c3b1428ed",
   "metadata": {},
   "outputs": [
    {
     "data": {
      "text/plain": [
       "array([[ -9, -18, -27],\n",
       "       [-36, -45, -54]])"
      ]
     },
     "execution_count": 200,
     "metadata": {},
     "output_type": "execute_result"
    }
   ],
   "source": [
    "arr1-arr2"
   ]
  },
  {
   "cell_type": "code",
   "execution_count": 202,
   "id": "272c042c-dee5-4fd3-a704-66702243a5ab",
   "metadata": {},
   "outputs": [
    {
     "data": {
      "text/plain": [
       "array([[ 9, 18, 27],\n",
       "       [36, 45, 54]])"
      ]
     },
     "execution_count": 202,
     "metadata": {},
     "output_type": "execute_result"
    }
   ],
   "source": [
    "arr2-arr1"
   ]
  },
  {
   "cell_type": "markdown",
   "id": "54794c94-75b2-460e-bc83-f93d27563d93",
   "metadata": {},
   "source": [
    "# multiplication "
   ]
  },
  {
   "cell_type": "code",
   "execution_count": 205,
   "id": "4aac1d7b-287a-47db-9fbe-2aa175645daf",
   "metadata": {},
   "outputs": [
    {
     "data": {
      "text/plain": [
       "array([[ 10,  40,  90],\n",
       "       [160, 250, 360]])"
      ]
     },
     "execution_count": 205,
     "metadata": {},
     "output_type": "execute_result"
    }
   ],
   "source": [
    "arr1*arr2"
   ]
  },
  {
   "cell_type": "markdown",
   "id": "895c93b0-0351-45d5-862f-1560d918bf2f",
   "metadata": {},
   "source": [
    "# division"
   ]
  },
  {
   "cell_type": "code",
   "execution_count": 208,
   "id": "1a9bfe70-151a-4dd8-bb88-3d0f1fed0590",
   "metadata": {},
   "outputs": [
    {
     "data": {
      "text/plain": [
       "array([[0.1, 0.1, 0.1],\n",
       "       [0.1, 0.1, 0.1]])"
      ]
     },
     "execution_count": 208,
     "metadata": {},
     "output_type": "execute_result"
    }
   ],
   "source": [
    "arr1/arr2"
   ]
  },
  {
   "cell_type": "code",
   "execution_count": 210,
   "id": "18cb6c86-c1c3-4551-87c3-4721b636acd6",
   "metadata": {},
   "outputs": [
    {
     "data": {
      "text/plain": [
       "array([[10., 10., 10.],\n",
       "       [10., 10., 10.]])"
      ]
     },
     "execution_count": 210,
     "metadata": {},
     "output_type": "execute_result"
    }
   ],
   "source": [
    "arr2/arr1"
   ]
  },
  {
   "cell_type": "markdown",
   "id": "76ba4d21-38db-4741-a14b-37cb50c05e1d",
   "metadata": {},
   "source": [
    "# power **"
   ]
  },
  {
   "cell_type": "code",
   "execution_count": 213,
   "id": "3c668670-a144-415d-b5f0-eb7384f746aa",
   "metadata": {},
   "outputs": [
    {
     "data": {
      "text/plain": [
       "array([[          1,     1048576, -1010140999],\n",
       "       [          0,  1296002393,           0]])"
      ]
     },
     "execution_count": 213,
     "metadata": {},
     "output_type": "execute_result"
    }
   ],
   "source": [
    "arr1**arr2"
   ]
  },
  {
   "cell_type": "code",
   "execution_count": 215,
   "id": "46715d53-2e05-41c2-af93-9a108f69d581",
   "metadata": {},
   "outputs": [
    {
     "data": {
      "text/plain": [
       "array([[        10,        400,      27000],\n",
       "       [   2560000,  312500000, -588640256]])"
      ]
     },
     "execution_count": 215,
     "metadata": {},
     "output_type": "execute_result"
    }
   ],
   "source": [
    "arr2**arr1"
   ]
  },
  {
   "cell_type": "markdown",
   "id": "74aed33e-9883-43f1-bb76-1c17cae1763f",
   "metadata": {},
   "source": [
    "# broadcasting ( single values)"
   ]
  },
  {
   "cell_type": "code",
   "execution_count": 231,
   "id": "45363521-d506-4ed4-9e91-ff1e1a371811",
   "metadata": {},
   "outputs": [],
   "source": [
    "arr1=np.array([[1,2,3],\n",
    "              [4,5,6]])"
   ]
  },
  {
   "cell_type": "markdown",
   "id": "2b26f726-db6c-409e-8e70-a1ab7a728be0",
   "metadata": {},
   "source": [
    "# add a single value to the arrays"
   ]
  },
  {
   "cell_type": "code",
   "execution_count": 235,
   "id": "b326f85f-0a09-4003-a70b-09561d86a474",
   "metadata": {},
   "outputs": [
    {
     "data": {
      "text/plain": [
       "array([[11, 12, 13],\n",
       "       [14, 15, 16]])"
      ]
     },
     "execution_count": 235,
     "metadata": {},
     "output_type": "execute_result"
    }
   ],
   "source": [
    "arr1+10"
   ]
  },
  {
   "cell_type": "markdown",
   "id": "e382a85d-9fc4-492e-b9e1-a98ec06ff774",
   "metadata": {},
   "source": [
    "# subtract a value from the arrays"
   ]
  },
  {
   "cell_type": "code",
   "execution_count": 229,
   "id": "c10cb55a-75d1-4823-b860-79a3b621e572",
   "metadata": {},
   "outputs": [
    {
     "data": {
      "text/plain": [
       "array([[-9, -8, -7],\n",
       "       [-6, -5, -4]])"
      ]
     },
     "execution_count": 229,
     "metadata": {},
     "output_type": "execute_result"
    }
   ],
   "source": [
    "arr1-10"
   ]
  },
  {
   "cell_type": "code",
   "execution_count": 239,
   "id": "be202ccc-774c-45a4-964d-b9a420e60620",
   "metadata": {},
   "outputs": [
    {
     "data": {
      "text/plain": [
       "array([[-1,  0,  1],\n",
       "       [ 2,  3,  4]])"
      ]
     },
     "execution_count": 239,
     "metadata": {},
     "output_type": "execute_result"
    }
   ],
   "source": [
    "arr1-2"
   ]
  },
  {
   "cell_type": "markdown",
   "id": "67e16465-c878-4c78-bd69-186bdd78cffe",
   "metadata": {},
   "source": [
    "# multiply"
   ]
  },
  {
   "cell_type": "code",
   "execution_count": 244,
   "id": "00eac5df-e4a5-4383-90da-9173043aae2b",
   "metadata": {},
   "outputs": [
    {
     "data": {
      "text/plain": [
       "array([[ 5, 10, 15],\n",
       "       [20, 25, 30]])"
      ]
     },
     "execution_count": 244,
     "metadata": {},
     "output_type": "execute_result"
    }
   ],
   "source": [
    "arr1*5"
   ]
  },
  {
   "cell_type": "markdown",
   "id": "f4b1db34-0e29-4759-be3b-fc623e32dede",
   "metadata": {},
   "source": [
    "# division"
   ]
  },
  {
   "cell_type": "code",
   "execution_count": 247,
   "id": "594cf375-bda2-4ad5-9a7c-8392100ff0a9",
   "metadata": {},
   "outputs": [
    {
     "data": {
      "text/plain": [
       "array([[0.33333333, 0.66666667, 1.        ],\n",
       "       [1.33333333, 1.66666667, 2.        ]])"
      ]
     },
     "execution_count": 247,
     "metadata": {},
     "output_type": "execute_result"
    }
   ],
   "source": [
    "arr1/3"
   ]
  },
  {
   "cell_type": "code",
   "execution_count": 249,
   "id": "8bbce8d7-7b86-4f46-8acd-333bc47a2261",
   "metadata": {},
   "outputs": [
    {
     "data": {
      "text/plain": [
       "array([[1., 2., 3.],\n",
       "       [4., 5., 6.]])"
      ]
     },
     "execution_count": 249,
     "metadata": {},
     "output_type": "execute_result"
    }
   ],
   "source": [
    "arr1/1"
   ]
  },
  {
   "cell_type": "code",
   "execution_count": 251,
   "id": "de227bdf-300a-4faa-87ec-d8bf126271d3",
   "metadata": {},
   "outputs": [
    {
     "data": {
      "text/plain": [
       "array([[0.5, 1. , 1.5],\n",
       "       [2. , 2.5, 3. ]])"
      ]
     },
     "execution_count": 251,
     "metadata": {},
     "output_type": "execute_result"
    }
   ],
   "source": [
    "arr1/2"
   ]
  },
  {
   "cell_type": "code",
   "execution_count": 253,
   "id": "0c085d08-76c3-4133-afc7-4eb8abff0e6a",
   "metadata": {},
   "outputs": [],
   "source": [
    "# power **"
   ]
  },
  {
   "cell_type": "code",
   "execution_count": 255,
   "id": "9f0b8d63-a2cb-4308-bc28-85704519185b",
   "metadata": {},
   "outputs": [
    {
     "data": {
      "text/plain": [
       "array([[    1,    64,   729],\n",
       "       [ 4096, 15625, 46656]], dtype=int32)"
      ]
     },
     "execution_count": 255,
     "metadata": {},
     "output_type": "execute_result"
    }
   ],
   "source": [
    "arr1**6"
   ]
  },
  {
   "cell_type": "code",
   "execution_count": 257,
   "id": "f236eed0-0b20-4bc4-882a-618e987370ff",
   "metadata": {},
   "outputs": [
    {
     "data": {
      "text/plain": [
       "array([[ 1,  4,  9],\n",
       "       [16, 25, 36]])"
      ]
     },
     "execution_count": 257,
     "metadata": {},
     "output_type": "execute_result"
    }
   ],
   "source": [
    "arr1**2"
   ]
  },
  {
   "cell_type": "markdown",
   "id": "811cf584-152a-498c-acdb-5138378d5f72",
   "metadata": {},
   "source": [
    "# aggregration functions ( sum,mean,min,max,etc)"
   ]
  },
  {
   "cell_type": "markdown",
   "id": "fb646038-032d-489b-888d-2440c4d536b1",
   "metadata": {},
   "source": [
    "# sum"
   ]
  },
  {
   "cell_type": "code",
   "execution_count": 263,
   "id": "f0974b4b-5734-4c5d-88db-9d6c3818db05",
   "metadata": {},
   "outputs": [
    {
     "data": {
      "text/plain": [
       "21"
      ]
     },
     "execution_count": 263,
     "metadata": {},
     "output_type": "execute_result"
    }
   ],
   "source": [
    "arr.sum()"
   ]
  },
  {
   "cell_type": "markdown",
   "id": "c1dfd4d5-cdad-45ff-867a-a7c9340ff617",
   "metadata": {},
   "source": [
    "# mean"
   ]
  },
  {
   "cell_type": "code",
   "execution_count": 266,
   "id": "39775f77-c70c-40b5-aa5b-89201574da7a",
   "metadata": {},
   "outputs": [
    {
     "data": {
      "text/plain": [
       "3.5"
      ]
     },
     "execution_count": 266,
     "metadata": {},
     "output_type": "execute_result"
    }
   ],
   "source": [
    "arr.mean()"
   ]
  },
  {
   "cell_type": "markdown",
   "id": "8e409c16-aff0-4e62-8460-90844de4b98c",
   "metadata": {},
   "source": [
    "# max"
   ]
  },
  {
   "cell_type": "code",
   "execution_count": 268,
   "id": "83372c2c-30bb-4624-852f-4f8150fe91c7",
   "metadata": {},
   "outputs": [
    {
     "data": {
      "text/plain": [
       "6"
      ]
     },
     "execution_count": 268,
     "metadata": {},
     "output_type": "execute_result"
    }
   ],
   "source": [
    "arr.max()"
   ]
  },
  {
   "cell_type": "markdown",
   "id": "138a80c8-c6af-4dd9-907c-9a2f8be7f921",
   "metadata": {},
   "source": [
    "# min"
   ]
  },
  {
   "cell_type": "code",
   "execution_count": 270,
   "id": "f8240d72-b1ff-49d2-81bb-bb9a3daa6ecc",
   "metadata": {},
   "outputs": [
    {
     "data": {
      "text/plain": [
       "1"
      ]
     },
     "execution_count": 270,
     "metadata": {},
     "output_type": "execute_result"
    }
   ],
   "source": [
    "arr.min()"
   ]
  },
  {
   "cell_type": "markdown",
   "id": "eb4729da-1e95-44bd-b798-7d9f85c3579d",
   "metadata": {},
   "source": [
    "# standard deviation"
   ]
  },
  {
   "cell_type": "code",
   "execution_count": 272,
   "id": "a4b2c545-b0c0-47cd-a288-8dd2790f0c4f",
   "metadata": {},
   "outputs": [
    {
     "data": {
      "text/plain": [
       "1.707825127659933"
      ]
     },
     "execution_count": 272,
     "metadata": {},
     "output_type": "execute_result"
    }
   ],
   "source": [
    "arr.std()"
   ]
  },
  {
   "cell_type": "markdown",
   "id": "dfc8676f-95fc-44c3-a9ee-d374c69c4c7a",
   "metadata": {},
   "source": [
    "# comparison operations"
   ]
  },
  {
   "cell_type": "markdown",
   "id": "0735d272-97cd-48a3-9e5e-43864387fb66",
   "metadata": {},
   "source": [
    "# GREATER THAN"
   ]
  },
  {
   "cell_type": "code",
   "execution_count": 278,
   "id": "68a1cb9d-ac93-48ca-a0c7-761260e8ce79",
   "metadata": {},
   "outputs": [
    {
     "data": {
      "text/plain": [
       "array([[False, False, False],\n",
       "       [ True,  True,  True]])"
      ]
     },
     "execution_count": 278,
     "metadata": {},
     "output_type": "execute_result"
    }
   ],
   "source": [
    "arr>3"
   ]
  },
  {
   "cell_type": "markdown",
   "id": "9d0ddf29-4181-405a-974c-2827a9c18592",
   "metadata": {},
   "source": [
    "# LESS THAN"
   ]
  },
  {
   "cell_type": "code",
   "execution_count": 284,
   "id": "28f72791-1a00-4a68-b146-3693f9cf0f25",
   "metadata": {},
   "outputs": [
    {
     "data": {
      "text/plain": [
       "array([[ True,  True, False],\n",
       "       [False, False, False]])"
      ]
     },
     "execution_count": 284,
     "metadata": {},
     "output_type": "execute_result"
    }
   ],
   "source": [
    "arr<3"
   ]
  },
  {
   "cell_type": "markdown",
   "id": "cd6cdee7-b944-4d7f-9779-4ac2b5efbe58",
   "metadata": {},
   "source": [
    "# EQUAL TO"
   ]
  },
  {
   "cell_type": "code",
   "execution_count": 287,
   "id": "e094d65e-02c0-4269-8bcb-2898923383a9",
   "metadata": {},
   "outputs": [
    {
     "data": {
      "text/plain": [
       "array([[False, False, False],\n",
       "       [False,  True, False]])"
      ]
     },
     "execution_count": 287,
     "metadata": {},
     "output_type": "execute_result"
    }
   ],
   "source": [
    "arr==5"
   ]
  },
  {
   "cell_type": "code",
   "execution_count": 289,
   "id": "272359fb-37d9-49da-9de8-0d293cafbbe9",
   "metadata": {},
   "outputs": [
    {
     "data": {
      "text/plain": [
       "array([[False, False,  True],\n",
       "       [False, False, False]])"
      ]
     },
     "execution_count": 289,
     "metadata": {},
     "output_type": "execute_result"
    }
   ],
   "source": [
    "arr==3"
   ]
  },
  {
   "cell_type": "markdown",
   "id": "9b65f82e-3cd6-4645-a61c-8b0af7e7a798",
   "metadata": {},
   "source": [
    "# logical operations &,|"
   ]
  },
  {
   "cell_type": "code",
   "execution_count": null,
   "id": "9371ed5b-b86f-49a2-92df-d37d330fed84",
   "metadata": {},
   "outputs": [],
   "source": [
    "# just like the previous ones"
   ]
  },
  {
   "cell_type": "markdown",
   "id": "cc2c6322-e6f4-4c46-a923-d8f3cd7aa13d",
   "metadata": {},
   "source": [
    "# creating matrices in numpy"
   ]
  },
  {
   "cell_type": "code",
   "execution_count": null,
   "id": "ef452e70-62f0-4d3f-ba83-8340f2438a43",
   "metadata": {},
   "outputs": [],
   "source": [
    "# np.array()\n",
    "# np.zeros()\n",
    "# np.ones()\n",
    "# np.eye()\n",
    "# np.random functions"
   ]
  },
  {
   "cell_type": "markdown",
   "id": "1e1654eb-939f-436a-aa26-19b8fef1ebc8",
   "metadata": {},
   "source": [
    "# np.array()"
   ]
  },
  {
   "cell_type": "code",
   "execution_count": 299,
   "id": "0fdacab7-6f32-4f2b-b709-4fa2f4b8f0e1",
   "metadata": {},
   "outputs": [],
   "source": [
    "import numpy as np"
   ]
  },
  {
   "cell_type": "code",
   "execution_count": 352,
   "id": "8161dfdd-eb73-4e4c-9cf3-518d6c87a49a",
   "metadata": {},
   "outputs": [
    {
     "data": {
      "text/plain": [
       "array([[1, 2, 3],\n",
       "       [4, 5, 6],\n",
       "       [7, 8, 9]])"
      ]
     },
     "execution_count": 352,
     "metadata": {},
     "output_type": "execute_result"
    }
   ],
   "source": [
    "np.array([[1,2,3],\n",
    "              [4,5,6],\n",
    "              [7,8,9]])"
   ]
  },
  {
   "cell_type": "markdown",
   "id": "0da8ad03-6fed-43b8-8af4-945166b8ff95",
   "metadata": {},
   "source": [
    "# np.zeros()"
   ]
  },
  {
   "cell_type": "code",
   "execution_count": 350,
   "id": "69873dd3-d943-4dcb-a48b-2b7efeec202d",
   "metadata": {},
   "outputs": [
    {
     "data": {
      "text/plain": [
       "array([[0., 0., 0., 0.],\n",
       "       [0., 0., 0., 0.],\n",
       "       [0., 0., 0., 0.],\n",
       "       [0., 0., 0., 0.]])"
      ]
     },
     "execution_count": 350,
     "metadata": {},
     "output_type": "execute_result"
    }
   ],
   "source": [
    "np.zeros((4,4))"
   ]
  },
  {
   "cell_type": "code",
   "execution_count": 368,
   "id": "83e81ead-bc16-40d8-9256-87f01b2f4e40",
   "metadata": {},
   "outputs": [
    {
     "data": {
      "text/plain": [
       "array([[[0., 0., 0., 0.],\n",
       "        [0., 0., 0., 0.],\n",
       "        [0., 0., 0., 0.],\n",
       "        [0., 0., 0., 0.]],\n",
       "\n",
       "       [[0., 0., 0., 0.],\n",
       "        [0., 0., 0., 0.],\n",
       "        [0., 0., 0., 0.],\n",
       "        [0., 0., 0., 0.]],\n",
       "\n",
       "       [[0., 0., 0., 0.],\n",
       "        [0., 0., 0., 0.],\n",
       "        [0., 0., 0., 0.],\n",
       "        [0., 0., 0., 0.]],\n",
       "\n",
       "       [[0., 0., 0., 0.],\n",
       "        [0., 0., 0., 0.],\n",
       "        [0., 0., 0., 0.],\n",
       "        [0., 0., 0., 0.]]])"
      ]
     },
     "execution_count": 368,
     "metadata": {},
     "output_type": "execute_result"
    }
   ],
   "source": [
    "np.zeros((4,4,4))"
   ]
  },
  {
   "cell_type": "markdown",
   "id": "0b6af625-8318-4e32-a859-36146de6e6a5",
   "metadata": {},
   "source": [
    "# np.ones()"
   ]
  },
  {
   "cell_type": "code",
   "execution_count": 346,
   "id": "6c3ed4f6-f532-4956-9749-0f9e6a6671fe",
   "metadata": {},
   "outputs": [
    {
     "data": {
      "text/plain": [
       "array([[1., 1., 1., 1.],\n",
       "       [1., 1., 1., 1.]])"
      ]
     },
     "execution_count": 346,
     "metadata": {},
     "output_type": "execute_result"
    }
   ],
   "source": [
    "np.ones((2,4))"
   ]
  },
  {
   "cell_type": "markdown",
   "id": "9b4b1367-1095-42af-9ee0-2cdc5dce5b57",
   "metadata": {},
   "source": [
    "# np.eye()"
   ]
  },
  {
   "cell_type": "code",
   "execution_count": 348,
   "id": "0d6ac008-bab0-4971-8799-6cc3f10f9770",
   "metadata": {},
   "outputs": [
    {
     "data": {
      "text/plain": [
       "array([[1., 0., 0., 0.],\n",
       "       [0., 1., 0., 0.],\n",
       "       [0., 0., 1., 0.],\n",
       "       [0., 0., 0., 1.]])"
      ]
     },
     "execution_count": 348,
     "metadata": {},
     "output_type": "execute_result"
    }
   ],
   "source": [
    "np.eye(4)"
   ]
  },
  {
   "cell_type": "code",
   "execution_count": 372,
   "id": "0d471af5-5ce6-444c-92bd-a7324f473308",
   "metadata": {},
   "outputs": [
    {
     "data": {
      "text/plain": [
       "array([[1., 0., 0., 0., 0.],\n",
       "       [0., 1., 0., 0., 0.],\n",
       "       [0., 0., 1., 0., 0.],\n",
       "       [0., 0., 0., 1., 0.],\n",
       "       [0., 0., 0., 0., 1.]])"
      ]
     },
     "execution_count": 372,
     "metadata": {},
     "output_type": "execute_result"
    }
   ],
   "source": [
    "np.eye(5)"
   ]
  },
  {
   "cell_type": "markdown",
   "id": "0d49dc0a-e9b5-4c7c-9de5-1db9526f9e42",
   "metadata": {},
   "source": [
    "# np.random()"
   ]
  },
  {
   "cell_type": "code",
   "execution_count": 396,
   "id": "88bcc777-63cd-460a-a3b0-b450569f8ad7",
   "metadata": {},
   "outputs": [
    {
     "data": {
      "text/plain": [
       "array([[0.92836645, 0.33944418, 0.79429472],\n",
       "       [0.19039651, 0.92095727, 0.35704376],\n",
       "       [0.02787503, 0.34596881, 0.73052141]])"
      ]
     },
     "execution_count": 396,
     "metadata": {},
     "output_type": "execute_result"
    }
   ],
   "source": [
    "np.random.random((3,3))  #float"
   ]
  },
  {
   "cell_type": "code",
   "execution_count": 398,
   "id": "5d410482-3fc4-40c9-88d6-9bfc0e3f4b99",
   "metadata": {},
   "outputs": [
    {
     "data": {
      "text/plain": [
       "array([[0.4369566 , 0.60759717, 0.54114327],\n",
       "       [0.30718106, 0.9290894 , 0.16717862],\n",
       "       [0.13120626, 0.6396518 , 0.41619595]])"
      ]
     },
     "execution_count": 398,
     "metadata": {},
     "output_type": "execute_result"
    }
   ],
   "source": [
    "np.random.random((3,3))  #float"
   ]
  },
  {
   "cell_type": "code",
   "execution_count": 400,
   "id": "3df17b55-2da3-4645-bea7-2fa9802c834e",
   "metadata": {},
   "outputs": [
    {
     "data": {
      "text/plain": [
       "array([[4, 8, 9],\n",
       "       [9, 8, 7],\n",
       "       [5, 8, 8]])"
      ]
     },
     "execution_count": 400,
     "metadata": {},
     "output_type": "execute_result"
    }
   ],
   "source": [
    "np.random.randint(0,10,(3,3))  #int"
   ]
  },
  {
   "cell_type": "code",
   "execution_count": 402,
   "id": "ebac421f-9659-47ed-a0a8-d7717f38ee6c",
   "metadata": {},
   "outputs": [
    {
     "data": {
      "text/plain": [
       "array([[19, 10, 18],\n",
       "       [14,  5,  5],\n",
       "       [12,  7, 16]])"
      ]
     },
     "execution_count": 402,
     "metadata": {},
     "output_type": "execute_result"
    }
   ],
   "source": [
    "np.random.randint(1,20,(3,3))  #int"
   ]
  },
  {
   "cell_type": "code",
   "execution_count": 404,
   "id": "ff00d263-0f16-47f3-ab95-389c02e53b7f",
   "metadata": {},
   "outputs": [
    {
     "data": {
      "text/plain": [
       "array([[1, 1, 1],\n",
       "       [1, 1, 1],\n",
       "       [1, 1, 1]])"
      ]
     },
     "execution_count": 404,
     "metadata": {},
     "output_type": "execute_result"
    }
   ],
   "source": [
    "np.random.randint(1,2,(3,3))  #int"
   ]
  },
  {
   "cell_type": "code",
   "execution_count": null,
   "id": "c3667be5-68cc-41c8-ab02-c56647cb372c",
   "metadata": {},
   "outputs": [],
   "source": []
  },
  {
   "cell_type": "markdown",
   "id": "cee37bb0-f388-48e1-ba84-15d1f0431df2",
   "metadata": {},
   "source": [
    "# Using unique items and counts"
   ]
  },
  {
   "cell_type": "code",
   "execution_count": 409,
   "id": "d9cf0764-8ab7-4891-b256-543479b7ceb6",
   "metadata": {},
   "outputs": [],
   "source": [
    "import numpy as np"
   ]
  },
  {
   "cell_type": "code",
   "execution_count": 411,
   "id": "8f0d6192-521e-42a3-9d59-7cb7ede06fe3",
   "metadata": {},
   "outputs": [],
   "source": [
    "arr=np.array([1,2,3,4,5,6,7,8,9])"
   ]
  },
  {
   "cell_type": "code",
   "execution_count": 413,
   "id": "624c7265-7077-4d36-88b0-a83b90b645e0",
   "metadata": {},
   "outputs": [
    {
     "data": {
      "text/plain": [
       "array([1, 2, 3, 4, 5, 6, 7, 8, 9])"
      ]
     },
     "execution_count": 413,
     "metadata": {},
     "output_type": "execute_result"
    }
   ],
   "source": [
    "np.unique(arr)"
   ]
  },
  {
   "cell_type": "markdown",
   "id": "d9408461-e63d-458a-94f6-5765f8035108",
   "metadata": {},
   "source": [
    "# finding unique items and count"
   ]
  },
  {
   "cell_type": "code",
   "execution_count": 427,
   "id": "4f78ac7f-7bc9-4595-b34f-5ad88f52d988",
   "metadata": {},
   "outputs": [
    {
     "data": {
      "text/plain": [
       "(array([1, 2, 3, 4, 5, 6, 7, 8, 9]),\n",
       " array([1, 1, 1, 1, 1, 1, 1, 1, 1], dtype=int64))"
      ]
     },
     "execution_count": 427,
     "metadata": {},
     "output_type": "execute_result"
    }
   ],
   "source": [
    "np.unique(arr,return_counts=True)"
   ]
  },
  {
   "cell_type": "code",
   "execution_count": 429,
   "id": "9322798e-7eea-48f0-9a77-e87049f9df94",
   "metadata": {},
   "outputs": [],
   "source": [
    "arr=np.array([1,2,2,2,3,4,4,5,5,6,7,8,8,9,9])"
   ]
  },
  {
   "cell_type": "code",
   "execution_count": 431,
   "id": "f026eba5-a2c6-4a5d-a5b2-cbb4b95a5fda",
   "metadata": {},
   "outputs": [
    {
     "data": {
      "text/plain": [
       "(array([1, 2, 3, 4, 5, 6, 7, 8, 9]),\n",
       " array([1, 3, 1, 2, 2, 1, 1, 2, 2], dtype=int64))"
      ]
     },
     "execution_count": 431,
     "metadata": {},
     "output_type": "execute_result"
    }
   ],
   "source": [
    "np.unique(arr,return_counts=True)"
   ]
  },
  {
   "cell_type": "markdown",
   "id": "b8449468-b07f-4b3b-a2f8-53bc74412495",
   "metadata": {},
   "source": [
    "# transposing a matrix (.T OR np.transpose() )"
   ]
  },
  {
   "cell_type": "code",
   "execution_count": 443,
   "id": "c5e49279-2d77-44d5-ac28-fa146f3dd8e2",
   "metadata": {},
   "outputs": [],
   "source": [
    "arr=np.array([[5,10,15],\n",
    "              [20,25,30]])"
   ]
  },
  {
   "cell_type": "code",
   "execution_count": 445,
   "id": "8716a9fb-1a92-4326-8ab1-398388548032",
   "metadata": {},
   "outputs": [
    {
     "data": {
      "text/plain": [
       "array([[ 5, 20],\n",
       "       [10, 25],\n",
       "       [15, 30]])"
      ]
     },
     "execution_count": 445,
     "metadata": {},
     "output_type": "execute_result"
    }
   ],
   "source": [
    "arr.T"
   ]
  },
  {
   "cell_type": "code",
   "execution_count": 449,
   "id": "49fdf5e4-8c3f-4b46-8e13-7f94d39e9c4d",
   "metadata": {},
   "outputs": [
    {
     "data": {
      "text/plain": [
       "array([[ 5, 20],\n",
       "       [10, 25],\n",
       "       [15, 30]])"
      ]
     },
     "execution_count": 449,
     "metadata": {},
     "output_type": "execute_result"
    }
   ],
   "source": [
    "np.transpose(arr)"
   ]
  },
  {
   "cell_type": "markdown",
   "id": "a8101569-e359-43c6-99aa-88f9b9c7b9dd",
   "metadata": {},
   "source": [
    "# Reshaping a Matrix"
   ]
  },
  {
   "cell_type": "code",
   "execution_count": 467,
   "id": "1bbd7376-6bf5-4455-9943-74312bd94ad0",
   "metadata": {},
   "outputs": [],
   "source": [
    "arr=np.array([2,3,4,5,6,7,8,9,10,15])"
   ]
  },
  {
   "cell_type": "code",
   "execution_count": 479,
   "id": "22ae03ff-e237-4bf8-9cf5-472f15c3a887",
   "metadata": {},
   "outputs": [
    {
     "data": {
      "text/plain": [
       "array([[ 2,  3,  4,  5,  6],\n",
       "       [ 7,  8,  9, 10, 15]])"
      ]
     },
     "execution_count": 479,
     "metadata": {},
     "output_type": "execute_result"
    }
   ],
   "source": [
    "arr.reshape(2,5)"
   ]
  },
  {
   "cell_type": "code",
   "execution_count": 485,
   "id": "10c64734-e812-43e7-ba5c-768fab035df5",
   "metadata": {},
   "outputs": [],
   "source": [
    "arr=np.array([[2,3],\n",
    "             [4,5],\n",
    "             [6,7],\n",
    "             [8,9],\n",
    "             [10,15]])"
   ]
  },
  {
   "cell_type": "code",
   "execution_count": 487,
   "id": "6fdfdf72-3dcf-4866-8a2f-d176f202ac8f",
   "metadata": {},
   "outputs": [
    {
     "data": {
      "text/plain": [
       "array([ 2,  3,  4,  5,  6,  7,  8,  9, 10, 15])"
      ]
     },
     "execution_count": 487,
     "metadata": {},
     "output_type": "execute_result"
    }
   ],
   "source": [
    "arr.flatten()"
   ]
  },
  {
   "cell_type": "code",
   "execution_count": 489,
   "id": "aab5b8a4-fea8-4c1e-8b42-96cc0e955080",
   "metadata": {},
   "outputs": [],
   "source": [
    "arr=np.array([[1,2],\n",
    "              [3,4]])"
   ]
  },
  {
   "cell_type": "code",
   "execution_count": 491,
   "id": "e5cfab1f-56c6-4fc9-b1b6-e7ba96e20e9f",
   "metadata": {},
   "outputs": [
    {
     "data": {
      "text/plain": [
       "array([1, 2, 3, 4])"
      ]
     },
     "execution_count": 491,
     "metadata": {},
     "output_type": "execute_result"
    }
   ],
   "source": [
    "arr.flatten()"
   ]
  },
  {
   "cell_type": "markdown",
   "id": "816b4c20-eb60-4572-a9b1-2c4ccc5ec9fc",
   "metadata": {},
   "source": [
    "# NUMPY + IMAGES"
   ]
  },
  {
   "cell_type": "code",
   "execution_count": null,
   "id": "8cded859-2b27-43e0-b926-ff719debcc00",
   "metadata": {},
   "outputs": [],
   "source": []
  }
 ],
 "metadata": {
  "kernelspec": {
   "display_name": "Python [conda env:base] *",
   "language": "python",
   "name": "conda-base-py"
  },
  "language_info": {
   "codemirror_mode": {
    "name": "ipython",
    "version": 3
   },
   "file_extension": ".py",
   "mimetype": "text/x-python",
   "name": "python",
   "nbconvert_exporter": "python",
   "pygments_lexer": "ipython3",
   "version": "3.12.7"
  }
 },
 "nbformat": 4,
 "nbformat_minor": 5
}
