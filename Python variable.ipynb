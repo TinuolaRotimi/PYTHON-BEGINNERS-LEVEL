{
 "cells": [
  {
   "cell_type": "code",
   "execution_count": 1,
   "id": "22f83b52-74e3-4caa-8200-5078e8d69d81",
   "metadata": {},
   "outputs": [
    {
     "data": {
      "text/plain": [
       "'3.12.7 | packaged by Anaconda, Inc. | (main, Oct  4 2024, 13:17:27) [MSC v.1929 64 bit (AMD64)]'"
      ]
     },
     "execution_count": 1,
     "metadata": {},
     "output_type": "execute_result"
    }
   ],
   "source": [
    "import sys\n",
    "sys.version"
   ]
  },
  {
   "cell_type": "code",
   "execution_count": 8,
   "id": "65d3fe3a-cf8c-4d89-b798-7891bf9276fa",
   "metadata": {},
   "outputs": [
    {
     "data": {
      "text/plain": [
       "['False',\n",
       " 'None',\n",
       " 'True',\n",
       " 'and',\n",
       " 'as',\n",
       " 'assert',\n",
       " 'async',\n",
       " 'await',\n",
       " 'break',\n",
       " 'class',\n",
       " 'continue',\n",
       " 'def',\n",
       " 'del',\n",
       " 'elif',\n",
       " 'else',\n",
       " 'except',\n",
       " 'finally',\n",
       " 'for',\n",
       " 'from',\n",
       " 'global',\n",
       " 'if',\n",
       " 'import',\n",
       " 'in',\n",
       " 'is',\n",
       " 'lambda',\n",
       " 'nonlocal',\n",
       " 'not',\n",
       " 'or',\n",
       " 'pass',\n",
       " 'raise',\n",
       " 'return',\n",
       " 'try',\n",
       " 'while',\n",
       " 'with',\n",
       " 'yield']"
      ]
     },
     "execution_count": 8,
     "metadata": {},
     "output_type": "execute_result"
    }
   ],
   "source": [
    "import keyword\n",
    "keyword.kwlist"
   ]
  },
  {
   "cell_type": "code",
   "execution_count": 10,
   "id": "1a9489a7-19ea-4fb8-b01e-065183a44fa7",
   "metadata": {},
   "outputs": [
    {
     "data": {
      "text/plain": [
       "35"
      ]
     },
     "execution_count": 10,
     "metadata": {},
     "output_type": "execute_result"
    }
   ],
   "source": [
    "len(keyword.kwlist)"
   ]
  },
  {
   "cell_type": "markdown",
   "id": "390f1ee0-45f3-483b-9e3f-13f6edb5c788",
   "metadata": {},
   "source": [
    "# variable"
   ]
  },
  {
   "cell_type": "code",
   "execution_count": 17,
   "id": "2745061c-8d84-4c37-9081-8863368cd4a5",
   "metadata": {},
   "outputs": [],
   "source": [
    "a = 5"
   ]
  },
  {
   "cell_type": "code",
   "execution_count": 19,
   "id": "3dad2ce5-4083-445b-ab0e-8eb0c40cc4a3",
   "metadata": {},
   "outputs": [
    {
     "data": {
      "text/plain": [
       "5"
      ]
     },
     "execution_count": 19,
     "metadata": {},
     "output_type": "execute_result"
    }
   ],
   "source": [
    "a"
   ]
  },
  {
   "cell_type": "code",
   "execution_count": 21,
   "id": "90027513-e77a-4363-b2db-310018a38426",
   "metadata": {},
   "outputs": [
    {
     "data": {
      "text/plain": [
       "int"
      ]
     },
     "execution_count": 21,
     "metadata": {},
     "output_type": "execute_result"
    }
   ],
   "source": [
    "type(a)"
   ]
  },
  {
   "cell_type": "code",
   "execution_count": 23,
   "id": "b7c0c508-b910-4262-a469-8c740015ed9c",
   "metadata": {},
   "outputs": [
    {
     "data": {
      "text/plain": [
       "140709477034552"
      ]
     },
     "execution_count": 23,
     "metadata": {},
     "output_type": "execute_result"
    }
   ],
   "source": [
    "id(a)"
   ]
  },
  {
   "cell_type": "code",
   "execution_count": 25,
   "id": "238f06c4-219e-4c8a-ab96-d7569e964692",
   "metadata": {},
   "outputs": [
    {
     "data": {
      "text/plain": [
       "5.5"
      ]
     },
     "execution_count": 25,
     "metadata": {},
     "output_type": "execute_result"
    }
   ],
   "source": [
    "b = 5.5\n",
    "b"
   ]
  },
  {
   "cell_type": "code",
   "execution_count": 27,
   "id": "47c50780-9894-4134-9425-1516d5a6db20",
   "metadata": {},
   "outputs": [
    {
     "data": {
      "text/plain": [
       "float"
      ]
     },
     "execution_count": 27,
     "metadata": {},
     "output_type": "execute_result"
    }
   ],
   "source": [
    "type(b)"
   ]
  },
  {
   "cell_type": "code",
   "execution_count": 29,
   "id": "5d00441f-89a7-479f-85d9-09f6d19a0828",
   "metadata": {},
   "outputs": [],
   "source": [
    "age = 25"
   ]
  },
  {
   "cell_type": "code",
   "execution_count": 31,
   "id": "70811980-5001-4ca2-b1ca-4cabe5b42506",
   "metadata": {},
   "outputs": [
    {
     "name": "stdout",
     "output_type": "stream",
     "text": [
      "25\n"
     ]
    }
   ],
   "source": [
    "print(age)"
   ]
  },
  {
   "cell_type": "code",
   "execution_count": 33,
   "id": "1dc6cc66-ae51-43cf-b0eb-c7c3e7167cba",
   "metadata": {},
   "outputs": [
    {
     "data": {
      "text/plain": [
       "int"
      ]
     },
     "execution_count": 33,
     "metadata": {},
     "output_type": "execute_result"
    }
   ],
   "source": [
    "type(age)"
   ]
  },
  {
   "cell_type": "code",
   "execution_count": 35,
   "id": "1db20f96-fa43-4125-977f-9c6ebe32186a",
   "metadata": {},
   "outputs": [],
   "source": [
    "name = 'Tinu'"
   ]
  },
  {
   "cell_type": "code",
   "execution_count": 37,
   "id": "6005115e-8586-400c-8922-26648397e074",
   "metadata": {},
   "outputs": [
    {
     "name": "stdout",
     "output_type": "stream",
     "text": [
      "Tinu\n"
     ]
    }
   ],
   "source": [
    "print(name)"
   ]
  },
  {
   "cell_type": "code",
   "execution_count": 39,
   "id": "ec86a7af-4549-4db6-a47c-66be7617cf49",
   "metadata": {},
   "outputs": [
    {
     "data": {
      "text/plain": [
       "str"
      ]
     },
     "execution_count": 39,
     "metadata": {},
     "output_type": "execute_result"
    }
   ],
   "source": [
    "type(name)"
   ]
  },
  {
   "cell_type": "code",
   "execution_count": 46,
   "id": "67767560-22bd-4e94-9f49-e53c7c660717",
   "metadata": {},
   "outputs": [],
   "source": [
    "price = 19.99"
   ]
  },
  {
   "cell_type": "code",
   "execution_count": 48,
   "id": "895dfe89-4736-474d-a870-dc9fb2d118be",
   "metadata": {},
   "outputs": [
    {
     "name": "stdout",
     "output_type": "stream",
     "text": [
      "19.99\n"
     ]
    }
   ],
   "source": [
    "print(price)"
   ]
  },
  {
   "cell_type": "code",
   "execution_count": 50,
   "id": "456aa2ad-b996-4395-830b-11a1e087c805",
   "metadata": {},
   "outputs": [
    {
     "data": {
      "text/plain": [
       "float"
      ]
     },
     "execution_count": 50,
     "metadata": {},
     "output_type": "execute_result"
    }
   ],
   "source": [
    "type(price)"
   ]
  },
  {
   "cell_type": "code",
   "execution_count": 52,
   "id": "871dbf03-7ca7-47fc-b287-8825040b3eea",
   "metadata": {},
   "outputs": [],
   "source": [
    "is_active = True"
   ]
  },
  {
   "cell_type": "code",
   "execution_count": 54,
   "id": "b4c7fbe9-0c4c-4fb3-9261-c57dc88b98bb",
   "metadata": {},
   "outputs": [
    {
     "name": "stdout",
     "output_type": "stream",
     "text": [
      "True\n"
     ]
    }
   ],
   "source": [
    "print(is_active)"
   ]
  },
  {
   "cell_type": "code",
   "execution_count": 58,
   "id": "cc51a5f9-895f-4b81-81f4-39c0ff615108",
   "metadata": {},
   "outputs": [
    {
     "data": {
      "text/plain": [
       "builtin_function_or_method"
      ]
     },
     "execution_count": 58,
     "metadata": {},
     "output_type": "execute_result"
    }
   ],
   "source": [
    "type(print)"
   ]
  },
  {
   "cell_type": "markdown",
   "id": "e1f88555-0d5e-41c1-b7dc-c39322c0db9b",
   "metadata": {},
   "source": [
    "# storing and printing a value"
   ]
  },
  {
   "cell_type": "code",
   "execution_count": 61,
   "id": "97532c1e-a661-476d-95d4-937ac68d941b",
   "metadata": {},
   "outputs": [],
   "source": [
    "x = 10"
   ]
  },
  {
   "cell_type": "code",
   "execution_count": 63,
   "id": "834f696d-adbe-4ca7-baec-176e45f2a6dc",
   "metadata": {},
   "outputs": [
    {
     "name": "stdout",
     "output_type": "stream",
     "text": [
      "10\n"
     ]
    }
   ],
   "source": [
    "print(x)"
   ]
  },
  {
   "cell_type": "markdown",
   "id": "709e3304-31d1-452c-b130-761926832fab",
   "metadata": {},
   "source": [
    "# using variables in expression "
   ]
  },
  {
   "cell_type": "code",
   "execution_count": 65,
   "id": "37ecedd7-076c-4027-b097-ac3b8ea84c83",
   "metadata": {},
   "outputs": [],
   "source": [
    "a = 5\n",
    "b = 3"
   ]
  },
  {
   "cell_type": "code",
   "execution_count": 67,
   "id": "21f2bbbb-1fb2-489f-8025-32b3726a35ef",
   "metadata": {},
   "outputs": [],
   "source": [
    "result = a + b"
   ]
  },
  {
   "cell_type": "code",
   "execution_count": 69,
   "id": "58a23398-11f2-477a-b8b7-750db765d7d9",
   "metadata": {},
   "outputs": [
    {
     "name": "stdout",
     "output_type": "stream",
     "text": [
      "8\n"
     ]
    }
   ],
   "source": [
    "print(result)"
   ]
  },
  {
   "cell_type": "markdown",
   "id": "cd66258a-eadd-48c0-a645-50ccc2d03a2c",
   "metadata": {},
   "source": [
    "# changing the value of a variable"
   ]
  },
  {
   "cell_type": "code",
   "execution_count": 76,
   "id": "a816ea90-fc1a-4e2e-89b7-03e77d78a530",
   "metadata": {},
   "outputs": [],
   "source": [
    "score = 50"
   ]
  },
  {
   "cell_type": "code",
   "execution_count": 78,
   "id": "91fad302-69ce-4c7f-9caf-e5953ac9143e",
   "metadata": {},
   "outputs": [
    {
     "name": "stdout",
     "output_type": "stream",
     "text": [
      "50\n"
     ]
    }
   ],
   "source": [
    "print(score)"
   ]
  },
  {
   "cell_type": "code",
   "execution_count": 80,
   "id": "e375b622-cd7b-4142-825d-5c949e339e60",
   "metadata": {},
   "outputs": [],
   "source": [
    "score = 100"
   ]
  },
  {
   "cell_type": "code",
   "execution_count": 82,
   "id": "236baed0-4e31-4bd8-b4e3-120a9bd7608f",
   "metadata": {},
   "outputs": [
    {
     "name": "stdout",
     "output_type": "stream",
     "text": [
      "100\n"
     ]
    }
   ],
   "source": [
    "print(score)"
   ]
  },
  {
   "cell_type": "markdown",
   "id": "475d2660-c0a5-4e35-bd1b-da191eb8090f",
   "metadata": {},
   "source": [
    "# concatenating strings"
   ]
  },
  {
   "cell_type": "code",
   "execution_count": 94,
   "id": "04c9255c-9746-42ce-8fc9-e02279a93fb5",
   "metadata": {},
   "outputs": [],
   "source": [
    "first_name = 'Tinuola'\n",
    "last_name = 'Rotimi'"
   ]
  },
  {
   "cell_type": "code",
   "execution_count": 96,
   "id": "add39217-ae60-475b-a899-ea063bc06567",
   "metadata": {},
   "outputs": [],
   "source": [
    "full_name = first_name + ' ' + last_name"
   ]
  },
  {
   "cell_type": "code",
   "execution_count": 98,
   "id": "22a57c2f-bfbf-4bef-a62f-fceea3844c6d",
   "metadata": {},
   "outputs": [
    {
     "name": "stdout",
     "output_type": "stream",
     "text": [
      "Tinuola Rotimi\n"
     ]
    }
   ],
   "source": [
    "print(full_name)"
   ]
  },
  {
   "cell_type": "markdown",
   "id": "419031c9-c7c0-4841-bc4a-55b9a4e2fa4d",
   "metadata": {},
   "source": [
    "# using variable in calculations "
   ]
  },
  {
   "cell_type": "code",
   "execution_count": 101,
   "id": "511a9fa7-6492-4d38-bdc5-c59dfaa05476",
   "metadata": {},
   "outputs": [],
   "source": [
    "length = 10\n",
    "width = 5"
   ]
  },
  {
   "cell_type": "code",
   "execution_count": 103,
   "id": "3f3a40dd-33bf-499a-b164-f8c05dc3e97e",
   "metadata": {},
   "outputs": [],
   "source": [
    "area = length * width"
   ]
  },
  {
   "cell_type": "code",
   "execution_count": 105,
   "id": "907e2e39-e418-4c15-9af4-55a9c6fd4df3",
   "metadata": {},
   "outputs": [
    {
     "name": "stdout",
     "output_type": "stream",
     "text": [
      "50\n"
     ]
    }
   ],
   "source": [
    "print(area)"
   ]
  },
  {
   "cell_type": "markdown",
   "id": "9b0fb80d-806e-49bb-9e34-c3dcf7a58753",
   "metadata": {},
   "source": [
    "# reassigning value to variable"
   ]
  },
  {
   "cell_type": "code",
   "execution_count": 109,
   "id": "3609bd4c-8b8e-4532-a231-b9e057738d4f",
   "metadata": {},
   "outputs": [],
   "source": [
    "x = 10"
   ]
  },
  {
   "cell_type": "code",
   "execution_count": 114,
   "id": "12ea6146-d460-4e3e-b76e-f7c86350d405",
   "metadata": {},
   "outputs": [
    {
     "name": "stdout",
     "output_type": "stream",
     "text": [
      "10\n"
     ]
    }
   ],
   "source": [
    "print (x)"
   ]
  },
  {
   "cell_type": "code",
   "execution_count": 116,
   "id": "e5ed66b1-a923-4e4e-af55-3f3b13e7da75",
   "metadata": {},
   "outputs": [],
   "source": [
    "x = 20"
   ]
  },
  {
   "cell_type": "code",
   "execution_count": 118,
   "id": "0b238031-d7a4-4636-abfd-1cd3afd054fe",
   "metadata": {},
   "outputs": [
    {
     "name": "stdout",
     "output_type": "stream",
     "text": [
      "20\n"
     ]
    }
   ],
   "source": [
    "print (x)"
   ]
  }
 ],
 "metadata": {
  "kernelspec": {
   "display_name": "Python [conda env:base] *",
   "language": "python",
   "name": "conda-base-py"
  },
  "language_info": {
   "codemirror_mode": {
    "name": "ipython",
    "version": 3
   },
   "file_extension": ".py",
   "mimetype": "text/x-python",
   "name": "python",
   "nbconvert_exporter": "python",
   "pygments_lexer": "ipython3",
   "version": "3.12.7"
  }
 },
 "nbformat": 4,
 "nbformat_minor": 5
}
