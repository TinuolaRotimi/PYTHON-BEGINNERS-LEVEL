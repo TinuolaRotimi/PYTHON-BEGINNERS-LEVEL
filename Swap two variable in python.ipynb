{
 "cells": [
  {
   "cell_type": "markdown",
   "id": "e1394905-ba57-4d4e-aa8f-4b6cbd474b47",
   "metadata": {},
   "source": [
    "# Swap 2 variable in python\n",
    "\n",
    "(a,b = 5,6) After swap we should get ==> (a,b = 6,5)"
   ]
  },
  {
   "cell_type": "code",
   "execution_count": 4,
   "id": "79663cc0-4280-47a3-9202-69c163385887",
   "metadata": {},
   "outputs": [],
   "source": [
    "a=5\n",
    "b=6"
   ]
  },
  {
   "cell_type": "code",
   "execution_count": 6,
   "id": "14390455-bea6-4637-953c-a0b6221a724d",
   "metadata": {},
   "outputs": [
    {
     "name": "stdout",
     "output_type": "stream",
     "text": [
      "5\n",
      "6\n"
     ]
    }
   ],
   "source": [
    "print(a)\n",
    "print(b)"
   ]
  },
  {
   "cell_type": "code",
   "execution_count": 8,
   "id": "7039ace7-7dcc-41be-9f22-e9dcec724309",
   "metadata": {},
   "outputs": [],
   "source": [
    "a1=7\n",
    "b1=8"
   ]
  },
  {
   "cell_type": "code",
   "execution_count": 10,
   "id": "6f02e085-9f03-4ac0-b753-df623f3eb063",
   "metadata": {},
   "outputs": [],
   "source": [
    "temp=a1\n",
    "a1=b1\n",
    "b1=temp"
   ]
  },
  {
   "cell_type": "code",
   "execution_count": 12,
   "id": "fb1964f9-e806-46fb-b833-c70bdbc71a92",
   "metadata": {},
   "outputs": [
    {
     "name": "stdout",
     "output_type": "stream",
     "text": [
      "8\n",
      "7\n"
     ]
    }
   ],
   "source": [
    "print(a1)\n",
    "print(b1)"
   ]
  },
  {
   "cell_type": "code",
   "execution_count": 14,
   "id": "f379d42c-07a0-4f00-b475-b6a770273d2d",
   "metadata": {},
   "outputs": [],
   "source": [
    "a2=5\n",
    "b2=6"
   ]
  },
  {
   "cell_type": "code",
   "execution_count": 16,
   "id": "1c78552b-febd-4142-85ad-648a280c5bfe",
   "metadata": {},
   "outputs": [],
   "source": [
    "a2=a2+b2\n",
    "b2=a2-b2\n",
    "a2=a2-b2"
   ]
  },
  {
   "cell_type": "code",
   "execution_count": 20,
   "id": "47d91079-b095-419c-9e9b-954453c71cd2",
   "metadata": {},
   "outputs": [
    {
     "name": "stdout",
     "output_type": "stream",
     "text": [
      "6\n",
      "5\n"
     ]
    }
   ],
   "source": [
    "print(a2)\n",
    "print(b2)"
   ]
  },
  {
   "cell_type": "code",
   "execution_count": 22,
   "id": "0f609354-d13a-4459-bb5f-e68e8cb3757d",
   "metadata": {},
   "outputs": [
    {
     "name": "stdout",
     "output_type": "stream",
     "text": [
      "6\n",
      "5\n"
     ]
    }
   ],
   "source": [
    "print(0b110)\n",
    "print(0b101)"
   ]
  },
  {
   "cell_type": "code",
   "execution_count": 24,
   "id": "4e438446-452c-447f-ac9f-d0fd807740b2",
   "metadata": {},
   "outputs": [
    {
     "name": "stdout",
     "output_type": "stream",
     "text": [
      "5\n",
      "6\n"
     ]
    }
   ],
   "source": [
    "print(0b101)\n",
    "print(0b110)"
   ]
  },
  {
   "cell_type": "code",
   "execution_count": 26,
   "id": "6cb6ec20-36e9-433f-9968-3e3295778121",
   "metadata": {},
   "outputs": [
    {
     "name": "stdout",
     "output_type": "stream",
     "text": [
      "0b1011\n"
     ]
    }
   ],
   "source": [
    "print(bin(11))"
   ]
  },
  {
   "cell_type": "code",
   "execution_count": 28,
   "id": "8e9ee3ed-1e8a-481a-bc37-f8cf9cd65357",
   "metadata": {},
   "outputs": [
    {
     "name": "stdout",
     "output_type": "stream",
     "text": [
      "11\n"
     ]
    }
   ],
   "source": [
    "print(0b1011)"
   ]
  },
  {
   "cell_type": "markdown",
   "id": "e4f7e51a-3db8-41d4-8c99-f1bb2815a11c",
   "metadata": {},
   "source": [
    "# XOR"
   ]
  },
  {
   "cell_type": "code",
   "execution_count": 33,
   "id": "270a7ca6-8942-4f0e-aae7-ac9d9cd883ec",
   "metadata": {},
   "outputs": [
    {
     "data": {
      "text/plain": [
       "(5, 6)"
      ]
     },
     "execution_count": 33,
     "metadata": {},
     "output_type": "execute_result"
    }
   ],
   "source": [
    "a2, b2"
   ]
  },
  {
   "cell_type": "code",
   "execution_count": 31,
   "id": "d3b4232c-755b-45fb-8142-f4e64eb193ad",
   "metadata": {},
   "outputs": [],
   "source": [
    "a2 , b2 = b2,a2"
   ]
  },
  {
   "cell_type": "code",
   "execution_count": 35,
   "id": "ba8fc3f9-1965-48b6-ae52-5b5fc12ee5cd",
   "metadata": {},
   "outputs": [
    {
     "name": "stdout",
     "output_type": "stream",
     "text": [
      "5\n",
      "6\n"
     ]
    }
   ],
   "source": [
    "print(a2)\n",
    "print(b2)"
   ]
  },
  {
   "cell_type": "code",
   "execution_count": null,
   "id": "8d72f1b1-b28a-487c-8ae8-e7ec9b79cf66",
   "metadata": {},
   "outputs": [],
   "source": []
  }
 ],
 "metadata": {
  "kernelspec": {
   "display_name": "Python [conda env:base] *",
   "language": "python",
   "name": "conda-base-py"
  },
  "language_info": {
   "codemirror_mode": {
    "name": "ipython",
    "version": 3
   },
   "file_extension": ".py",
   "mimetype": "text/x-python",
   "name": "python",
   "nbconvert_exporter": "python",
   "pygments_lexer": "ipython3",
   "version": "3.12.7"
  }
 },
 "nbformat": 4,
 "nbformat_minor": 5
}
