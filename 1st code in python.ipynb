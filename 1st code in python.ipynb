{
 "cells": [
  {
   "cell_type": "markdown",
   "id": "56b35530-9e9b-424b-acc0-a27f09ed12e1",
   "metadata": {},
   "source": [
    "# PYTHON PROGRAMMING LANGUAGE"
   ]
  },
  {
   "cell_type": "raw",
   "id": "3b83cef7-d482-4028-becd-16c0515e938b",
   "metadata": {},
   "source": [
    "- We will learn from basic to pro level\n",
    "- how to add text by changing code to markdown\n",
    "- we will add image "
   ]
  },
  {
   "cell_type": "code",
   "execution_count": 2,
   "id": "5ec6d194-b1e0-4beb-9c22-1fc8ade52cd5",
   "metadata": {},
   "outputs": [
    {
     "data": {
      "text/plain": [
       "'3.12.7 | packaged by Anaconda, Inc. | (main, Oct  4 2024, 13:17:27) [MSC v.1929 64 bit (AMD64)]'"
      ]
     },
     "execution_count": 2,
     "metadata": {},
     "output_type": "execute_result"
    }
   ],
   "source": [
    "import sys\n",
    "sys.version"
   ]
  },
  {
   "cell_type": "code",
   "execution_count": 4,
   "id": "bb1c4698-a09c-4809-a2c3-bff4814177b4",
   "metadata": {},
   "outputs": [
    {
     "data": {
      "text/plain": [
       "'welcome to python programming language'"
      ]
     },
     "execution_count": 4,
     "metadata": {},
     "output_type": "execute_result"
    }
   ],
   "source": [
    " 'welcome to python programming language'"
   ]
  },
  {
   "cell_type": "code",
   "execution_count": 6,
   "id": "03ceba23-3d4e-4f37-a820-0bd394d4fc37",
   "metadata": {},
   "outputs": [
    {
     "data": {
      "text/plain": [
       "2"
      ]
     },
     "execution_count": 6,
     "metadata": {},
     "output_type": "execute_result"
    }
   ],
   "source": [
    "a=2\n",
    "a"
   ]
  }
 ],
 "metadata": {
  "kernelspec": {
   "display_name": "Python [conda env:base] *",
   "language": "python",
   "name": "conda-base-py"
  },
  "language_info": {
   "codemirror_mode": {
    "name": "ipython",
    "version": 3
   },
   "file_extension": ".py",
   "mimetype": "text/x-python",
   "name": "python",
   "nbconvert_exporter": "python",
   "pygments_lexer": "ipython3",
   "version": "3.12.7"
  }
 },
 "nbformat": 4,
 "nbformat_minor": 5
}
