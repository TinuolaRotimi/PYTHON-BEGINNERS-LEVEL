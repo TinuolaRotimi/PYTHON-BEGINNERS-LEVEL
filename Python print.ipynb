{
 "cells": [
  {
   "cell_type": "markdown",
   "id": "8d9dab55-5475-4e69-8342-7bd5291673c2",
   "metadata": {},
   "source": [
    "# PYTHON PRINT STATEMENT"
   ]
  },
  {
   "cell_type": "code",
   "execution_count": 2,
   "id": "b96f8902-4cad-4b9d-b95c-e0fb89ac03c1",
   "metadata": {},
   "outputs": [
    {
     "data": {
      "text/plain": [
       "20"
      ]
     },
     "execution_count": 2,
     "metadata": {},
     "output_type": "execute_result"
    }
   ],
   "source": [
    "a = 10\n",
    "b = 20 \n",
    "a\n",
    "b"
   ]
  },
  {
   "cell_type": "code",
   "execution_count": 14,
   "id": "2989201e-a404-444f-b6c0-43474cb60cc8",
   "metadata": {},
   "outputs": [
    {
     "name": "stdout",
     "output_type": "stream",
     "text": [
      "10\n",
      "20\n"
     ]
    }
   ],
   "source": [
    "a = 10\n",
    "b = 20\n",
    "print(a)\n",
    "print(b)"
   ]
  },
  {
   "cell_type": "code",
   "execution_count": 16,
   "id": "375a1551-94e8-4100-a6c2-cf9b03267126",
   "metadata": {},
   "outputs": [
    {
     "name": "stdout",
     "output_type": "stream",
     "text": [
      "10\n",
      "10 20\n",
      "python\n",
      "10 20 python\n"
     ]
    }
   ],
   "source": [
    "print(10)\n",
    "print(10, 20)\n",
    "print('python')\n",
    "print(10, 20, 'python')"
   ]
  },
  {
   "cell_type": "code",
   "execution_count": 18,
   "id": "12cdd3a7-5b2f-41f9-b191-ffaa1865f36e",
   "metadata": {},
   "outputs": [
    {
     "name": "stdout",
     "output_type": "stream",
     "text": [
      "50\n"
     ]
    }
   ],
   "source": [
    "num1 = 20\n",
    "num2 = 30\n",
    "add=num1+num2\n",
    "print(add)"
   ]
  },
  {
   "cell_type": "markdown",
   "id": "ae2ae3b5-0415-4c43-b970-328aaa0e9129",
   "metadata": {},
   "source": [
    "# print result with string"
   ]
  },
  {
   "cell_type": "code",
   "execution_count": 1,
   "id": "31935872-ff48-41d4-944a-c741453e84f0",
   "metadata": {},
   "outputs": [
    {
     "name": "stdout",
     "output_type": "stream",
     "text": [
      "my name is Tinu and i am 23 years old from nigeria\n"
     ]
    }
   ],
   "source": [
    "name='Tinu'\n",
    "age=23\n",
    "city='nigeria'\n",
    "print('my name is' ,name, 'and i am' ,age, 'years old from' , city)\n",
    "#hello my name is Tinu and i am 20 years old from nigeria"
   ]
  },
  {
   "cell_type": "code",
   "execution_count": 11,
   "id": "aa87791c-80e1-41e6-a695-2a6d346c606b",
   "metadata": {},
   "outputs": [
    {
     "name": "stdout",
     "output_type": "stream",
     "text": [
      "152.67\n"
     ]
    }
   ],
   "source": [
    "num1=100\n",
    "num2=25\n",
    "num3=333\n",
    "avg=(num1+num2+num3)/3,2\n",
    "avg1=round((num1+num2+num3)/3,2)\n",
    "print(avg1)"
   ]
  },
  {
   "cell_type": "code",
   "execution_count": 13,
   "id": "8691672d-5846-4a9a-82c9-cef0469d8417",
   "metadata": {},
   "outputs": [
    {
     "name": "stdout",
     "output_type": "stream",
     "text": [
      "125\n"
     ]
    }
   ],
   "source": [
    "add=num1+num2\n",
    "print(add)"
   ]
  },
  {
   "cell_type": "code",
   "execution_count": 15,
   "id": "2daedc44-a74f-4f8e-a278-11c7b06543c4",
   "metadata": {},
   "outputs": [
    {
     "name": "stdout",
     "output_type": "stream",
     "text": [
      "30\n"
     ]
    }
   ],
   "source": [
    "num1=10\n",
    "num2=20\n",
    "add = num1+num2\n",
    "print(add)"
   ]
  },
  {
   "cell_type": "markdown",
   "id": "4186e25e-736d-4f90-8f06-646f5b07b489",
   "metadata": {},
   "source": [
    "# end statement "
   ]
  },
  {
   "cell_type": "code",
   "execution_count": 25,
   "id": "49eee1c6-080d-481e-85bf-fd74345ff14a",
   "metadata": {},
   "outputs": [
    {
     "name": "stdout",
     "output_type": "stream",
     "text": [
      "hello\n",
      "goodmorning\n"
     ]
    }
   ],
   "source": [
    "print('hello')\n",
    "print('goodmorning')"
   ]
  }
 ],
 "metadata": {
  "kernelspec": {
   "display_name": "Python [conda env:base] *",
   "language": "python",
   "name": "conda-base-py"
  },
  "language_info": {
   "codemirror_mode": {
    "name": "ipython",
    "version": 3
   },
   "file_extension": ".py",
   "mimetype": "text/x-python",
   "name": "python",
   "nbconvert_exporter": "python",
   "pygments_lexer": "ipython3",
   "version": "3.12.7"
  }
 },
 "nbformat": 4,
 "nbformat_minor": 5
}
