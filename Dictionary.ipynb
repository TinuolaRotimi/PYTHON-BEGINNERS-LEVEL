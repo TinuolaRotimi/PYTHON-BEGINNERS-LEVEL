{
 "cells": [
  {
   "cell_type": "markdown",
   "id": "a8803423-22a5-4fd5-95c8-52981da1e7ce",
   "metadata": {},
   "source": [
    "# DICT"
   ]
  },
  {
   "cell_type": "code",
   "execution_count": 3,
   "id": "9a358818-4c37-47e0-9af4-bdab6b298e8e",
   "metadata": {},
   "outputs": [
    {
     "data": {
      "text/plain": [
       "{}"
      ]
     },
     "execution_count": 3,
     "metadata": {},
     "output_type": "execute_result"
    }
   ],
   "source": [
    "mydict={}\n",
    "mydict"
   ]
  },
  {
   "cell_type": "code",
   "execution_count": 9,
   "id": "8ff1b709-f98e-4d6e-b5de-7ce7122d6a79",
   "metadata": {},
   "outputs": [
    {
     "data": {
      "text/plain": [
       "{1: 'one', 2: 'two', 3: 'three'}"
      ]
     },
     "execution_count": 9,
     "metadata": {},
     "output_type": "execute_result"
    }
   ],
   "source": [
    "mydict={1:'one', 2:'two',3:'three'}\n",
    "mydict"
   ]
  },
  {
   "cell_type": "code",
   "execution_count": 11,
   "id": "c705505f-2cb7-4503-a1d6-d0b8c1562156",
   "metadata": {},
   "outputs": [
    {
     "data": {
      "text/plain": [
       "{'A': 'one', 'B': 'two', 'C': 'three'}"
      ]
     },
     "execution_count": 11,
     "metadata": {},
     "output_type": "execute_result"
    }
   ],
   "source": [
    "mydict={'A':'one', 'B':'two','C':'three'}\n",
    "mydict"
   ]
  },
  {
   "cell_type": "code",
   "execution_count": 13,
   "id": "75d5c51b-d27a-45a4-8b2c-eff7aa02fb1e",
   "metadata": {},
   "outputs": [
    {
     "data": {
      "text/plain": [
       "{'A': 'one', 2: 'two', 'C': 'three'}"
      ]
     },
     "execution_count": 13,
     "metadata": {},
     "output_type": "execute_result"
    }
   ],
   "source": [
    "mydict={'A':'one', 2:'two','C':'three'}\n",
    "mydict"
   ]
  },
  {
   "cell_type": "code",
   "execution_count": 15,
   "id": "73b2cfdf-d8c2-429e-9cd6-4d757011b439",
   "metadata": {},
   "outputs": [
    {
     "data": {
      "text/plain": [
       "{1: 'one', 2: 'two', 'C': 'three'}"
      ]
     },
     "execution_count": 15,
     "metadata": {},
     "output_type": "execute_result"
    }
   ],
   "source": [
    "mydict={1:'one', 2:'two','C':'three'}\n",
    "mydict"
   ]
  },
  {
   "cell_type": "markdown",
   "id": "aceb1600-3b4d-4b79-ae46-d865e8e3862e",
   "metadata": {},
   "source": [
    "# accessing items"
   ]
  },
  {
   "cell_type": "code",
   "execution_count": 18,
   "id": "93fd0a36-fba7-4d03-8720-8552829f8829",
   "metadata": {},
   "outputs": [
    {
     "name": "stdout",
     "output_type": "stream",
     "text": [
      "one\n"
     ]
    }
   ],
   "source": [
    "print(mydict[1])"
   ]
  },
  {
   "cell_type": "code",
   "execution_count": 22,
   "id": "430e549a-e3d7-4ec7-b957-2770b2d0372f",
   "metadata": {},
   "outputs": [
    {
     "name": "stdout",
     "output_type": "stream",
     "text": [
      "two\n"
     ]
    }
   ],
   "source": [
    "print(mydict[2])"
   ]
  },
  {
   "cell_type": "markdown",
   "id": "5e1d429d-76b7-4e6f-b830-9ec8ea31926a",
   "metadata": {},
   "source": [
    "# add,remove and change items"
   ]
  },
  {
   "cell_type": "markdown",
   "id": "b85ac8f2-c17b-4eca-ab84-4b206c0f6fd3",
   "metadata": {},
   "source": [
    "# add"
   ]
  },
  {
   "cell_type": "code",
   "execution_count": 7,
   "id": "861ffd3f-466f-4bd0-bf51-5d51147aacaf",
   "metadata": {},
   "outputs": [
    {
     "data": {
      "text/plain": [
       "{1: 'one', 2: 'two', 'C': 'three'}"
      ]
     },
     "execution_count": 7,
     "metadata": {},
     "output_type": "execute_result"
    }
   ],
   "source": [
    "mydict={1:'one', 2:'two','C':'three'}\n",
    "mydict"
   ]
  },
  {
   "cell_type": "code",
   "execution_count": 9,
   "id": "d1ee2649-53c3-4d58-8d4a-11eed73b46e5",
   "metadata": {},
   "outputs": [
    {
     "name": "stdout",
     "output_type": "stream",
     "text": [
      "{1: 'one', 2: 'two', 'C': 'three', 4: 'four'}\n"
     ]
    }
   ],
   "source": [
    "mydict[4]= 'four'\n",
    "print(mydict)"
   ]
  },
  {
   "cell_type": "code",
   "execution_count": 11,
   "id": "a6d25e93-c304-4919-bc56-33e42cdb898b",
   "metadata": {},
   "outputs": [
    {
     "name": "stdout",
     "output_type": "stream",
     "text": [
      "{1: 'one', 2: 'two', 'C': 'three', 4: 'four', 6: 'six'}\n"
     ]
    }
   ],
   "source": [
    "mydict[6]= 'six'\n",
    "print(mydict)"
   ]
  },
  {
   "cell_type": "markdown",
   "id": "287d7c10-3dad-4c03-ad96-cb6128251520",
   "metadata": {},
   "source": [
    "# remove"
   ]
  },
  {
   "cell_type": "code",
   "execution_count": 14,
   "id": "cc155d52-5af9-4bc1-bab4-e0a323220ff0",
   "metadata": {},
   "outputs": [
    {
     "data": {
      "text/plain": [
       "{1: 'one', 2: 'two', 'C': 'three'}"
      ]
     },
     "execution_count": 14,
     "metadata": {},
     "output_type": "execute_result"
    }
   ],
   "source": [
    "mydict={1:'one', 2:'two','C':'three'}\n",
    "mydict"
   ]
  },
  {
   "cell_type": "code",
   "execution_count": 16,
   "id": "6dc07928-7f0d-4f37-8617-d6ed9873dafc",
   "metadata": {},
   "outputs": [
    {
     "data": {
      "text/plain": [
       "{1: 'one', 'C': 'three'}"
      ]
     },
     "execution_count": 16,
     "metadata": {},
     "output_type": "execute_result"
    }
   ],
   "source": [
    "del mydict[2]\n",
    "mydict"
   ]
  },
  {
   "cell_type": "markdown",
   "id": "93c52a29-2381-48b3-bbf5-779b70771a32",
   "metadata": {},
   "source": [
    "# changing items"
   ]
  },
  {
   "cell_type": "code",
   "execution_count": 19,
   "id": "2f323a9d-b8d7-4933-b3ab-9043ea324f65",
   "metadata": {},
   "outputs": [
    {
     "data": {
      "text/plain": [
       "{1: 'one', 2: 'two', 'C': 'three'}"
      ]
     },
     "execution_count": 19,
     "metadata": {},
     "output_type": "execute_result"
    }
   ],
   "source": [
    "mydict={1:'one', 2:'two','C':'three'}\n",
    "mydict"
   ]
  },
  {
   "cell_type": "code",
   "execution_count": 25,
   "id": "d6ca44ec-4e89-47fb-a6e0-5df415cfb575",
   "metadata": {},
   "outputs": [
    {
     "data": {
      "text/plain": [
       "{1: 'one', 2: 'two', 'C': 'three', 4: 'tinu'}"
      ]
     },
     "execution_count": 25,
     "metadata": {},
     "output_type": "execute_result"
    }
   ],
   "source": [
    "mydict[4]='tinu'\n",
    "mydict"
   ]
  },
  {
   "cell_type": "code",
   "execution_count": 27,
   "id": "91dfbd09-f247-4df5-aa65-e97edffd79cf",
   "metadata": {},
   "outputs": [
    {
     "data": {
      "text/plain": [
       "{1: 'one', 2: 'kenny', 'C': 'three', 4: 'tinu'}"
      ]
     },
     "execution_count": 27,
     "metadata": {},
     "output_type": "execute_result"
    }
   ],
   "source": [
    "mydict[2]='kenny'\n",
    "mydict"
   ]
  },
  {
   "cell_type": "markdown",
   "id": "10078285-c09a-4d99-aa6f-5e382ec3098a",
   "metadata": {},
   "source": [
    "# copying a dictionary"
   ]
  },
  {
   "cell_type": "code",
   "execution_count": 30,
   "id": "84d2bcb9-861f-4763-ae15-7efeeed07cd5",
   "metadata": {},
   "outputs": [
    {
     "data": {
      "text/plain": [
       "{1: 'one', 2: 'kenny', 'C': 'three', 4: 'tinu'}"
      ]
     },
     "execution_count": 30,
     "metadata": {},
     "output_type": "execute_result"
    }
   ],
   "source": [
    "mydict=mydict.copy()\n",
    "mydict"
   ]
  },
  {
   "cell_type": "markdown",
   "id": "7a2e898f-1e28-4e84-b91a-ef50b0826bd6",
   "metadata": {},
   "source": [
    "# dictionary membership"
   ]
  },
  {
   "cell_type": "code",
   "execution_count": 38,
   "id": "0ca6c9fd-e867-4db1-8035-e74522b0b049",
   "metadata": {},
   "outputs": [
    {
     "data": {
      "text/plain": [
       "{1: 'one', 2: 'two', 'C': 'three'}"
      ]
     },
     "execution_count": 38,
     "metadata": {},
     "output_type": "execute_result"
    }
   ],
   "source": [
    "mydict={1:'one', 2:'two','C':'three'}\n",
    "mydict"
   ]
  },
  {
   "cell_type": "code",
   "execution_count": 40,
   "id": "f60b4254-230c-45ed-87e2-101a0a63a508",
   "metadata": {},
   "outputs": [
    {
     "data": {
      "text/plain": [
       "True"
      ]
     },
     "execution_count": 40,
     "metadata": {},
     "output_type": "execute_result"
    }
   ],
   "source": [
    "1 in mydict"
   ]
  },
  {
   "cell_type": "code",
   "execution_count": 42,
   "id": "6b201b1f-8f47-4c69-a59e-ef14287fa34a",
   "metadata": {},
   "outputs": [
    {
     "data": {
      "text/plain": [
       "True"
      ]
     },
     "execution_count": 42,
     "metadata": {},
     "output_type": "execute_result"
    }
   ],
   "source": [
    "2 in mydict"
   ]
  },
  {
   "cell_type": "code",
   "execution_count": 60,
   "id": "915a2348-c0ab-4a69-8ece-cb08d873c66c",
   "metadata": {},
   "outputs": [
    {
     "data": {
      "text/plain": [
       "False"
      ]
     },
     "execution_count": 60,
     "metadata": {},
     "output_type": "execute_result"
    }
   ],
   "source": [
    "3 in mydict"
   ]
  },
  {
   "cell_type": "code",
   "execution_count": 62,
   "id": "e27318af-c855-4f1d-a10e-2dd36de2d264",
   "metadata": {},
   "outputs": [
    {
     "data": {
      "text/plain": [
       "True"
      ]
     },
     "execution_count": 62,
     "metadata": {},
     "output_type": "execute_result"
    }
   ],
   "source": [
    "'C' in mydict"
   ]
  },
  {
   "cell_type": "code",
   "execution_count": 55,
   "id": "00ef76c1-6573-4a8f-b426-597854fde843",
   "metadata": {},
   "outputs": [
    {
     "data": {
      "text/plain": [
       "False"
      ]
     },
     "execution_count": 55,
     "metadata": {},
     "output_type": "execute_result"
    }
   ],
   "source": [
    "4 in mydict"
   ]
  },
  {
   "cell_type": "markdown",
   "id": "b6b51000-a944-4242-9ec8-2b2812ac5aef",
   "metadata": {},
   "source": [
    "# using all()"
   ]
  },
  {
   "cell_type": "code",
   "execution_count": 58,
   "id": "b9ec0f39-0c27-4ad0-a2c8-7f240a9920e3",
   "metadata": {},
   "outputs": [
    {
     "data": {
      "text/plain": [
       "True"
      ]
     },
     "execution_count": 58,
     "metadata": {},
     "output_type": "execute_result"
    }
   ],
   "source": [
    "all(mydict.values())"
   ]
  },
  {
   "cell_type": "markdown",
   "id": "d152a7e7-aec0-4abd-96f0-93739ca0ac89",
   "metadata": {},
   "source": [
    "# using any()"
   ]
  },
  {
   "cell_type": "code",
   "execution_count": 65,
   "id": "b695b42d-5b2d-4906-b4a2-144a58167dd4",
   "metadata": {},
   "outputs": [
    {
     "data": {
      "text/plain": [
       "True"
      ]
     },
     "execution_count": 65,
     "metadata": {},
     "output_type": "execute_result"
    }
   ],
   "source": [
    "any(mydict.values())"
   ]
  }
 ],
 "metadata": {
  "kernelspec": {
   "display_name": "Python [conda env:base] *",
   "language": "python",
   "name": "conda-base-py"
  },
  "language_info": {
   "codemirror_mode": {
    "name": "ipython",
    "version": 3
   },
   "file_extension": ".py",
   "mimetype": "text/x-python",
   "name": "python",
   "nbconvert_exporter": "python",
   "pygments_lexer": "ipython3",
   "version": "3.12.7"
  }
 },
 "nbformat": 4,
 "nbformat_minor": 5
}
