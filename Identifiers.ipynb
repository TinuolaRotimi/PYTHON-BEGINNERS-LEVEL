{
 "cells": [
  {
   "cell_type": "markdown",
   "id": "3c567573-eb99-4fcc-8e74-3ecaf0941f0f",
   "metadata": {},
   "source": [
    "# PYTHON IDENTIFIERS"
   ]
  },
  {
   "cell_type": "code",
   "execution_count": null,
   "id": "07cb69c1-7fbe-487a-8d75-a4538f69af0b",
   "metadata": {},
   "outputs": [],
   "source": [
    "age=25"
   ]
  },
  {
   "cell_type": "markdown",
   "id": "49ed1956-5327-4f45-97cc-e63da5ffcf2d",
   "metadata": {},
   "source": [
    "name='Tinu'"
   ]
  },
  {
   "cell_type": "code",
   "execution_count": null,
   "id": "e593e649-e814-4182-b9b1-d59aebcd22fb",
   "metadata": {},
   "outputs": [],
   "source": [
    "my_var=100"
   ]
  },
  {
   "cell_type": "raw",
   "id": "1d77570f-e9ed-40df-8597-b3616bf04f97",
   "metadata": {},
   "source": [
    "score_1=40"
   ]
  },
  {
   "cell_type": "code",
   "execution_count": null,
   "id": "03d9d6be-f887-447c-bbee-5fb8d2a78f4a",
   "metadata": {},
   "outputs": [],
   "source": [
    "_PI"
   ]
  },
  {
   "cell_type": "code",
   "execution_count": null,
   "id": "0090a211-eb99-48f6-a209-91216e93b5fe",
   "metadata": {},
   "outputs": [],
   "source": [
    "myVariable=100"
   ]
  },
  {
   "cell_type": "markdown",
   "id": "d1c5da77-cae1-40d5-9053-7e14c23f0bb9",
   "metadata": {},
   "source": [
    "# variable identifier"
   ]
  },
  {
   "cell_type": "code",
   "execution_count": null,
   "id": "a054ec24-be89-4c75-a929-429353b833c9",
   "metadata": {},
   "outputs": [],
   "source": [
    "x=10"
   ]
  },
  {
   "cell_type": "code",
   "execution_count": null,
   "id": "e27099eb-4f9f-4e04-951e-6f2933a4b683",
   "metadata": {},
   "outputs": [],
   "source": [
    "y='Alice'"
   ]
  },
  {
   "cell_type": "markdown",
   "id": "2adba34e-0a26-4429-a4b6-d415367e4429",
   "metadata": {},
   "source": [
    "# function identifier"
   ]
  },
  {
   "cell_type": "code",
   "execution_count": 17,
   "id": "4f139be5-829d-49c7-b3ce-b36158db2b18",
   "metadata": {},
   "outputs": [
    {
     "ename": "SyntaxError",
     "evalue": "invalid syntax (4084104224.py, line 1)",
     "output_type": "error",
     "traceback": [
      "\u001b[1;36m  Cell \u001b[1;32mIn[17], line 1\u001b[1;36m\u001b[0m\n\u001b[1;33m    def greet('Tinu')\u001b[0m\n\u001b[1;37m              ^\u001b[0m\n\u001b[1;31mSyntaxError\u001b[0m\u001b[1;31m:\u001b[0m invalid syntax\n"
     ]
    }
   ],
   "source": [
    "def greet('Tinu')\n",
    "greet('Tinu')\n",
    "print(greet)"
   ]
  },
  {
   "cell_type": "markdown",
   "id": "e3cf3fe9-a506-416f-ac20-7e3b769d3a77",
   "metadata": {},
   "source": [
    "# class identifier"
   ]
  },
  {
   "cell_type": "code",
   "execution_count": 26,
   "id": "643a614d-a4ed-44a5-8b27-f998b0b47e5f",
   "metadata": {},
   "outputs": [
    {
     "ename": "SyntaxError",
     "evalue": "invalid syntax (2670401552.py, line 1)",
     "output_type": "error",
     "traceback": [
      "\u001b[1;36m  Cell \u001b[1;32mIn[26], line 1\u001b[1;36m\u001b[0m\n\u001b[1;33m    class 'car'\u001b[0m\n\u001b[1;37m          ^\u001b[0m\n\u001b[1;31mSyntaxError\u001b[0m\u001b[1;31m:\u001b[0m invalid syntax\n"
     ]
    }
   ],
   "source": [
    "class 'car'\n",
    "dit _init_\n",
    "my car= car('Toyota, corolla')"
   ]
  },
  {
   "cell_type": "markdown",
   "id": "506245ff-a5e4-4ee9-b7d7-85eafecbbc04",
   "metadata": {},
   "source": [
    "# module identifier"
   ]
  },
  {
   "cell_type": "code",
   "execution_count": 20,
   "id": "4bcf20bb-d052-4b10-9e44-0ffc910ef64d",
   "metadata": {},
   "outputs": [
    {
     "name": "stdout",
     "output_type": "stream",
     "text": [
      "3.141592653589793\n"
     ]
    }
   ],
   "source": [
    "import math\n",
    "print(math.pi)"
   ]
  }
 ],
 "metadata": {
  "kernelspec": {
   "display_name": "Python [conda env:base] *",
   "language": "python",
   "name": "conda-base-py"
  },
  "language_info": {
   "codemirror_mode": {
    "name": "ipython",
    "version": 3
   },
   "file_extension": ".py",
   "mimetype": "text/x-python",
   "name": "python",
   "nbconvert_exporter": "python",
   "pygments_lexer": "ipython3",
   "version": "3.12.7"
  }
 },
 "nbformat": 4,
 "nbformat_minor": 5
}
