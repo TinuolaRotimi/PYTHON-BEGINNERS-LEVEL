{
 "cells": [
  {
   "cell_type": "markdown",
   "id": "4a751c26-c0e5-4542-b6bc-2c4c794d670a",
   "metadata": {},
   "source": [
    "# forward slicing"
   ]
  },
  {
   "cell_type": "code",
   "execution_count": 10,
   "id": "99dd5c8a-dc30-45ef-821b-636003c4d14b",
   "metadata": {},
   "outputs": [
    {
     "data": {
      "text/plain": [
       "'T'"
      ]
     },
     "execution_count": 10,
     "metadata": {},
     "output_type": "execute_result"
    }
   ],
   "source": [
    "my_string='Tinuola'\n",
    "my_string[0]"
   ]
  },
  {
   "cell_type": "code",
   "execution_count": 14,
   "id": "9305a2fa-56ff-4d4d-a81d-50e92478182c",
   "metadata": {},
   "outputs": [
    {
     "data": {
      "text/plain": [
       "'i'"
      ]
     },
     "execution_count": 14,
     "metadata": {},
     "output_type": "execute_result"
    }
   ],
   "source": [
    "my_string='Tinuola'\n",
    "my_string[1]"
   ]
  },
  {
   "cell_type": "code",
   "execution_count": 16,
   "id": "88b8b5b8-f97f-4394-bbcf-97460327a6ce",
   "metadata": {},
   "outputs": [
    {
     "data": {
      "text/plain": [
       "'n'"
      ]
     },
     "execution_count": 16,
     "metadata": {},
     "output_type": "execute_result"
    }
   ],
   "source": [
    "my_string='Tinuola'\n",
    "my_string[2]"
   ]
  },
  {
   "cell_type": "code",
   "execution_count": 18,
   "id": "a6c2ee32-cde6-45d5-8015-270de6a12bdb",
   "metadata": {},
   "outputs": [
    {
     "data": {
      "text/plain": [
       "'u'"
      ]
     },
     "execution_count": 18,
     "metadata": {},
     "output_type": "execute_result"
    }
   ],
   "source": [
    "my_string='Tinuola'\n",
    "my_string[3]"
   ]
  },
  {
   "cell_type": "code",
   "execution_count": 12,
   "id": "9ff85759-4c35-45e6-81bd-037b328137ca",
   "metadata": {},
   "outputs": [
    {
     "data": {
      "text/plain": [
       "'o'"
      ]
     },
     "execution_count": 12,
     "metadata": {},
     "output_type": "execute_result"
    }
   ],
   "source": [
    "my_string='Tinuola'\n",
    "my_string[4]"
   ]
  },
  {
   "cell_type": "code",
   "execution_count": 20,
   "id": "22f41428-cb5b-4e6b-8d40-2141a6f276e3",
   "metadata": {},
   "outputs": [
    {
     "data": {
      "text/plain": [
       "'l'"
      ]
     },
     "execution_count": 20,
     "metadata": {},
     "output_type": "execute_result"
    }
   ],
   "source": [
    "my_string='Tinuola'\n",
    "my_string[5]"
   ]
  },
  {
   "cell_type": "code",
   "execution_count": 22,
   "id": "d403229a-9e38-4a56-96cd-b8b47ce64781",
   "metadata": {},
   "outputs": [
    {
     "data": {
      "text/plain": [
       "'a'"
      ]
     },
     "execution_count": 22,
     "metadata": {},
     "output_type": "execute_result"
    }
   ],
   "source": [
    "my_string='Tinuola'\n",
    "my_string[6]"
   ]
  },
  {
   "cell_type": "code",
   "execution_count": 24,
   "id": "03a0637f-6f19-4bc4-9d8b-ed51f9daf82b",
   "metadata": {},
   "outputs": [
    {
     "ename": "IndexError",
     "evalue": "string index out of range",
     "output_type": "error",
     "traceback": [
      "\u001b[1;31m---------------------------------------------------------------------------\u001b[0m",
      "\u001b[1;31mIndexError\u001b[0m                                Traceback (most recent call last)",
      "Cell \u001b[1;32mIn[24], line 2\u001b[0m\n\u001b[0;32m      1\u001b[0m my_string\u001b[38;5;241m=\u001b[39m\u001b[38;5;124m'\u001b[39m\u001b[38;5;124mTinuola\u001b[39m\u001b[38;5;124m'\u001b[39m\n\u001b[1;32m----> 2\u001b[0m my_string[\u001b[38;5;241m7\u001b[39m]\n",
      "\u001b[1;31mIndexError\u001b[0m: string index out of range"
     ]
    }
   ],
   "source": [
    "my_string='Tinuola'\n",
    "my_string[7]"
   ]
  },
  {
   "cell_type": "markdown",
   "id": "470ce11a-c0d1-4ac7-9918-c88797495359",
   "metadata": {},
   "source": [
    "# forward slicing from index "
   ]
  },
  {
   "cell_type": "code",
   "execution_count": 27,
   "id": "77940f68-30ca-4b17-9c85-4c18513c8c48",
   "metadata": {},
   "outputs": [
    {
     "data": {
      "text/plain": [
       "'T'"
      ]
     },
     "execution_count": 27,
     "metadata": {},
     "output_type": "execute_result"
    }
   ],
   "source": [
    "my_string='Tinuola'\n",
    "my_string[0:1]"
   ]
  },
  {
   "cell_type": "code",
   "execution_count": 29,
   "id": "936b366d-ef1c-43f8-b2e3-6fc38bf655a9",
   "metadata": {},
   "outputs": [
    {
     "data": {
      "text/plain": [
       "'Ti'"
      ]
     },
     "execution_count": 29,
     "metadata": {},
     "output_type": "execute_result"
    }
   ],
   "source": [
    "my_string='Tinuola'\n",
    "my_string[0:2]"
   ]
  },
  {
   "cell_type": "code",
   "execution_count": 31,
   "id": "0fc8702d-7236-4d5d-86f7-e10a833ec02a",
   "metadata": {},
   "outputs": [
    {
     "data": {
      "text/plain": [
       "'Tin'"
      ]
     },
     "execution_count": 31,
     "metadata": {},
     "output_type": "execute_result"
    }
   ],
   "source": [
    "my_string='Tinuola'\n",
    "my_string[0:3]"
   ]
  },
  {
   "cell_type": "code",
   "execution_count": 33,
   "id": "af3c2cf1-5507-41e0-a8e6-19ced3bca8c5",
   "metadata": {},
   "outputs": [
    {
     "data": {
      "text/plain": [
       "'Tinu'"
      ]
     },
     "execution_count": 33,
     "metadata": {},
     "output_type": "execute_result"
    }
   ],
   "source": [
    "my_string='Tinuola'\n",
    "my_string[0:4]"
   ]
  },
  {
   "cell_type": "code",
   "execution_count": 36,
   "id": "eb0db6dc-61f1-463c-8a2b-7dce53fcde15",
   "metadata": {},
   "outputs": [
    {
     "data": {
      "text/plain": [
       "'Tinuo'"
      ]
     },
     "execution_count": 36,
     "metadata": {},
     "output_type": "execute_result"
    }
   ],
   "source": [
    "my_string='Tinuola'\n",
    "my_string[0:5]"
   ]
  },
  {
   "cell_type": "code",
   "execution_count": 38,
   "id": "8312d77c-8891-4341-8822-d53ac5ce3ff3",
   "metadata": {},
   "outputs": [
    {
     "data": {
      "text/plain": [
       "'Tinuol'"
      ]
     },
     "execution_count": 38,
     "metadata": {},
     "output_type": "execute_result"
    }
   ],
   "source": [
    "my_string='Tinuola'\n",
    "my_string[0:6]"
   ]
  },
  {
   "cell_type": "code",
   "execution_count": 46,
   "id": "cccb58c5-1282-429c-947e-c1b279eb0d97",
   "metadata": {},
   "outputs": [
    {
     "data": {
      "text/plain": [
       "'uola'"
      ]
     },
     "execution_count": 46,
     "metadata": {},
     "output_type": "execute_result"
    }
   ],
   "source": [
    "my_string='Tinuola'\n",
    "my_string[3:]"
   ]
  },
  {
   "cell_type": "code",
   "execution_count": 48,
   "id": "2633bc22-fa7d-4352-bc6a-2d920002197d",
   "metadata": {},
   "outputs": [
    {
     "data": {
      "text/plain": [
       "'nuo'"
      ]
     },
     "execution_count": 48,
     "metadata": {},
     "output_type": "execute_result"
    }
   ],
   "source": [
    "my_string='Tinuola'\n",
    "my_string[2:5]"
   ]
  },
  {
   "cell_type": "markdown",
   "id": "3fab70af-67d9-4cc5-9d47-bf037cfbe48f",
   "metadata": {},
   "source": [
    "# backward slicing "
   ]
  },
  {
   "cell_type": "code",
   "execution_count": 50,
   "id": "d50bc2a4-fe71-4a6a-a0cb-f3b86e5e5427",
   "metadata": {},
   "outputs": [
    {
     "data": {
      "text/plain": [
       "'a'"
      ]
     },
     "execution_count": 50,
     "metadata": {},
     "output_type": "execute_result"
    }
   ],
   "source": [
    "my_string='Tinuola'\n",
    "my_string[-1]"
   ]
  },
  {
   "cell_type": "code",
   "execution_count": 52,
   "id": "87743c9c-ef39-43dd-8577-7300a8fe6509",
   "metadata": {},
   "outputs": [
    {
     "data": {
      "text/plain": [
       "'l'"
      ]
     },
     "execution_count": 52,
     "metadata": {},
     "output_type": "execute_result"
    }
   ],
   "source": [
    "my_string='Tinuola'\n",
    "my_string[-2]"
   ]
  },
  {
   "cell_type": "code",
   "execution_count": 54,
   "id": "0bd75c7d-6361-4f8e-af02-21a6b4f84dc6",
   "metadata": {},
   "outputs": [
    {
     "data": {
      "text/plain": [
       "'o'"
      ]
     },
     "execution_count": 54,
     "metadata": {},
     "output_type": "execute_result"
    }
   ],
   "source": [
    "my_string='Tinuola'\n",
    "my_string[-3]"
   ]
  },
  {
   "cell_type": "code",
   "execution_count": 56,
   "id": "c3b1f0c4-0f9f-4d7d-8770-c2e26fcebf66",
   "metadata": {},
   "outputs": [
    {
     "data": {
      "text/plain": [
       "'u'"
      ]
     },
     "execution_count": 56,
     "metadata": {},
     "output_type": "execute_result"
    }
   ],
   "source": [
    "my_string='Tinuola'\n",
    "my_string[-4]"
   ]
  },
  {
   "cell_type": "code",
   "execution_count": 58,
   "id": "52de5a82-1779-4515-8399-3b4e1358962e",
   "metadata": {},
   "outputs": [
    {
     "data": {
      "text/plain": [
       "'n'"
      ]
     },
     "execution_count": 58,
     "metadata": {},
     "output_type": "execute_result"
    }
   ],
   "source": [
    "my_string='Tinuola'\n",
    "my_string[-5]"
   ]
  },
  {
   "cell_type": "code",
   "execution_count": 60,
   "id": "20ef7571-66ec-4e46-8644-023f4e52c6fc",
   "metadata": {},
   "outputs": [
    {
     "data": {
      "text/plain": [
       "'i'"
      ]
     },
     "execution_count": 60,
     "metadata": {},
     "output_type": "execute_result"
    }
   ],
   "source": [
    "my_string='Tinuola'\n",
    "my_string[-6]"
   ]
  },
  {
   "cell_type": "code",
   "execution_count": 62,
   "id": "27bd5ffc-e7d5-4aab-94c5-8f6a1809b486",
   "metadata": {},
   "outputs": [
    {
     "data": {
      "text/plain": [
       "'T'"
      ]
     },
     "execution_count": 62,
     "metadata": {},
     "output_type": "execute_result"
    }
   ],
   "source": [
    "my_string='Tinuola'\n",
    "my_string[-7]"
   ]
  },
  {
   "cell_type": "code",
   "execution_count": 64,
   "id": "db79db8e-e197-4143-a503-4b2b15186b2c",
   "metadata": {},
   "outputs": [
    {
     "ename": "IndexError",
     "evalue": "string index out of range",
     "output_type": "error",
     "traceback": [
      "\u001b[1;31m---------------------------------------------------------------------------\u001b[0m",
      "\u001b[1;31mIndexError\u001b[0m                                Traceback (most recent call last)",
      "Cell \u001b[1;32mIn[64], line 2\u001b[0m\n\u001b[0;32m      1\u001b[0m my_string\u001b[38;5;241m=\u001b[39m\u001b[38;5;124m'\u001b[39m\u001b[38;5;124mTinuola\u001b[39m\u001b[38;5;124m'\u001b[39m\n\u001b[1;32m----> 2\u001b[0m my_string[\u001b[38;5;241m-\u001b[39m\u001b[38;5;241m8\u001b[39m]\n",
      "\u001b[1;31mIndexError\u001b[0m: string index out of range"
     ]
    }
   ],
   "source": [
    "my_string='Tinuola'\n",
    "my_string[-8]"
   ]
  },
  {
   "cell_type": "markdown",
   "id": "1c39903b-7d44-42f4-9dd9-795607ce0e6c",
   "metadata": {},
   "source": [
    "# backward slicing between index"
   ]
  },
  {
   "cell_type": "code",
   "execution_count": 71,
   "id": "efce0cf2-1c82-461b-9202-df91a097410e",
   "metadata": {},
   "outputs": [
    {
     "data": {
      "text/plain": [
       "'Tinuo'"
      ]
     },
     "execution_count": 71,
     "metadata": {},
     "output_type": "execute_result"
    }
   ],
   "source": [
    "my_string='Tinuola'\n",
    "my_string[-7:-2]"
   ]
  },
  {
   "cell_type": "code",
   "execution_count": 73,
   "id": "5fb98cb4-51c8-47cd-993c-683f51d388c1",
   "metadata": {},
   "outputs": [
    {
     "data": {
      "text/plain": [
       "'Tinu'"
      ]
     },
     "execution_count": 73,
     "metadata": {},
     "output_type": "execute_result"
    }
   ],
   "source": [
    "my_string='Tinuola'\n",
    "my_string[-7:-3]"
   ]
  },
  {
   "cell_type": "code",
   "execution_count": 75,
   "id": "07fe50b7-1341-4c77-aff8-b9c3c3bb12cd",
   "metadata": {},
   "outputs": [
    {
     "data": {
      "text/plain": [
       "'Tin'"
      ]
     },
     "execution_count": 75,
     "metadata": {},
     "output_type": "execute_result"
    }
   ],
   "source": [
    "my_string='Tinuola'\n",
    "my_string[-7:-4]"
   ]
  },
  {
   "cell_type": "code",
   "execution_count": 77,
   "id": "27829ba8-6221-47dd-8935-510781f1df13",
   "metadata": {},
   "outputs": [
    {
     "data": {
      "text/plain": [
       "'Ti'"
      ]
     },
     "execution_count": 77,
     "metadata": {},
     "output_type": "execute_result"
    }
   ],
   "source": [
    "my_string='Tinuola'\n",
    "my_string[-7:-5]"
   ]
  },
  {
   "cell_type": "code",
   "execution_count": 81,
   "id": "c2685518-0aad-414a-bf53-bd939dc6a156",
   "metadata": {},
   "outputs": [
    {
     "data": {
      "text/plain": [
       "'T'"
      ]
     },
     "execution_count": 81,
     "metadata": {},
     "output_type": "execute_result"
    }
   ],
   "source": [
    "my_string='Tinuola'\n",
    "my_string[-7:-6]"
   ]
  },
  {
   "cell_type": "markdown",
   "id": "8ed0e48c-bc7c-4497-964e-3dc00d2e0981",
   "metadata": {},
   "source": [
    "# step slicing"
   ]
  },
  {
   "cell_type": "code",
   "execution_count": null,
   "id": "87bdbd0a-3aa1-474f-9e3f-826449361fa4",
   "metadata": {},
   "outputs": [],
   "source": []
  }
 ],
 "metadata": {
  "kernelspec": {
   "display_name": "Python [conda env:base] *",
   "language": "python",
   "name": "conda-base-py"
  },
  "language_info": {
   "codemirror_mode": {
    "name": "ipython",
    "version": 3
   },
   "file_extension": ".py",
   "mimetype": "text/x-python",
   "name": "python",
   "nbconvert_exporter": "python",
   "pygments_lexer": "ipython3",
   "version": "3.12.7"
  }
 },
 "nbformat": 4,
 "nbformat_minor": 5
}
