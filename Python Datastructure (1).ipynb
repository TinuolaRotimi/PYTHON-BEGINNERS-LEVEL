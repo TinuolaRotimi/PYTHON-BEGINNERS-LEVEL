{
 "cells": [
  {
   "cell_type": "code",
   "execution_count": null,
   "id": "56644a8d-fd27-42de-b701-6ce95567bcc5",
   "metadata": {},
   "outputs": [],
   "source": []
  },
  {
   "cell_type": "code",
   "execution_count": 2,
   "id": "d587e386-0eda-4e5b-b272-2a435a34f46c",
   "metadata": {},
   "outputs": [
    {
     "data": {
      "text/plain": [
       "float"
      ]
     },
     "execution_count": 2,
     "metadata": {},
     "output_type": "execute_result"
    }
   ],
   "source": [
    "i=6.76\n",
    "type(i)"
   ]
  },
  {
   "cell_type": "code",
   "execution_count": 4,
   "id": "70c700d3-5217-484c-9e61-1683f0cf6efb",
   "metadata": {},
   "outputs": [
    {
     "data": {
      "text/plain": [
       "[]"
      ]
     },
     "execution_count": 4,
     "metadata": {},
     "output_type": "execute_result"
    }
   ],
   "source": [
    "l=[]\n",
    "l"
   ]
  },
  {
   "cell_type": "code",
   "execution_count": 6,
   "id": "db6cd641-8cf9-4d9c-b43e-249a60465f64",
   "metadata": {},
   "outputs": [
    {
     "data": {
      "text/plain": [
       "list"
      ]
     },
     "execution_count": 6,
     "metadata": {},
     "output_type": "execute_result"
    }
   ],
   "source": [
    "type(l)"
   ]
  },
  {
   "cell_type": "code",
   "execution_count": 8,
   "id": "1ad62ddb-ca75-4a2f-92f9-cb78875d02ae",
   "metadata": {},
   "outputs": [
    {
     "data": {
      "text/plain": [
       "0"
      ]
     },
     "execution_count": 8,
     "metadata": {},
     "output_type": "execute_result"
    }
   ],
   "source": [
    "len(l)"
   ]
  },
  {
   "cell_type": "markdown",
   "id": "cb2031dc-553b-4489-a187-e0731f30b22f",
   "metadata": {},
   "source": [
    "# list function append"
   ]
  },
  {
   "cell_type": "code",
   "execution_count": 15,
   "id": "330c2e80-18bb-41e0-8cb3-bf0bfb8f9ed0",
   "metadata": {},
   "outputs": [],
   "source": [
    "l.append(10)"
   ]
  },
  {
   "cell_type": "code",
   "execution_count": 17,
   "id": "ff7ebe11-a8c3-44ae-a374-caac664133ab",
   "metadata": {},
   "outputs": [
    {
     "data": {
      "text/plain": [
       "[10]"
      ]
     },
     "execution_count": 17,
     "metadata": {},
     "output_type": "execute_result"
    }
   ],
   "source": [
    "l"
   ]
  },
  {
   "cell_type": "code",
   "execution_count": 19,
   "id": "c2324be0-cc0a-4d5c-8289-472936932bfa",
   "metadata": {},
   "outputs": [
    {
     "data": {
      "text/plain": [
       "1"
      ]
     },
     "execution_count": 19,
     "metadata": {},
     "output_type": "execute_result"
    }
   ],
   "source": [
    "len(l)"
   ]
  },
  {
   "cell_type": "code",
   "execution_count": 21,
   "id": "a3eee9e6-6a84-4d1f-82e1-696fa66f1e3f",
   "metadata": {},
   "outputs": [],
   "source": [
    "l.append(10)\n",
    "l.append(20)\n",
    "l.append(30)\n",
    "l.append(40)"
   ]
  },
  {
   "cell_type": "code",
   "execution_count": 27,
   "id": "9199101c-2046-47f7-969d-97e1826b1f41",
   "metadata": {},
   "outputs": [
    {
     "data": {
      "text/plain": [
       "[10, 10, 20, 30, 40]"
      ]
     },
     "execution_count": 27,
     "metadata": {},
     "output_type": "execute_result"
    }
   ],
   "source": [
    "l"
   ]
  },
  {
   "cell_type": "code",
   "execution_count": 31,
   "id": "09b668a4-e8f9-4d11-ac03-dbafdfe9697a",
   "metadata": {},
   "outputs": [],
   "source": [
    "l.append(25)"
   ]
  },
  {
   "cell_type": "code",
   "execution_count": 33,
   "id": "795f87fb-e127-469b-8d06-a287d841e768",
   "metadata": {},
   "outputs": [
    {
     "data": {
      "text/plain": [
       "[10, 10, 20, 30, 40, 25]"
      ]
     },
     "execution_count": 33,
     "metadata": {},
     "output_type": "execute_result"
    }
   ],
   "source": [
    "l"
   ]
  },
  {
   "cell_type": "code",
   "execution_count": 35,
   "id": "99a4282d-8e33-4bdb-8513-8bc2508ad32a",
   "metadata": {},
   "outputs": [],
   "source": [
    "l.append(50)"
   ]
  },
  {
   "cell_type": "code",
   "execution_count": 37,
   "id": "8e864d3c-2cc2-4cca-85dc-d19dcc3d97ea",
   "metadata": {},
   "outputs": [
    {
     "data": {
      "text/plain": [
       "[10, 10, 20, 30, 40, 25, 50]"
      ]
     },
     "execution_count": 37,
     "metadata": {},
     "output_type": "execute_result"
    }
   ],
   "source": [
    "l"
   ]
  },
  {
   "cell_type": "markdown",
   "id": "8ffb71c6-662d-4c65-a3c5-c885242c0d47",
   "metadata": {},
   "source": [
    "# extend function"
   ]
  },
  {
   "cell_type": "code",
   "execution_count": 46,
   "id": "3805c27f-0386-447f-a1c9-9a8182f08f68",
   "metadata": {},
   "outputs": [],
   "source": [
    "l.extend([60])"
   ]
  },
  {
   "cell_type": "code",
   "execution_count": 42,
   "id": "e49d1e56-e7db-4536-aa9f-31402359c9c3",
   "metadata": {},
   "outputs": [
    {
     "data": {
      "text/plain": [
       "[10, 10, 20, 30, 40, 25, 50]"
      ]
     },
     "execution_count": 42,
     "metadata": {},
     "output_type": "execute_result"
    }
   ],
   "source": [
    "l"
   ]
  },
  {
   "cell_type": "code",
   "execution_count": 48,
   "id": "0e4d718a-484d-4c68-8169-07e977726136",
   "metadata": {},
   "outputs": [
    {
     "data": {
      "text/plain": [
       "[10, 10, 20, 30, 40, 25, 50, 60, 45]"
      ]
     },
     "execution_count": 48,
     "metadata": {},
     "output_type": "execute_result"
    }
   ],
   "source": [
    "l.extend([45])\n",
    "l"
   ]
  },
  {
   "cell_type": "code",
   "execution_count": 52,
   "id": "9f89c5db-384f-48d3-9512-1b3b890c23eb",
   "metadata": {},
   "outputs": [
    {
     "data": {
      "text/plain": [
       "[10, 10, 20, 30, 40, 25, 50, 60, 45, 40, 56, 78, 92, 40, 56, 78, 92]"
      ]
     },
     "execution_count": 52,
     "metadata": {},
     "output_type": "execute_result"
    }
   ],
   "source": [
    "l.extend([40,56,78,92])\n",
    "l"
   ]
  },
  {
   "cell_type": "markdown",
   "id": "c0030ec1-08f6-4595-9578-1d0ac5ed12f2",
   "metadata": {},
   "source": [
    "# insert function"
   ]
  },
  {
   "cell_type": "code",
   "execution_count": 57,
   "id": "71246596-69e3-4f05-81c8-bf78abe8f7d1",
   "metadata": {},
   "outputs": [
    {
     "data": {
      "text/plain": [
       "[10, 10, 70, 70, 20, 30, 40, 25, 50, 60, 45, 40, 56, 78, 92, 40, 56, 78, 92]"
      ]
     },
     "execution_count": 57,
     "metadata": {},
     "output_type": "execute_result"
    }
   ],
   "source": [
    "l.insert(3,70)\n",
    "l"
   ]
  },
  {
   "cell_type": "code",
   "execution_count": 59,
   "id": "549790ae-b3f9-4e63-b755-6f423e5e2aae",
   "metadata": {},
   "outputs": [
    {
     "data": {
      "text/plain": [
       "[10,\n",
       " 10,\n",
       " 54,\n",
       " 70,\n",
       " 70,\n",
       " 20,\n",
       " 30,\n",
       " 40,\n",
       " 25,\n",
       " 50,\n",
       " 60,\n",
       " 45,\n",
       " 40,\n",
       " 56,\n",
       " 78,\n",
       " 92,\n",
       " 40,\n",
       " 56,\n",
       " 78,\n",
       " 92]"
      ]
     },
     "execution_count": 59,
     "metadata": {},
     "output_type": "execute_result"
    }
   ],
   "source": [
    "l.insert(2,54)\n",
    "l"
   ]
  },
  {
   "cell_type": "markdown",
   "id": "cded0253-b0b0-47b4-a873-169acf2858f2",
   "metadata": {},
   "source": [
    "# remove function"
   ]
  },
  {
   "cell_type": "code",
   "execution_count": 64,
   "id": "b59947e1-150b-4de7-963a-813d351a25f5",
   "metadata": {},
   "outputs": [
    {
     "data": {
      "text/plain": [
       "[10, 10, 54, 70, 70, 20, 30, 40, 25, 50, 60, 45, 40, 78, 92, 40, 78, 92]"
      ]
     },
     "execution_count": 64,
     "metadata": {},
     "output_type": "execute_result"
    }
   ],
   "source": [
    "l.remove(56)\n",
    "l"
   ]
  },
  {
   "cell_type": "code",
   "execution_count": 66,
   "id": "a5cb2cf5-5230-4fa3-be4d-9686b83768b3",
   "metadata": {},
   "outputs": [
    {
     "data": {
      "text/plain": [
       "[10, 10, 54, 70, 20, 30, 40, 25, 50, 60, 45, 40, 78, 92, 40, 78, 92]"
      ]
     },
     "execution_count": 66,
     "metadata": {},
     "output_type": "execute_result"
    }
   ],
   "source": [
    "l.remove(70)\n",
    "l"
   ]
  },
  {
   "cell_type": "markdown",
   "id": "a5dc8b5a-6e19-4d96-a802-6a387b8d78d6",
   "metadata": {},
   "source": [
    "# pop function"
   ]
  },
  {
   "cell_type": "code",
   "execution_count": 72,
   "id": "e7947763-180b-4607-930a-1bbca1f6a1ef",
   "metadata": {},
   "outputs": [
    {
     "data": {
      "text/plain": [
       "[10, 10, 54, 70, 20, 30, 40, 25, 50, 60, 40, 78, 92, 40, 78, 92]"
      ]
     },
     "execution_count": 72,
     "metadata": {},
     "output_type": "execute_result"
    }
   ],
   "source": [
    "l.pop(10)\n",
    "l"
   ]
  },
  {
   "cell_type": "markdown",
   "id": "03b057c3-7ec2-4d83-905a-a860cfc10eda",
   "metadata": {},
   "source": [
    "# index function "
   ]
  },
  {
   "cell_type": "code",
   "execution_count": 75,
   "id": "bcf723ff-7fa5-40b6-82b3-bf0d035e9e10",
   "metadata": {},
   "outputs": [
    {
     "data": {
      "text/plain": [
       "[10, 10, 54, 70, 20, 30, 40, 25, 50, 60, 40, 78, 92, 40, 78, 92]"
      ]
     },
     "execution_count": 75,
     "metadata": {},
     "output_type": "execute_result"
    }
   ],
   "source": [
    "l.index(70)\n",
    "l"
   ]
  },
  {
   "cell_type": "markdown",
   "id": "96e57722-58bf-4dc7-be4d-61d044f98e6c",
   "metadata": {},
   "source": [
    "# count function"
   ]
  },
  {
   "cell_type": "code",
   "execution_count": 78,
   "id": "82369936-dd02-4de0-81ed-ddeb292b262d",
   "metadata": {},
   "outputs": [
    {
     "data": {
      "text/plain": [
       "[10, 10, 54, 70, 20, 30, 40, 25, 50, 60, 40, 78, 92, 40, 78, 92]"
      ]
     },
     "execution_count": 78,
     "metadata": {},
     "output_type": "execute_result"
    }
   ],
   "source": [
    "l.count(10)\n",
    "l"
   ]
  },
  {
   "cell_type": "code",
   "execution_count": 80,
   "id": "e878cad9-0384-4821-9568-674306fde4c5",
   "metadata": {},
   "outputs": [
    {
     "data": {
      "text/plain": [
       "[10, 10, 54, 70, 20, 30, 40, 25, 50, 60, 40, 78, 92, 40, 78, 92]"
      ]
     },
     "execution_count": 80,
     "metadata": {},
     "output_type": "execute_result"
    }
   ],
   "source": [
    "l"
   ]
  },
  {
   "cell_type": "code",
   "execution_count": null,
   "id": "26dd8c89-06cb-4ce4-8ad4-b601e557d0d6",
   "metadata": {},
   "outputs": [],
   "source": []
  }
 ],
 "metadata": {
  "kernelspec": {
   "display_name": "Python [conda env:base] *",
   "language": "python",
   "name": "conda-base-py"
  },
  "language_info": {
   "codemirror_mode": {
    "name": "ipython",
    "version": 3
   },
   "file_extension": ".py",
   "mimetype": "text/x-python",
   "name": "python",
   "nbconvert_exporter": "python",
   "pygments_lexer": "ipython3",
   "version": "3.12.7"
  }
 },
 "nbformat": 4,
 "nbformat_minor": 5
}
