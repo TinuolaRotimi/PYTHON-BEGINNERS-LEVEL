{
 "cells": [
  {
   "cell_type": "markdown",
   "id": "b3d534be-41a7-454c-bcf4-0b0bab73d6a9",
   "metadata": {},
   "source": [
    "# TYPECASTING"
   ]
  },
  {
   "cell_type": "code",
   "execution_count": null,
   "id": "e8fba70a-3149-4980-b670-87f0ff8d960f",
   "metadata": {},
   "outputs": [],
   "source": [
    "converting str to int"
   ]
  },
  {
   "cell_type": "code",
   "execution_count": 7,
   "id": "8c22d781-7862-4c04-9f47-e67641df91ef",
   "metadata": {},
   "outputs": [
    {
     "name": "stdout",
     "output_type": "stream",
     "text": [
      "10\n"
     ]
    }
   ],
   "source": [
    "x='10'\n",
    "y=int(x)\n",
    "print(y)"
   ]
  },
  {
   "cell_type": "code",
   "execution_count": null,
   "id": "be34c4a1-6164-482c-9308-179081ae2b52",
   "metadata": {},
   "outputs": [],
   "source": [
    "converting float to str"
   ]
  },
  {
   "cell_type": "code",
   "execution_count": 11,
   "id": "4205f931-2b97-422c-ab9c-58e03b1eaf65",
   "metadata": {},
   "outputs": [
    {
     "name": "stdout",
     "output_type": "stream",
     "text": [
      "34.5\n"
     ]
    }
   ],
   "source": [
    "x=34.5\n",
    "y=str(34.5)\n",
    "print(y)"
   ]
  },
  {
   "cell_type": "code",
   "execution_count": null,
   "id": "b4e65fcf-4193-427f-ba5e-e4be4cf7ca75",
   "metadata": {},
   "outputs": [],
   "source": [
    "converting int to str"
   ]
  },
  {
   "cell_type": "code",
   "execution_count": 15,
   "id": "7ac267f9-e3b6-4d4b-b521-6efcf115c6ab",
   "metadata": {},
   "outputs": [
    {
     "name": "stdout",
     "output_type": "stream",
     "text": [
      "100\n"
     ]
    }
   ],
   "source": [
    "x=100\n",
    "y=str(100)\n",
    "print(y)"
   ]
  },
  {
   "cell_type": "code",
   "execution_count": null,
   "id": "bb4502a7-b8d3-40b3-a7ca-dfb8953bf825",
   "metadata": {},
   "outputs": [],
   "source": [
    "converting int to bool"
   ]
  },
  {
   "cell_type": "code",
   "execution_count": 17,
   "id": "c0863082-4ee9-48fa-a7a7-d2d490838c8f",
   "metadata": {},
   "outputs": [
    {
     "name": "stdout",
     "output_type": "stream",
     "text": [
      "True\n"
     ]
    }
   ],
   "source": [
    "x=1\n",
    "y=bool(1)\n",
    "print(y)"
   ]
  },
  {
   "cell_type": "code",
   "execution_count": 19,
   "id": "e440ff5e-2657-4c74-9ce9-6808bf65f728",
   "metadata": {},
   "outputs": [
    {
     "name": "stdout",
     "output_type": "stream",
     "text": [
      "False\n"
     ]
    }
   ],
   "source": [
    "x=0\n",
    "y=bool(0)\n",
    "print(y)"
   ]
  },
  {
   "cell_type": "code",
   "execution_count": null,
   "id": "e53461ec-a22c-44a9-8934-96495b602585",
   "metadata": {},
   "outputs": [],
   "source": [
    "str to int or float"
   ]
  },
  {
   "cell_type": "code",
   "execution_count": null,
   "id": "0ea0b369-1458-4cc7-b705-a2b16332cb80",
   "metadata": {},
   "outputs": [],
   "source": [
    "str to int"
   ]
  },
  {
   "cell_type": "code",
   "execution_count": 23,
   "id": "386addb8-616e-4d08-9b89-525e99dae25e",
   "metadata": {},
   "outputs": [
    {
     "name": "stdout",
     "output_type": "stream",
     "text": [
      "123\n"
     ]
    }
   ],
   "source": [
    "string_value='123'\n",
    "int_value=int(123)\n",
    "print(int_value)"
   ]
  },
  {
   "cell_type": "code",
   "execution_count": null,
   "id": "a643f4f4-2b99-4dc7-aec5-52f37f900519",
   "metadata": {},
   "outputs": [],
   "source": [
    "str to float"
   ]
  },
  {
   "cell_type": "code",
   "execution_count": 25,
   "id": "234162e1-3d8c-4cfd-9b3d-816f691d7912",
   "metadata": {},
   "outputs": [
    {
     "name": "stdout",
     "output_type": "stream",
     "text": [
      "123.0\n"
     ]
    }
   ],
   "source": [
    "string_value='123'\n",
    "float_value=float(123)\n",
    "print(float_value)"
   ]
  },
  {
   "cell_type": "code",
   "execution_count": null,
   "id": "3273bd8d-bd4f-47d0-a994-6537ee1d542d",
   "metadata": {},
   "outputs": [],
   "source": [
    "int to float or str"
   ]
  },
  {
   "cell_type": "code",
   "execution_count": null,
   "id": "4586451e-dc7a-452e-9372-6521d15270f3",
   "metadata": {},
   "outputs": [],
   "source": [
    "int to float"
   ]
  },
  {
   "cell_type": "code",
   "execution_count": 33,
   "id": "403a32f3-fa8b-40bd-8fbd-04136332b8b8",
   "metadata": {},
   "outputs": [
    {
     "name": "stdout",
     "output_type": "stream",
     "text": [
      "45.0\n"
     ]
    }
   ],
   "source": [
    "int_value=45\n",
    "float_value=float(45)\n",
    "print(float_value)"
   ]
  },
  {
   "cell_type": "code",
   "execution_count": null,
   "id": "0c4fc018-83b3-4555-9874-fa1b197742f8",
   "metadata": {},
   "outputs": [],
   "source": [
    "int to str"
   ]
  },
  {
   "cell_type": "code",
   "execution_count": 49,
   "id": "1c6e260a-3967-4674-86f0-a25bea4317f3",
   "metadata": {},
   "outputs": [
    {
     "name": "stdout",
     "output_type": "stream",
     "text": [
      "45\n"
     ]
    }
   ],
   "source": [
    "int_value=45\n",
    "string_value=str(45)\n",
    "print(string_value)"
   ]
  },
  {
   "cell_type": "code",
   "execution_count": null,
   "id": "ea9615fc-a78f-4065-99d1-b13dd8f3b88c",
   "metadata": {},
   "outputs": [],
   "source": [
    "str to bool"
   ]
  },
  {
   "cell_type": "code",
   "execution_count": 45,
   "id": "212f907c-1a05-411a-b5c3-10726cc88973",
   "metadata": {},
   "outputs": [
    {
     "name": "stdout",
     "output_type": "stream",
     "text": [
      "True\n"
     ]
    }
   ],
   "source": [
    "x='Tinu'\n",
    "y=bool('Tinu')\n",
    "print(y)"
   ]
  },
  {
   "cell_type": "code",
   "execution_count": 47,
   "id": "0ae21078-2673-4fc5-9f26-0997474c56f8",
   "metadata": {},
   "outputs": [
    {
     "name": "stdout",
     "output_type": "stream",
     "text": [
      "False\n"
     ]
    }
   ],
   "source": [
    "x='Tinu'\n",
    "y=bool()\n",
    "print(y)"
   ]
  },
  {
   "cell_type": "code",
   "execution_count": null,
   "id": "9803dc59-7283-4ce8-9d3e-4452d40cdbfe",
   "metadata": {},
   "outputs": [],
   "source": []
  }
 ],
 "metadata": {
  "kernelspec": {
   "display_name": "Python [conda env:base] *",
   "language": "python",
   "name": "conda-base-py"
  },
  "language_info": {
   "codemirror_mode": {
    "name": "ipython",
    "version": 3
   },
   "file_extension": ".py",
   "mimetype": "text/x-python",
   "name": "python",
   "nbconvert_exporter": "python",
   "pygments_lexer": "ipython3",
   "version": "3.12.7"
  }
 },
 "nbformat": 4,
 "nbformat_minor": 5
}
