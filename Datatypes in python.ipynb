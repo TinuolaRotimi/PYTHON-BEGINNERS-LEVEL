{
 "cells": [
  {
   "cell_type": "markdown",
   "id": "764ad13a-004e-42b7-a977-5954cf59acfe",
   "metadata": {},
   "source": [
    "# DATA TYPES IN PYTHON"
   ]
  },
  {
   "cell_type": "raw",
   "id": "38544dce-a5f7-4e9c-a012-cbfd5d65c44a",
   "metadata": {},
   "source": [
    "INTEGER "
   ]
  },
  {
   "cell_type": "code",
   "execution_count": null,
   "id": "a0588f17-79db-4439-858a-a2cac5e359d5",
   "metadata": {},
   "outputs": [],
   "source": [
    "FLOAT"
   ]
  },
  {
   "cell_type": "code",
   "execution_count": null,
   "id": "d6ec7e67-0b6e-4ecd-9002-35218bc41052",
   "metadata": {},
   "outputs": [],
   "source": [
    "COMPLEX"
   ]
  },
  {
   "cell_type": "code",
   "execution_count": null,
   "id": "d0bb54d0-e571-490f-9e3e-3b5d6b3ecd7c",
   "metadata": {},
   "outputs": [],
   "source": [
    "BOOL"
   ]
  },
  {
   "cell_type": "code",
   "execution_count": null,
   "id": "96d76af8-3e90-4c9b-b535-ae9a69aa17b0",
   "metadata": {},
   "outputs": [],
   "source": [
    "STRING"
   ]
  },
  {
   "cell_type": "markdown",
   "id": "b84ea1ff-3faa-47a2-b851-722e46d5bbd2",
   "metadata": {},
   "source": [
    "# INTEGAR (INT)"
   ]
  },
  {
   "cell_type": "code",
   "execution_count": 14,
   "id": "0f703c7f-3189-4263-8f4a-822e1cc528fc",
   "metadata": {},
   "outputs": [],
   "source": [
    "x=10"
   ]
  },
  {
   "cell_type": "code",
   "execution_count": 16,
   "id": "9ca37a80-df63-47d8-9223-1026a15c3475",
   "metadata": {},
   "outputs": [],
   "source": [
    "y=-42"
   ]
  },
  {
   "cell_type": "code",
   "execution_count": 18,
   "id": "5877571f-6a7c-4a68-a6e6-9be89b0749b7",
   "metadata": {},
   "outputs": [],
   "source": [
    "z=0"
   ]
  },
  {
   "cell_type": "markdown",
   "id": "5d9c900c-52f0-42e0-b0a8-22ad20833d58",
   "metadata": {},
   "source": [
    "# addition"
   ]
  },
  {
   "cell_type": "code",
   "execution_count": 21,
   "id": "956047d4-39dc-46f7-91ad-698f7ee6864c",
   "metadata": {},
   "outputs": [
    {
     "name": "stdout",
     "output_type": "stream",
     "text": [
      "5\n"
     ]
    }
   ],
   "source": [
    "a=2\n",
    "b=3\n",
    "print(a+b)"
   ]
  },
  {
   "cell_type": "markdown",
   "id": "9a07e68a-1fe2-41d1-9c7b-3f40872f2d02",
   "metadata": {},
   "source": [
    "# subtraction "
   ]
  },
  {
   "cell_type": "code",
   "execution_count": 24,
   "id": "9763aa50-59c0-48aa-91c5-e5590587670b",
   "metadata": {},
   "outputs": [
    {
     "name": "stdout",
     "output_type": "stream",
     "text": [
      "2\n"
     ]
    }
   ],
   "source": [
    "a=5\n",
    "b=3\n",
    "print(a-b)"
   ]
  },
  {
   "cell_type": "markdown",
   "id": "1b33437a-3563-4c76-8f53-8559b8f2c0fa",
   "metadata": {},
   "source": [
    "# multiplication"
   ]
  },
  {
   "cell_type": "code",
   "execution_count": 27,
   "id": "81131cec-5796-4770-a7bd-c0fcb694b459",
   "metadata": {},
   "outputs": [
    {
     "name": "stdout",
     "output_type": "stream",
     "text": [
      "330\n"
     ]
    }
   ],
   "source": [
    "a=10\n",
    "b=33\n",
    "print(a*b)"
   ]
  },
  {
   "cell_type": "markdown",
   "id": "d7fa35a9-9ac2-4226-844b-4c3120494d72",
   "metadata": {},
   "source": [
    "# division"
   ]
  },
  {
   "cell_type": "code",
   "execution_count": 30,
   "id": "1dbd9067-4420-4b59-95cb-9aa785d12eee",
   "metadata": {},
   "outputs": [
    {
     "name": "stdout",
     "output_type": "stream",
     "text": [
      "33.333333333333336\n"
     ]
    }
   ],
   "source": [
    "a=200\n",
    "b=6\n",
    "print(a/b)"
   ]
  },
  {
   "cell_type": "markdown",
   "id": "c2ff9b7d-d35d-4a89-9e2d-43a35ef9f082",
   "metadata": {},
   "source": [
    "# FLOAT (floating point)"
   ]
  },
  {
   "cell_type": "code",
   "execution_count": null,
   "id": "ac97627c-2b3b-4364-8fcd-2e8dfe9747b3",
   "metadata": {},
   "outputs": [],
   "source": [
    "a=3.14"
   ]
  },
  {
   "cell_type": "code",
   "execution_count": null,
   "id": "2d8b377a-21ef-4f41-9a8a-6743b1d7a37e",
   "metadata": {},
   "outputs": [],
   "source": [
    "b=-0.001"
   ]
  },
  {
   "cell_type": "code",
   "execution_count": null,
   "id": "01652ec4-f749-44d1-91ad-a5d4c2897256",
   "metadata": {},
   "outputs": [],
   "source": [
    "c=2.0"
   ]
  },
  {
   "cell_type": "markdown",
   "id": "ade25b68-4377-4556-8082-8d4d515d2a8a",
   "metadata": {},
   "source": [
    "# addition"
   ]
  },
  {
   "cell_type": "code",
   "execution_count": 36,
   "id": "65788b13-cb8c-408b-8883-0b9fa38fddb3",
   "metadata": {},
   "outputs": [
    {
     "name": "stdout",
     "output_type": "stream",
     "text": [
      "28.94\n"
     ]
    }
   ],
   "source": [
    "a=3.14\n",
    "b=25.8\n",
    "print(a+b)"
   ]
  },
  {
   "cell_type": "markdown",
   "id": "d66cabe4-804f-4c6d-b248-53981e35e507",
   "metadata": {},
   "source": [
    "# subtraction"
   ]
  },
  {
   "cell_type": "code",
   "execution_count": 39,
   "id": "5f97003a-3000-44aa-9a83-7b49579a8c94",
   "metadata": {},
   "outputs": [
    {
     "name": "stdout",
     "output_type": "stream",
     "text": [
      "-22.66\n"
     ]
    }
   ],
   "source": [
    "a=3.14\n",
    "b=25.8\n",
    "print(a-b)"
   ]
  },
  {
   "cell_type": "markdown",
   "id": "008064ac-bbda-4b06-8031-bed7df8df844",
   "metadata": {},
   "source": [
    "# multiplication"
   ]
  },
  {
   "cell_type": "code",
   "execution_count": 42,
   "id": "122bbacc-e932-46d7-8693-79ecd9d0bfe4",
   "metadata": {},
   "outputs": [
    {
     "name": "stdout",
     "output_type": "stream",
     "text": [
      "81.012\n"
     ]
    }
   ],
   "source": [
    "a=3.14\n",
    "b=25.8\n",
    "print(a*b)"
   ]
  },
  {
   "cell_type": "markdown",
   "id": "bda227ef-6490-4f0f-aa08-a75e6857b13f",
   "metadata": {},
   "source": [
    "# division"
   ]
  },
  {
   "cell_type": "code",
   "execution_count": 45,
   "id": "ff8960dc-f54d-40d7-8e72-d948af167d91",
   "metadata": {},
   "outputs": [
    {
     "name": "stdout",
     "output_type": "stream",
     "text": [
      "0.12209302325581395\n"
     ]
    }
   ],
   "source": [
    "a=3.15\n",
    "b=25.8\n",
    "print(a/b)"
   ]
  },
  {
   "cell_type": "markdown",
   "id": "1e257a7f-cbe9-4e38-a6db-9079febaa9c9",
   "metadata": {},
   "source": [
    "# COMPLEX"
   ]
  },
  {
   "cell_type": "code",
   "execution_count": null,
   "id": "d5550100-a68a-430c-9502-8b2f64496364",
   "metadata": {},
   "outputs": [],
   "source": [
    "x=1+2j"
   ]
  },
  {
   "cell_type": "code",
   "execution_count": null,
   "id": "48fd5fb0-743b-4516-a34e-35b0c8cb5ca4",
   "metadata": {},
   "outputs": [],
   "source": [
    "y=-3-4j"
   ]
  },
  {
   "cell_type": "markdown",
   "id": "dd9b2518-4f60-4baf-8a4c-e209f5464c18",
   "metadata": {},
   "source": [
    "# addition"
   ]
  },
  {
   "cell_type": "code",
   "execution_count": 49,
   "id": "00d1f688-3c81-4404-9f25-17b41164816b",
   "metadata": {},
   "outputs": [
    {
     "name": "stdout",
     "output_type": "stream",
     "text": [
      "(3+7j)\n"
     ]
    }
   ],
   "source": [
    "x=1+2j\n",
    "y=2+5j\n",
    "print(x+y)"
   ]
  },
  {
   "cell_type": "markdown",
   "id": "3befb015-a71b-4a82-982a-fb93dbec2ecf",
   "metadata": {},
   "source": [
    "# subtraction"
   ]
  },
  {
   "cell_type": "code",
   "execution_count": 64,
   "id": "6b494512-7ec1-4ad7-8e1e-6d4c40818f52",
   "metadata": {},
   "outputs": [
    {
     "name": "stdout",
     "output_type": "stream",
     "text": [
      "(-1+3j)\n"
     ]
    }
   ],
   "source": [
    "x=1-2j\n",
    "y=2-5j\n",
    "print(x-y)"
   ]
  },
  {
   "cell_type": "markdown",
   "id": "02071aca-2956-48e2-97be-2ea5dec56393",
   "metadata": {},
   "source": [
    "# division"
   ]
  },
  {
   "cell_type": "code",
   "execution_count": 62,
   "id": "cec8136e-0f31-4d69-8749-e00d32f06e45",
   "metadata": {},
   "outputs": [
    {
     "name": "stdout",
     "output_type": "stream",
     "text": [
      "(1.25-0j)\n"
     ]
    }
   ],
   "source": [
    "x=1/2j\n",
    "y=2/5j\n",
    "print(x/y)"
   ]
  },
  {
   "cell_type": "markdown",
   "id": "642acfaf-02c6-45c2-b132-7e2fa59e9640",
   "metadata": {},
   "source": [
    "# multiplication"
   ]
  },
  {
   "cell_type": "code",
   "execution_count": 60,
   "id": "8b5dacc7-52b5-41ef-95e4-4af1c5a2c45f",
   "metadata": {},
   "outputs": [
    {
     "name": "stdout",
     "output_type": "stream",
     "text": [
      "(-20+0j)\n"
     ]
    }
   ],
   "source": [
    "x=1*2j\n",
    "y=2*5j\n",
    "print(x*y)"
   ]
  },
  {
   "cell_type": "markdown",
   "id": "299f418d-1e4b-4129-b0a7-a29dd46c4ac7",
   "metadata": {},
   "source": [
    "# BOOL"
   ]
  },
  {
   "cell_type": "code",
   "execution_count": null,
   "id": "7025a03b-876e-4137-8162-7d700f2ba2ee",
   "metadata": {},
   "outputs": [],
   "source": [
    "x= true"
   ]
  },
  {
   "cell_type": "code",
   "execution_count": null,
   "id": "2af70ea7-19b8-48fa-9b32-9a1332989d6b",
   "metadata": {},
   "outputs": [],
   "source": [
    "y=false"
   ]
  },
  {
   "cell_type": "markdown",
   "id": "85746287-acab-4c18-afd7-efc373d7d838",
   "metadata": {},
   "source": [
    "# code"
   ]
  },
  {
   "cell_type": "code",
   "execution_count": 74,
   "id": "bafffe45-160f-4305-8633-3cfe92cd6105",
   "metadata": {},
   "outputs": [
    {
     "name": "stdout",
     "output_type": "stream",
     "text": [
      "True\n",
      "False\n"
     ]
    }
   ],
   "source": [
    "x=True\n",
    "y=False\n",
    "print(x)\n",
    "print(y)"
   ]
  },
  {
   "cell_type": "markdown",
   "id": "8c5bde99-7e4e-4275-826d-36f97c20e7fc",
   "metadata": {},
   "source": [
    "# PROBLEM"
   ]
  },
  {
   "cell_type": "code",
   "execution_count": 92,
   "id": "e9fc2c32-64b9-433e-bfaa-a354d1afd0b1",
   "metadata": {},
   "outputs": [
    {
     "name": "stdout",
     "output_type": "stream",
     "text": [
      "True\n"
     ]
    }
   ],
   "source": [
    "print(5>3)"
   ]
  },
  {
   "cell_type": "code",
   "execution_count": 94,
   "id": "62b33983-f99f-430e-8bab-ede747b2ff9c",
   "metadata": {},
   "outputs": [
    {
     "name": "stdout",
     "output_type": "stream",
     "text": [
      "False\n"
     ]
    }
   ],
   "source": [
    "print(2==3)"
   ]
  },
  {
   "cell_type": "markdown",
   "id": "8b3a4ad7-e31d-40aa-b0f3-ab77962cc735",
   "metadata": {},
   "source": [
    "# STRING (STR)"
   ]
  },
  {
   "cell_type": "code",
   "execution_count": 97,
   "id": "b3c891e9-f96d-47e2-84dc-d4a6ea99f41d",
   "metadata": {},
   "outputs": [
    {
     "name": "stdout",
     "output_type": "stream",
     "text": [
      "Tinu\n"
     ]
    }
   ],
   "source": [
    "name='Tinu'\n",
    "print(name)"
   ]
  },
  {
   "cell_type": "markdown",
   "id": "f0981bbc-0c01-4aeb-9cc5-6898254c5878",
   "metadata": {},
   "source": [
    "# length "
   ]
  },
  {
   "cell_type": "code",
   "execution_count": 118,
   "id": "f98765cc-b236-4cb1-a923-c96f35e9ed10",
   "metadata": {},
   "outputs": [
    {
     "name": "stdout",
     "output_type": "stream",
     "text": [
      "4\n"
     ]
    }
   ],
   "source": [
    "length=len(\"Tinu\")\n",
    "print(length)"
   ]
  }
 ],
 "metadata": {
  "kernelspec": {
   "display_name": "Python [conda env:base] *",
   "language": "python",
   "name": "conda-base-py"
  },
  "language_info": {
   "codemirror_mode": {
    "name": "ipython",
    "version": 3
   },
   "file_extension": ".py",
   "mimetype": "text/x-python",
   "name": "python",
   "nbconvert_exporter": "python",
   "pygments_lexer": "ipython3",
   "version": "3.12.7"
  }
 },
 "nbformat": 4,
 "nbformat_minor": 5
}
