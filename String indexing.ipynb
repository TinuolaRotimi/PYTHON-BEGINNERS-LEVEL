{
 "cells": [
  {
   "cell_type": "markdown",
   "id": "2b47fd88-995a-4d55-b8bf-4c8b9a32a951",
   "metadata": {},
   "source": [
    "# STING INDEXING "
   ]
  },
  {
   "cell_type": "markdown",
   "id": "0816017d-3849-444a-9e1c-d7f97664a326",
   "metadata": {},
   "source": [
    "# forward indexing"
   ]
  },
  {
   "cell_type": "code",
   "execution_count": 17,
   "id": "bb9e983b-c5b3-4ffb-927a-35f0a7945f33",
   "metadata": {},
   "outputs": [
    {
     "data": {
      "text/plain": [
       "'h'"
      ]
     },
     "execution_count": 17,
     "metadata": {},
     "output_type": "execute_result"
    }
   ],
   "source": [
    "my_string='hello'\n",
    "my_string[0]"
   ]
  },
  {
   "cell_type": "code",
   "execution_count": 25,
   "id": "f3b8cff6-3510-44b4-aae7-2f3ea894bcd7",
   "metadata": {},
   "outputs": [
    {
     "data": {
      "text/plain": [
       "'u'"
      ]
     },
     "execution_count": 25,
     "metadata": {},
     "output_type": "execute_result"
    }
   ],
   "source": [
    "my_string='Tinu'\n",
    "my_string[3]"
   ]
  },
  {
   "cell_type": "code",
   "execution_count": 30,
   "id": "607e6d65-b9e8-44ad-9cd9-0c1aedca2b1a",
   "metadata": {},
   "outputs": [
    {
     "data": {
      "text/plain": [
       "'i'"
      ]
     },
     "execution_count": 30,
     "metadata": {},
     "output_type": "execute_result"
    }
   ],
   "source": [
    "my_string='Tinuola'\n",
    "my_string[1]"
   ]
  },
  {
   "cell_type": "code",
   "execution_count": 37,
   "id": "d0284e1b-971f-4878-98cb-a3cc24aed9f5",
   "metadata": {},
   "outputs": [
    {
     "data": {
      "text/plain": [
       "'l'"
      ]
     },
     "execution_count": 37,
     "metadata": {},
     "output_type": "execute_result"
    }
   ],
   "source": [
    "my_string='Tinuola'\n",
    "my_string[5]"
   ]
  },
  {
   "cell_type": "code",
   "execution_count": 34,
   "id": "a5d53112-7a02-478f-b1b6-e8148365b415",
   "metadata": {},
   "outputs": [
    {
     "data": {
      "text/plain": [
       "'a'"
      ]
     },
     "execution_count": 34,
     "metadata": {},
     "output_type": "execute_result"
    }
   ],
   "source": [
    "my_string='Tinuola'\n",
    "my_string[6]"
   ]
  },
  {
   "cell_type": "markdown",
   "id": "16d72c93-795c-4f8d-9276-745d4d54ae85",
   "metadata": {},
   "source": [
    "# backward indexing"
   ]
  },
  {
   "cell_type": "code",
   "execution_count": 40,
   "id": "164831b7-237b-4799-bd99-79ffba794a49",
   "metadata": {},
   "outputs": [
    {
     "data": {
      "text/plain": [
       "'a'"
      ]
     },
     "execution_count": 40,
     "metadata": {},
     "output_type": "execute_result"
    }
   ],
   "source": [
    "my_string='Tinuola'\n",
    "my_string[-1]"
   ]
  },
  {
   "cell_type": "code",
   "execution_count": 42,
   "id": "5af0ff76-74c5-4b63-8012-c1122b64e621",
   "metadata": {},
   "outputs": [
    {
     "data": {
      "text/plain": [
       "'o'"
      ]
     },
     "execution_count": 42,
     "metadata": {},
     "output_type": "execute_result"
    }
   ],
   "source": [
    "my_string='Tinuola'\n",
    "my_string[-3]"
   ]
  },
  {
   "cell_type": "code",
   "execution_count": 44,
   "id": "bd5a94fd-81d9-490e-a7f2-2bc5c2f92e78",
   "metadata": {},
   "outputs": [
    {
     "data": {
      "text/plain": [
       "'u'"
      ]
     },
     "execution_count": 44,
     "metadata": {},
     "output_type": "execute_result"
    }
   ],
   "source": [
    "my_string='Tinuola'\n",
    "my_string[-4]"
   ]
  },
  {
   "cell_type": "code",
   "execution_count": 46,
   "id": "8edeed39-cb78-4d06-8a99-7a0f2e8ce7dd",
   "metadata": {},
   "outputs": [
    {
     "data": {
      "text/plain": [
       "'i'"
      ]
     },
     "execution_count": 46,
     "metadata": {},
     "output_type": "execute_result"
    }
   ],
   "source": [
    "my_string='Tinuola'\n",
    "my_string[-6]"
   ]
  },
  {
   "cell_type": "code",
   "execution_count": 48,
   "id": "aecb61e0-ea24-4d1c-abbb-a233a24a90c7",
   "metadata": {},
   "outputs": [
    {
     "data": {
      "text/plain": [
       "'T'"
      ]
     },
     "execution_count": 48,
     "metadata": {},
     "output_type": "execute_result"
    }
   ],
   "source": [
    "my_string='Tinuola'\n",
    "my_string[-7]"
   ]
  }
 ],
 "metadata": {
  "kernelspec": {
   "display_name": "Python [conda env:base] *",
   "language": "python",
   "name": "conda-base-py"
  },
  "language_info": {
   "codemirror_mode": {
    "name": "ipython",
    "version": 3
   },
   "file_extension": ".py",
   "mimetype": "text/x-python",
   "name": "python",
   "nbconvert_exporter": "python",
   "pygments_lexer": "ipython3",
   "version": "3.12.7"
  }
 },
 "nbformat": 4,
 "nbformat_minor": 5
}
